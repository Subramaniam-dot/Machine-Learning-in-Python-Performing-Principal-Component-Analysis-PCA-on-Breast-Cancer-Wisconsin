{
  "nbformat": 4,
  "nbformat_minor": 0,
  "metadata": {
    "kernelspec": {
      "display_name": "Python 3",
      "language": "python",
      "name": "python3"
    },
    "language_info": {
      "codemirror_mode": {
        "name": "ipython",
        "version": 3
      },
      "file_extension": ".py",
      "mimetype": "text/x-python",
      "name": "python",
      "nbconvert_exporter": "python",
      "pygments_lexer": "ipython3",
      "version": "3.7.6"
    },
    "colab": {
      "name": "PCA_analysis.ipynb",
      "provenance": [],
      "collapsed_sections": [
        "993wzT_Qu6ld",
        "zIEVV6ilwmd-",
        "epeccObO2_mi",
        "OB_LvOxNW5Wx",
        "ZtIDXw_AfOwW"
      ]
    }
  },
  "cells": [
    {
      "cell_type": "markdown",
      "metadata": {
        "id": "_dhYUDq9u6lY",
        "colab_type": "text"
      },
      "source": [
        "# **Machine Learning in Python: Performing Principal Component Analysis (PCA) on Breast Cancer Wisconsin Diagnostic dataset**\n",
        "\n",
        "In this Jupyter notebook, we will be performing Principal Component Analysis (PCA) using the Breast Cancer Wisconsin Diagnostic data set as an example."
      ]
    },
    {
      "cell_type": "markdown",
      "metadata": {
        "id": "06FKTxWKxhS3",
        "colab_type": "text"
      },
      "source": [
        "---"
      ]
    },
    {
      "cell_type": "markdown",
      "metadata": {
        "id": "993wzT_Qu6ld",
        "colab_type": "text"
      },
      "source": [
        "## **1. Breast Cancer Wisconsin Diagnostic data set**"
      ]
    },
    {
      "cell_type": "markdown",
      "metadata": {
        "id": "JAoNQBkGxS4k",
        "colab_type": "text"
      },
      "source": [
        "### Load library"
      ]
    },
    {
      "cell_type": "code",
      "metadata": {
        "id": "J46-WhoNwu1M",
        "colab_type": "code",
        "colab": {}
      },
      "source": [
        "from sklearn import datasets"
      ],
      "execution_count": 1,
      "outputs": []
    },
    {
      "cell_type": "markdown",
      "metadata": {
        "id": "KOezq3OoxXOt",
        "colab_type": "text"
      },
      "source": [
        "### Load dataset"
      ]
    },
    {
      "cell_type": "code",
      "metadata": {
        "id": "i7tA2pJru6le",
        "colab_type": "code",
        "colab": {}
      },
      "source": [
        "bc = datasets.load_breast_cancer()"
      ],
      "execution_count": 2,
      "outputs": []
    },
    {
      "cell_type": "code",
      "metadata": {
        "id": "5Xv1Tq3N-i7J",
        "colab_type": "code",
        "colab": {
          "base_uri": "https://localhost:8080/",
          "height": 921
        },
        "outputId": "3c207adc-023b-4c77-8fc8-120d425d48b2"
      },
      "source": [
        "bc"
      ],
      "execution_count": 14,
      "outputs": [
        {
          "output_type": "execute_result",
          "data": {
            "text/plain": [
              "{'DESCR': '.. _breast_cancer_dataset:\\n\\nBreast cancer wisconsin (diagnostic) dataset\\n--------------------------------------------\\n\\n**Data Set Characteristics:**\\n\\n    :Number of Instances: 569\\n\\n    :Number of Attributes: 30 numeric, predictive attributes and the class\\n\\n    :Attribute Information:\\n        - radius (mean of distances from center to points on the perimeter)\\n        - texture (standard deviation of gray-scale values)\\n        - perimeter\\n        - area\\n        - smoothness (local variation in radius lengths)\\n        - compactness (perimeter^2 / area - 1.0)\\n        - concavity (severity of concave portions of the contour)\\n        - concave points (number of concave portions of the contour)\\n        - symmetry \\n        - fractal dimension (\"coastline approximation\" - 1)\\n\\n        The mean, standard error, and \"worst\" or largest (mean of the three\\n        largest values) of these features were computed for each image,\\n        resulting in 30 features.  For instance, field 3 is Mean Radius, field\\n        13 is Radius SE, field 23 is Worst Radius.\\n\\n        - class:\\n                - WDBC-Malignant\\n                - WDBC-Benign\\n\\n    :Summary Statistics:\\n\\n    ===================================== ====== ======\\n                                           Min    Max\\n    ===================================== ====== ======\\n    radius (mean):                        6.981  28.11\\n    texture (mean):                       9.71   39.28\\n    perimeter (mean):                     43.79  188.5\\n    area (mean):                          143.5  2501.0\\n    smoothness (mean):                    0.053  0.163\\n    compactness (mean):                   0.019  0.345\\n    concavity (mean):                     0.0    0.427\\n    concave points (mean):                0.0    0.201\\n    symmetry (mean):                      0.106  0.304\\n    fractal dimension (mean):             0.05   0.097\\n    radius (standard error):              0.112  2.873\\n    texture (standard error):             0.36   4.885\\n    perimeter (standard error):           0.757  21.98\\n    area (standard error):                6.802  542.2\\n    smoothness (standard error):          0.002  0.031\\n    compactness (standard error):         0.002  0.135\\n    concavity (standard error):           0.0    0.396\\n    concave points (standard error):      0.0    0.053\\n    symmetry (standard error):            0.008  0.079\\n    fractal dimension (standard error):   0.001  0.03\\n    radius (worst):                       7.93   36.04\\n    texture (worst):                      12.02  49.54\\n    perimeter (worst):                    50.41  251.2\\n    area (worst):                         185.2  4254.0\\n    smoothness (worst):                   0.071  0.223\\n    compactness (worst):                  0.027  1.058\\n    concavity (worst):                    0.0    1.252\\n    concave points (worst):               0.0    0.291\\n    symmetry (worst):                     0.156  0.664\\n    fractal dimension (worst):            0.055  0.208\\n    ===================================== ====== ======\\n\\n    :Missing Attribute Values: None\\n\\n    :Class Distribution: 212 - Malignant, 357 - Benign\\n\\n    :Creator:  Dr. William H. Wolberg, W. Nick Street, Olvi L. Mangasarian\\n\\n    :Donor: Nick Street\\n\\n    :Date: November, 1995\\n\\nThis is a copy of UCI ML Breast Cancer Wisconsin (Diagnostic) datasets.\\nhttps://goo.gl/U2Uwz2\\n\\nFeatures are computed from a digitized image of a fine needle\\naspirate (FNA) of a breast mass.  They describe\\ncharacteristics of the cell nuclei present in the image.\\n\\nSeparating plane described above was obtained using\\nMultisurface Method-Tree (MSM-T) [K. P. Bennett, \"Decision Tree\\nConstruction Via Linear Programming.\" Proceedings of the 4th\\nMidwest Artificial Intelligence and Cognitive Science Society,\\npp. 97-101, 1992], a classification method which uses linear\\nprogramming to construct a decision tree.  Relevant features\\nwere selected using an exhaustive search in the space of 1-4\\nfeatures and 1-3 separating planes.\\n\\nThe actual linear program used to obtain the separating plane\\nin the 3-dimensional space is that described in:\\n[K. P. Bennett and O. L. Mangasarian: \"Robust Linear\\nProgramming Discrimination of Two Linearly Inseparable Sets\",\\nOptimization Methods and Software 1, 1992, 23-34].\\n\\nThis database is also available through the UW CS ftp server:\\n\\nftp ftp.cs.wisc.edu\\ncd math-prog/cpo-dataset/machine-learn/WDBC/\\n\\n.. topic:: References\\n\\n   - W.N. Street, W.H. Wolberg and O.L. Mangasarian. Nuclear feature extraction \\n     for breast tumor diagnosis. IS&T/SPIE 1993 International Symposium on \\n     Electronic Imaging: Science and Technology, volume 1905, pages 861-870,\\n     San Jose, CA, 1993.\\n   - O.L. Mangasarian, W.N. Street and W.H. Wolberg. Breast cancer diagnosis and \\n     prognosis via linear programming. Operations Research, 43(4), pages 570-577, \\n     July-August 1995.\\n   - W.H. Wolberg, W.N. Street, and O.L. Mangasarian. Machine learning techniques\\n     to diagnose breast cancer from fine-needle aspirates. Cancer Letters 77 (1994) \\n     163-171.',\n",
              " 'data': array([[1.799e+01, 1.038e+01, 1.228e+02, ..., 2.654e-01, 4.601e-01,\n",
              "         1.189e-01],\n",
              "        [2.057e+01, 1.777e+01, 1.329e+02, ..., 1.860e-01, 2.750e-01,\n",
              "         8.902e-02],\n",
              "        [1.969e+01, 2.125e+01, 1.300e+02, ..., 2.430e-01, 3.613e-01,\n",
              "         8.758e-02],\n",
              "        ...,\n",
              "        [1.660e+01, 2.808e+01, 1.083e+02, ..., 1.418e-01, 2.218e-01,\n",
              "         7.820e-02],\n",
              "        [2.060e+01, 2.933e+01, 1.401e+02, ..., 2.650e-01, 4.087e-01,\n",
              "         1.240e-01],\n",
              "        [7.760e+00, 2.454e+01, 4.792e+01, ..., 0.000e+00, 2.871e-01,\n",
              "         7.039e-02]]),\n",
              " 'feature_names': array(['mean radius', 'mean texture', 'mean perimeter', 'mean area',\n",
              "        'mean smoothness', 'mean compactness', 'mean concavity',\n",
              "        'mean concave points', 'mean symmetry', 'mean fractal dimension',\n",
              "        'radius error', 'texture error', 'perimeter error', 'area error',\n",
              "        'smoothness error', 'compactness error', 'concavity error',\n",
              "        'concave points error', 'symmetry error',\n",
              "        'fractal dimension error', 'worst radius', 'worst texture',\n",
              "        'worst perimeter', 'worst area', 'worst smoothness',\n",
              "        'worst compactness', 'worst concavity', 'worst concave points',\n",
              "        'worst symmetry', 'worst fractal dimension'], dtype='<U23'),\n",
              " 'filename': '/usr/local/lib/python3.6/dist-packages/sklearn/datasets/data/breast_cancer.csv',\n",
              " 'target': array([0, 0, 0, 0, 0, 0, 0, 0, 0, 0, 0, 0, 0, 0, 0, 0, 0, 0, 0, 1, 1, 1,\n",
              "        0, 0, 0, 0, 0, 0, 0, 0, 0, 0, 0, 0, 0, 0, 0, 1, 0, 0, 0, 0, 0, 0,\n",
              "        0, 0, 1, 0, 1, 1, 1, 1, 1, 0, 0, 1, 0, 0, 1, 1, 1, 1, 0, 1, 0, 0,\n",
              "        1, 1, 1, 1, 0, 1, 0, 0, 1, 0, 1, 0, 0, 1, 1, 1, 0, 0, 1, 0, 0, 0,\n",
              "        1, 1, 1, 0, 1, 1, 0, 0, 1, 1, 1, 0, 0, 1, 1, 1, 1, 0, 1, 1, 0, 1,\n",
              "        1, 1, 1, 1, 1, 1, 1, 0, 0, 0, 1, 0, 0, 1, 1, 1, 0, 0, 1, 0, 1, 0,\n",
              "        0, 1, 0, 0, 1, 1, 0, 1, 1, 0, 1, 1, 1, 1, 0, 1, 1, 1, 1, 1, 1, 1,\n",
              "        1, 1, 0, 1, 1, 1, 1, 0, 0, 1, 0, 1, 1, 0, 0, 1, 1, 0, 0, 1, 1, 1,\n",
              "        1, 0, 1, 1, 0, 0, 0, 1, 0, 1, 0, 1, 1, 1, 0, 1, 1, 0, 0, 1, 0, 0,\n",
              "        0, 0, 1, 0, 0, 0, 1, 0, 1, 0, 1, 1, 0, 1, 0, 0, 0, 0, 1, 1, 0, 0,\n",
              "        1, 1, 1, 0, 1, 1, 1, 1, 1, 0, 0, 1, 1, 0, 1, 1, 0, 0, 1, 0, 1, 1,\n",
              "        1, 1, 0, 1, 1, 1, 1, 1, 0, 1, 0, 0, 0, 0, 0, 0, 0, 0, 0, 0, 0, 0,\n",
              "        0, 0, 1, 1, 1, 1, 1, 1, 0, 1, 0, 1, 1, 0, 1, 1, 0, 1, 0, 0, 1, 1,\n",
              "        1, 1, 1, 1, 1, 1, 1, 1, 1, 1, 1, 0, 1, 1, 0, 1, 0, 1, 1, 1, 1, 1,\n",
              "        1, 1, 1, 1, 1, 1, 1, 1, 1, 0, 1, 1, 1, 0, 1, 0, 1, 1, 1, 1, 0, 0,\n",
              "        0, 1, 1, 1, 1, 0, 1, 0, 1, 0, 1, 1, 1, 0, 1, 1, 1, 1, 1, 1, 1, 0,\n",
              "        0, 0, 1, 1, 1, 1, 1, 1, 1, 1, 1, 1, 1, 0, 0, 1, 0, 0, 0, 1, 0, 0,\n",
              "        1, 1, 1, 1, 1, 0, 1, 1, 1, 1, 1, 0, 1, 1, 1, 0, 1, 1, 0, 0, 1, 1,\n",
              "        1, 1, 1, 1, 0, 1, 1, 1, 1, 1, 1, 1, 0, 1, 1, 1, 1, 1, 0, 1, 1, 0,\n",
              "        1, 1, 1, 1, 1, 1, 1, 1, 1, 1, 1, 1, 0, 1, 0, 0, 1, 0, 1, 1, 1, 1,\n",
              "        1, 0, 1, 1, 0, 1, 0, 1, 1, 0, 1, 0, 1, 1, 1, 1, 1, 1, 1, 1, 0, 0,\n",
              "        1, 1, 1, 1, 1, 1, 0, 1, 1, 1, 1, 1, 1, 1, 1, 1, 1, 0, 1, 1, 1, 1,\n",
              "        1, 1, 1, 0, 1, 0, 1, 1, 0, 1, 1, 1, 1, 1, 0, 0, 1, 0, 1, 0, 1, 1,\n",
              "        1, 1, 1, 0, 1, 1, 0, 1, 0, 1, 0, 0, 1, 1, 1, 0, 1, 1, 1, 1, 1, 1,\n",
              "        1, 1, 1, 1, 1, 0, 1, 0, 0, 1, 1, 1, 1, 1, 1, 1, 1, 1, 1, 1, 1, 1,\n",
              "        1, 1, 1, 1, 1, 1, 1, 1, 1, 1, 1, 1, 0, 0, 0, 0, 0, 0, 1]),\n",
              " 'target_names': array(['malignant', 'benign'], dtype='<U9')}"
            ]
          },
          "metadata": {
            "tags": []
          },
          "execution_count": 14
        }
      ]
    },
    {
      "cell_type": "markdown",
      "metadata": {
        "id": "kkfLzx63u6li",
        "colab_type": "text"
      },
      "source": [
        "### Input features"
      ]
    },
    {
      "cell_type": "code",
      "metadata": {
        "scrolled": true,
        "id": "dsNpvJrau6li",
        "colab_type": "code",
        "colab": {
          "base_uri": "https://localhost:8080/",
          "height": 170
        },
        "outputId": "f58151db-677e-473d-d597-6ca0a8699538"
      },
      "source": [
        "print(bc.feature_names)"
      ],
      "execution_count": 3,
      "outputs": [
        {
          "output_type": "stream",
          "text": [
            "['mean radius' 'mean texture' 'mean perimeter' 'mean area'\n",
            " 'mean smoothness' 'mean compactness' 'mean concavity'\n",
            " 'mean concave points' 'mean symmetry' 'mean fractal dimension'\n",
            " 'radius error' 'texture error' 'perimeter error' 'area error'\n",
            " 'smoothness error' 'compactness error' 'concavity error'\n",
            " 'concave points error' 'symmetry error' 'fractal dimension error'\n",
            " 'worst radius' 'worst texture' 'worst perimeter' 'worst area'\n",
            " 'worst smoothness' 'worst compactness' 'worst concavity'\n",
            " 'worst concave points' 'worst symmetry' 'worst fractal dimension']\n"
          ],
          "name": "stdout"
        }
      ]
    },
    {
      "cell_type": "markdown",
      "metadata": {
        "id": "ZP_yudc_u6lm",
        "colab_type": "text"
      },
      "source": [
        "### Output features"
      ]
    },
    {
      "cell_type": "code",
      "metadata": {
        "id": "6drPiuLJu6lm",
        "colab_type": "code",
        "colab": {
          "base_uri": "https://localhost:8080/",
          "height": 34
        },
        "outputId": "86aa9873-8e2a-483c-d23c-aab4004ec3e7"
      },
      "source": [
        "print(bc.target_names)"
      ],
      "execution_count": 4,
      "outputs": [
        {
          "output_type": "stream",
          "text": [
            "['malignant' 'benign']\n"
          ],
          "name": "stdout"
        }
      ]
    },
    {
      "cell_type": "markdown",
      "metadata": {
        "id": "ok1mrQKBu6ly",
        "colab_type": "text"
      },
      "source": [
        "### Assigning Input (X) and Output (Y) variables\n",
        "Let's assign the 30 input variables to X and the output variable (class label) to Y"
      ]
    },
    {
      "cell_type": "code",
      "metadata": {
        "id": "4dRDJdZju6ly",
        "colab_type": "code",
        "colab": {}
      },
      "source": [
        "X = bc.data\n",
        "Y = bc.target"
      ],
      "execution_count": 5,
      "outputs": []
    },
    {
      "cell_type": "markdown",
      "metadata": {
        "id": "SITDccCXu6l1",
        "colab_type": "text"
      },
      "source": [
        "### Let's examine the data dimension"
      ]
    },
    {
      "cell_type": "code",
      "metadata": {
        "id": "BmM56CKxu6l2",
        "colab_type": "code",
        "colab": {
          "base_uri": "https://localhost:8080/",
          "height": 34
        },
        "outputId": "9021a62a-d704-4797-bed1-33041577de14"
      },
      "source": [
        "X.shape"
      ],
      "execution_count": 6,
      "outputs": [
        {
          "output_type": "execute_result",
          "data": {
            "text/plain": [
              "(569, 30)"
            ]
          },
          "metadata": {
            "tags": []
          },
          "execution_count": 6
        }
      ]
    },
    {
      "cell_type": "code",
      "metadata": {
        "id": "hGST4G-vu6l5",
        "colab_type": "code",
        "colab": {
          "base_uri": "https://localhost:8080/",
          "height": 34
        },
        "outputId": "580dda08-8526-47cc-edc9-07765955cb68"
      },
      "source": [
        "Y.shape"
      ],
      "execution_count": 7,
      "outputs": [
        {
          "output_type": "execute_result",
          "data": {
            "text/plain": [
              "(569,)"
            ]
          },
          "metadata": {
            "tags": []
          },
          "execution_count": 7
        }
      ]
    },
    {
      "cell_type": "markdown",
      "metadata": {
        "id": "I8v0oQWxwlY9",
        "colab_type": "text"
      },
      "source": [
        "---"
      ]
    },
    {
      "cell_type": "markdown",
      "metadata": {
        "id": "zIEVV6ilwmd-",
        "colab_type": "text"
      },
      "source": [
        "## **2. PCA analysis**"
      ]
    },
    {
      "cell_type": "markdown",
      "metadata": {
        "id": "ZKTWaerqP9Fn",
        "colab_type": "text"
      },
      "source": [
        "### 2.1. Load library"
      ]
    },
    {
      "cell_type": "code",
      "metadata": {
        "id": "VsYGSVAqyEfd",
        "colab_type": "code",
        "colab": {}
      },
      "source": [
        "from sklearn.preprocessing import scale # Data scaling\n",
        "from sklearn import decomposition #PCA\n",
        "import pandas as pd # pandas"
      ],
      "execution_count": 8,
      "outputs": []
    },
    {
      "cell_type": "markdown",
      "metadata": {
        "id": "-NgIE0Vaaw80",
        "colab_type": "text"
      },
      "source": [
        "### 2.2. Data scaling"
      ]
    },
    {
      "cell_type": "code",
      "metadata": {
        "id": "gwG7MVqWazvO",
        "colab_type": "code",
        "colab": {}
      },
      "source": [
        "X = scale(X)"
      ],
      "execution_count": 9,
      "outputs": []
    },
    {
      "cell_type": "markdown",
      "metadata": {
        "id": "e459eMWpQA5Y",
        "colab_type": "text"
      },
      "source": [
        "### 2.3. Perform PCA analysis"
      ]
    },
    {
      "cell_type": "markdown",
      "metadata": {
        "id": "ljxH8Hclbhpv",
        "colab_type": "text"
      },
      "source": [
        "Here we define the number of PC to use as 3"
      ]
    },
    {
      "cell_type": "code",
      "metadata": {
        "id": "xc4axaaBQJVh",
        "colab_type": "code",
        "colab": {
          "base_uri": "https://localhost:8080/",
          "height": 51
        },
        "outputId": "582d1a7e-e8d4-445e-b22d-981e012bc3f6"
      },
      "source": [
        "pca = decomposition.PCA(n_components=3)\n",
        "pca.fit(X)\n"
      ],
      "execution_count": 10,
      "outputs": [
        {
          "output_type": "execute_result",
          "data": {
            "text/plain": [
              "PCA(copy=True, iterated_power='auto', n_components=3, random_state=None,\n",
              "    svd_solver='auto', tol=0.0, whiten=False)"
            ]
          },
          "metadata": {
            "tags": []
          },
          "execution_count": 10
        }
      ]
    },
    {
      "cell_type": "markdown",
      "metadata": {
        "id": "b6-MMWHVbmoW",
        "colab_type": "text"
      },
      "source": [
        "#### 2.4. Compute and retrieve the **scores** values"
      ]
    },
    {
      "cell_type": "code",
      "metadata": {
        "id": "CvXA9dWbbecf",
        "colab_type": "code",
        "colab": {}
      },
      "source": [
        "scores = pca.transform(X)"
      ],
      "execution_count": 11,
      "outputs": []
    },
    {
      "cell_type": "code",
      "metadata": {
        "id": "LECV1kDAQcdG",
        "colab_type": "code",
        "colab": {
          "base_uri": "https://localhost:8080/",
          "height": 419
        },
        "outputId": "35fcfc36-668b-4b3c-ebc5-3c5c9d238b8b"
      },
      "source": [
        "scores_df = pd.DataFrame(scores, columns=['PC1', 'PC2', 'PC3'])\n",
        "scores_df"
      ],
      "execution_count": 12,
      "outputs": [
        {
          "output_type": "execute_result",
          "data": {
            "text/html": [
              "<div>\n",
              "<style scoped>\n",
              "    .dataframe tbody tr th:only-of-type {\n",
              "        vertical-align: middle;\n",
              "    }\n",
              "\n",
              "    .dataframe tbody tr th {\n",
              "        vertical-align: top;\n",
              "    }\n",
              "\n",
              "    .dataframe thead th {\n",
              "        text-align: right;\n",
              "    }\n",
              "</style>\n",
              "<table border=\"1\" class=\"dataframe\">\n",
              "  <thead>\n",
              "    <tr style=\"text-align: right;\">\n",
              "      <th></th>\n",
              "      <th>PC1</th>\n",
              "      <th>PC2</th>\n",
              "      <th>PC3</th>\n",
              "    </tr>\n",
              "  </thead>\n",
              "  <tbody>\n",
              "    <tr>\n",
              "      <th>0</th>\n",
              "      <td>9.192837</td>\n",
              "      <td>1.948583</td>\n",
              "      <td>-1.123166</td>\n",
              "    </tr>\n",
              "    <tr>\n",
              "      <th>1</th>\n",
              "      <td>2.387802</td>\n",
              "      <td>-3.768172</td>\n",
              "      <td>-0.529293</td>\n",
              "    </tr>\n",
              "    <tr>\n",
              "      <th>2</th>\n",
              "      <td>5.733896</td>\n",
              "      <td>-1.075174</td>\n",
              "      <td>-0.551748</td>\n",
              "    </tr>\n",
              "    <tr>\n",
              "      <th>3</th>\n",
              "      <td>7.122953</td>\n",
              "      <td>10.275589</td>\n",
              "      <td>-3.232790</td>\n",
              "    </tr>\n",
              "    <tr>\n",
              "      <th>4</th>\n",
              "      <td>3.935302</td>\n",
              "      <td>-1.948072</td>\n",
              "      <td>1.389767</td>\n",
              "    </tr>\n",
              "    <tr>\n",
              "      <th>...</th>\n",
              "      <td>...</td>\n",
              "      <td>...</td>\n",
              "      <td>...</td>\n",
              "    </tr>\n",
              "    <tr>\n",
              "      <th>564</th>\n",
              "      <td>6.439315</td>\n",
              "      <td>-3.576817</td>\n",
              "      <td>2.459487</td>\n",
              "    </tr>\n",
              "    <tr>\n",
              "      <th>565</th>\n",
              "      <td>3.793382</td>\n",
              "      <td>-3.584048</td>\n",
              "      <td>2.088476</td>\n",
              "    </tr>\n",
              "    <tr>\n",
              "      <th>566</th>\n",
              "      <td>1.256179</td>\n",
              "      <td>-1.902297</td>\n",
              "      <td>0.562731</td>\n",
              "    </tr>\n",
              "    <tr>\n",
              "      <th>567</th>\n",
              "      <td>10.374794</td>\n",
              "      <td>1.672010</td>\n",
              "      <td>-1.877029</td>\n",
              "    </tr>\n",
              "    <tr>\n",
              "      <th>568</th>\n",
              "      <td>-5.475243</td>\n",
              "      <td>-0.670637</td>\n",
              "      <td>1.490443</td>\n",
              "    </tr>\n",
              "  </tbody>\n",
              "</table>\n",
              "<p>569 rows × 3 columns</p>\n",
              "</div>"
            ],
            "text/plain": [
              "           PC1        PC2       PC3\n",
              "0     9.192837   1.948583 -1.123166\n",
              "1     2.387802  -3.768172 -0.529293\n",
              "2     5.733896  -1.075174 -0.551748\n",
              "3     7.122953  10.275589 -3.232790\n",
              "4     3.935302  -1.948072  1.389767\n",
              "..         ...        ...       ...\n",
              "564   6.439315  -3.576817  2.459487\n",
              "565   3.793382  -3.584048  2.088476\n",
              "566   1.256179  -1.902297  0.562731\n",
              "567  10.374794   1.672010 -1.877029\n",
              "568  -5.475243  -0.670637  1.490443\n",
              "\n",
              "[569 rows x 3 columns]"
            ]
          },
          "metadata": {
            "tags": []
          },
          "execution_count": 12
        }
      ]
    },
    {
      "cell_type": "code",
      "metadata": {
        "id": "7eFmcxcPQWgI",
        "colab_type": "code",
        "colab": {}
      },
      "source": [
        "Y_label = []\n",
        "\n",
        "for i in Y:\n",
        "  if i == 0:\n",
        "    Y_label.append('malignant')\n",
        "  else:\n",
        "    Y_label.append('benign')\n",
        "\n",
        "diagnosis = pd.DataFrame(Y_label, columns=['diagnosis'])"
      ],
      "execution_count": 16,
      "outputs": []
    },
    {
      "cell_type": "code",
      "metadata": {
        "id": "z7NGBibTSdP2",
        "colab_type": "code",
        "colab": {}
      },
      "source": [
        "df_scores = pd.concat([scores_df, diagnosis], axis=1)"
      ],
      "execution_count": 17,
      "outputs": []
    },
    {
      "cell_type": "markdown",
      "metadata": {
        "id": "hI6HiOUgbrbn",
        "colab_type": "text"
      },
      "source": [
        "#### 2.5. Retrieve the **loadings** values"
      ]
    },
    {
      "cell_type": "code",
      "metadata": {
        "id": "rmm75irIbdlD",
        "colab_type": "code",
        "colab": {
          "base_uri": "https://localhost:8080/",
          "height": 979
        },
        "outputId": "6289fef6-2d4c-4850-c9fe-b3dd17bf6e99"
      },
      "source": [
        "loadings = pca.components_.T\n",
        "df_loadings = pd.DataFrame(loadings, columns=['PC1', 'PC2','PC3'], index=bc.feature_names)\n",
        "df_loadings"
      ],
      "execution_count": 18,
      "outputs": [
        {
          "output_type": "execute_result",
          "data": {
            "text/html": [
              "<div>\n",
              "<style scoped>\n",
              "    .dataframe tbody tr th:only-of-type {\n",
              "        vertical-align: middle;\n",
              "    }\n",
              "\n",
              "    .dataframe tbody tr th {\n",
              "        vertical-align: top;\n",
              "    }\n",
              "\n",
              "    .dataframe thead th {\n",
              "        text-align: right;\n",
              "    }\n",
              "</style>\n",
              "<table border=\"1\" class=\"dataframe\">\n",
              "  <thead>\n",
              "    <tr style=\"text-align: right;\">\n",
              "      <th></th>\n",
              "      <th>PC1</th>\n",
              "      <th>PC2</th>\n",
              "      <th>PC3</th>\n",
              "    </tr>\n",
              "  </thead>\n",
              "  <tbody>\n",
              "    <tr>\n",
              "      <th>mean radius</th>\n",
              "      <td>0.218902</td>\n",
              "      <td>-0.233857</td>\n",
              "      <td>-0.008531</td>\n",
              "    </tr>\n",
              "    <tr>\n",
              "      <th>mean texture</th>\n",
              "      <td>0.103725</td>\n",
              "      <td>-0.059706</td>\n",
              "      <td>0.064550</td>\n",
              "    </tr>\n",
              "    <tr>\n",
              "      <th>mean perimeter</th>\n",
              "      <td>0.227537</td>\n",
              "      <td>-0.215181</td>\n",
              "      <td>-0.009314</td>\n",
              "    </tr>\n",
              "    <tr>\n",
              "      <th>mean area</th>\n",
              "      <td>0.220995</td>\n",
              "      <td>-0.231077</td>\n",
              "      <td>0.028700</td>\n",
              "    </tr>\n",
              "    <tr>\n",
              "      <th>mean smoothness</th>\n",
              "      <td>0.142590</td>\n",
              "      <td>0.186113</td>\n",
              "      <td>-0.104292</td>\n",
              "    </tr>\n",
              "    <tr>\n",
              "      <th>mean compactness</th>\n",
              "      <td>0.239285</td>\n",
              "      <td>0.151892</td>\n",
              "      <td>-0.074092</td>\n",
              "    </tr>\n",
              "    <tr>\n",
              "      <th>mean concavity</th>\n",
              "      <td>0.258400</td>\n",
              "      <td>0.060165</td>\n",
              "      <td>0.002734</td>\n",
              "    </tr>\n",
              "    <tr>\n",
              "      <th>mean concave points</th>\n",
              "      <td>0.260854</td>\n",
              "      <td>-0.034767</td>\n",
              "      <td>-0.025564</td>\n",
              "    </tr>\n",
              "    <tr>\n",
              "      <th>mean symmetry</th>\n",
              "      <td>0.138167</td>\n",
              "      <td>0.190349</td>\n",
              "      <td>-0.040240</td>\n",
              "    </tr>\n",
              "    <tr>\n",
              "      <th>mean fractal dimension</th>\n",
              "      <td>0.064363</td>\n",
              "      <td>0.366575</td>\n",
              "      <td>-0.022574</td>\n",
              "    </tr>\n",
              "    <tr>\n",
              "      <th>radius error</th>\n",
              "      <td>0.205979</td>\n",
              "      <td>-0.105552</td>\n",
              "      <td>0.268481</td>\n",
              "    </tr>\n",
              "    <tr>\n",
              "      <th>texture error</th>\n",
              "      <td>0.017428</td>\n",
              "      <td>0.089980</td>\n",
              "      <td>0.374634</td>\n",
              "    </tr>\n",
              "    <tr>\n",
              "      <th>perimeter error</th>\n",
              "      <td>0.211326</td>\n",
              "      <td>-0.089457</td>\n",
              "      <td>0.266645</td>\n",
              "    </tr>\n",
              "    <tr>\n",
              "      <th>area error</th>\n",
              "      <td>0.202870</td>\n",
              "      <td>-0.152293</td>\n",
              "      <td>0.216007</td>\n",
              "    </tr>\n",
              "    <tr>\n",
              "      <th>smoothness error</th>\n",
              "      <td>0.014531</td>\n",
              "      <td>0.204430</td>\n",
              "      <td>0.308839</td>\n",
              "    </tr>\n",
              "    <tr>\n",
              "      <th>compactness error</th>\n",
              "      <td>0.170393</td>\n",
              "      <td>0.232716</td>\n",
              "      <td>0.154780</td>\n",
              "    </tr>\n",
              "    <tr>\n",
              "      <th>concavity error</th>\n",
              "      <td>0.153590</td>\n",
              "      <td>0.197207</td>\n",
              "      <td>0.176464</td>\n",
              "    </tr>\n",
              "    <tr>\n",
              "      <th>concave points error</th>\n",
              "      <td>0.183417</td>\n",
              "      <td>0.130322</td>\n",
              "      <td>0.224658</td>\n",
              "    </tr>\n",
              "    <tr>\n",
              "      <th>symmetry error</th>\n",
              "      <td>0.042498</td>\n",
              "      <td>0.183848</td>\n",
              "      <td>0.288584</td>\n",
              "    </tr>\n",
              "    <tr>\n",
              "      <th>fractal dimension error</th>\n",
              "      <td>0.102568</td>\n",
              "      <td>0.280092</td>\n",
              "      <td>0.211504</td>\n",
              "    </tr>\n",
              "    <tr>\n",
              "      <th>worst radius</th>\n",
              "      <td>0.227997</td>\n",
              "      <td>-0.219866</td>\n",
              "      <td>-0.047507</td>\n",
              "    </tr>\n",
              "    <tr>\n",
              "      <th>worst texture</th>\n",
              "      <td>0.104469</td>\n",
              "      <td>-0.045467</td>\n",
              "      <td>-0.042298</td>\n",
              "    </tr>\n",
              "    <tr>\n",
              "      <th>worst perimeter</th>\n",
              "      <td>0.236640</td>\n",
              "      <td>-0.199878</td>\n",
              "      <td>-0.048547</td>\n",
              "    </tr>\n",
              "    <tr>\n",
              "      <th>worst area</th>\n",
              "      <td>0.224871</td>\n",
              "      <td>-0.219352</td>\n",
              "      <td>-0.011902</td>\n",
              "    </tr>\n",
              "    <tr>\n",
              "      <th>worst smoothness</th>\n",
              "      <td>0.127953</td>\n",
              "      <td>0.172304</td>\n",
              "      <td>-0.259798</td>\n",
              "    </tr>\n",
              "    <tr>\n",
              "      <th>worst compactness</th>\n",
              "      <td>0.210096</td>\n",
              "      <td>0.143593</td>\n",
              "      <td>-0.236076</td>\n",
              "    </tr>\n",
              "    <tr>\n",
              "      <th>worst concavity</th>\n",
              "      <td>0.228768</td>\n",
              "      <td>0.097964</td>\n",
              "      <td>-0.173057</td>\n",
              "    </tr>\n",
              "    <tr>\n",
              "      <th>worst concave points</th>\n",
              "      <td>0.250886</td>\n",
              "      <td>-0.008257</td>\n",
              "      <td>-0.170344</td>\n",
              "    </tr>\n",
              "    <tr>\n",
              "      <th>worst symmetry</th>\n",
              "      <td>0.122905</td>\n",
              "      <td>0.141883</td>\n",
              "      <td>-0.271313</td>\n",
              "    </tr>\n",
              "    <tr>\n",
              "      <th>worst fractal dimension</th>\n",
              "      <td>0.131784</td>\n",
              "      <td>0.275339</td>\n",
              "      <td>-0.232791</td>\n",
              "    </tr>\n",
              "  </tbody>\n",
              "</table>\n",
              "</div>"
            ],
            "text/plain": [
              "                              PC1       PC2       PC3\n",
              "mean radius              0.218902 -0.233857 -0.008531\n",
              "mean texture             0.103725 -0.059706  0.064550\n",
              "mean perimeter           0.227537 -0.215181 -0.009314\n",
              "mean area                0.220995 -0.231077  0.028700\n",
              "mean smoothness          0.142590  0.186113 -0.104292\n",
              "mean compactness         0.239285  0.151892 -0.074092\n",
              "mean concavity           0.258400  0.060165  0.002734\n",
              "mean concave points      0.260854 -0.034767 -0.025564\n",
              "mean symmetry            0.138167  0.190349 -0.040240\n",
              "mean fractal dimension   0.064363  0.366575 -0.022574\n",
              "radius error             0.205979 -0.105552  0.268481\n",
              "texture error            0.017428  0.089980  0.374634\n",
              "perimeter error          0.211326 -0.089457  0.266645\n",
              "area error               0.202870 -0.152293  0.216007\n",
              "smoothness error         0.014531  0.204430  0.308839\n",
              "compactness error        0.170393  0.232716  0.154780\n",
              "concavity error          0.153590  0.197207  0.176464\n",
              "concave points error     0.183417  0.130322  0.224658\n",
              "symmetry error           0.042498  0.183848  0.288584\n",
              "fractal dimension error  0.102568  0.280092  0.211504\n",
              "worst radius             0.227997 -0.219866 -0.047507\n",
              "worst texture            0.104469 -0.045467 -0.042298\n",
              "worst perimeter          0.236640 -0.199878 -0.048547\n",
              "worst area               0.224871 -0.219352 -0.011902\n",
              "worst smoothness         0.127953  0.172304 -0.259798\n",
              "worst compactness        0.210096  0.143593 -0.236076\n",
              "worst concavity          0.228768  0.097964 -0.173057\n",
              "worst concave points     0.250886 -0.008257 -0.170344\n",
              "worst symmetry           0.122905  0.141883 -0.271313\n",
              "worst fractal dimension  0.131784  0.275339 -0.232791"
            ]
          },
          "metadata": {
            "tags": []
          },
          "execution_count": 18
        }
      ]
    },
    {
      "cell_type": "markdown",
      "metadata": {
        "id": "ltOVa090b7EN",
        "colab_type": "text"
      },
      "source": [
        "#### 2.6. **Explained variance** for each PC"
      ]
    },
    {
      "cell_type": "code",
      "metadata": {
        "id": "tWpnfz3qY6Ip",
        "colab_type": "code",
        "colab": {
          "base_uri": "https://localhost:8080/",
          "height": 34
        },
        "outputId": "261a1216-fe15-4f9e-b267-266cdbcd1283"
      },
      "source": [
        "explained_variance = pca.explained_variance_ratio_\n",
        "explained_variance"
      ],
      "execution_count": 19,
      "outputs": [
        {
          "output_type": "execute_result",
          "data": {
            "text/plain": [
              "array([0.44272026, 0.18971182, 0.09393163])"
            ]
          },
          "metadata": {
            "tags": []
          },
          "execution_count": 19
        }
      ]
    },
    {
      "cell_type": "markdown",
      "metadata": {
        "id": "epeccObO2_mi",
        "colab_type": "text"
      },
      "source": [
        "## **3. Scree Plot**"
      ]
    },
    {
      "cell_type": "markdown",
      "metadata": {
        "id": "b2MBGLQW79MO",
        "colab_type": "text"
      },
      "source": [
        "### 3.1. Import library"
      ]
    },
    {
      "cell_type": "code",
      "metadata": {
        "id": "6437d-bE75HO",
        "colab_type": "code",
        "colab": {}
      },
      "source": [
        "import numpy as np\n",
        "import plotly.express as px"
      ],
      "execution_count": 20,
      "outputs": []
    },
    {
      "cell_type": "markdown",
      "metadata": {
        "id": "AnjyJVWQ8GOd",
        "colab_type": "text"
      },
      "source": [
        "### 3.2. Preparing explained variance and cumulative variance"
      ]
    },
    {
      "cell_type": "markdown",
      "metadata": {
        "id": "v-D9U-xmoA1D",
        "colab_type": "text"
      },
      "source": [
        "#### 3.2.1. Preparing the explained variance data"
      ]
    },
    {
      "cell_type": "code",
      "metadata": {
        "id": "JX9Pw88l336w",
        "colab_type": "code",
        "colab": {
          "base_uri": "https://localhost:8080/",
          "height": 34
        },
        "outputId": "74211ea9-a353-44bf-ee68-c6889504b899"
      },
      "source": [
        "explained_variance"
      ],
      "execution_count": 21,
      "outputs": [
        {
          "output_type": "execute_result",
          "data": {
            "text/plain": [
              "array([0.44272026, 0.18971182, 0.09393163])"
            ]
          },
          "metadata": {
            "tags": []
          },
          "execution_count": 21
        }
      ]
    },
    {
      "cell_type": "code",
      "metadata": {
        "id": "uBDTjyQad7Qv",
        "colab_type": "code",
        "colab": {}
      },
      "source": [
        "explained_variance = np.insert(explained_variance, 0, 0)"
      ],
      "execution_count": 22,
      "outputs": []
    },
    {
      "cell_type": "markdown",
      "metadata": {
        "id": "DArGTefqoGJb",
        "colab_type": "text"
      },
      "source": [
        "#### 3.2.2. Preparing the cumulative variance data"
      ]
    },
    {
      "cell_type": "code",
      "metadata": {
        "id": "0XRQQBxD71aS",
        "colab_type": "code",
        "colab": {}
      },
      "source": [
        "cumulative_variance = np.cumsum(np.round(explained_variance, decimals=3))"
      ],
      "execution_count": 23,
      "outputs": []
    },
    {
      "cell_type": "markdown",
      "metadata": {
        "id": "RJeJEaVxoI-F",
        "colab_type": "text"
      },
      "source": [
        "#### 3.2.3. Combining the dataframe"
      ]
    },
    {
      "cell_type": "code",
      "metadata": {
        "id": "9jiI53l44kd2",
        "colab_type": "code",
        "colab": {}
      },
      "source": [
        "pc_df = pd.DataFrame(['','PC1', 'PC2', 'PC3'], columns=['PC'])\n",
        "explained_variance_df = pd.DataFrame(explained_variance, columns=['Explained Variance'])\n",
        "cumulative_variance_df = pd.DataFrame(cumulative_variance, columns=['Cumulative Variance'])"
      ],
      "execution_count": 24,
      "outputs": []
    },
    {
      "cell_type": "code",
      "metadata": {
        "id": "L6LUZkeo6S5C",
        "colab_type": "code",
        "colab": {
          "base_uri": "https://localhost:8080/",
          "height": 173
        },
        "outputId": "e43f3edc-8762-45c2-8f1e-dcf06fe01682"
      },
      "source": [
        "df_explained_variance = pd.concat([pc_df, explained_variance_df, cumulative_variance_df], axis=1)\n",
        "df_explained_variance"
      ],
      "execution_count": 25,
      "outputs": [
        {
          "output_type": "execute_result",
          "data": {
            "text/html": [
              "<div>\n",
              "<style scoped>\n",
              "    .dataframe tbody tr th:only-of-type {\n",
              "        vertical-align: middle;\n",
              "    }\n",
              "\n",
              "    .dataframe tbody tr th {\n",
              "        vertical-align: top;\n",
              "    }\n",
              "\n",
              "    .dataframe thead th {\n",
              "        text-align: right;\n",
              "    }\n",
              "</style>\n",
              "<table border=\"1\" class=\"dataframe\">\n",
              "  <thead>\n",
              "    <tr style=\"text-align: right;\">\n",
              "      <th></th>\n",
              "      <th>PC</th>\n",
              "      <th>Explained Variance</th>\n",
              "      <th>Cumulative Variance</th>\n",
              "    </tr>\n",
              "  </thead>\n",
              "  <tbody>\n",
              "    <tr>\n",
              "      <th>0</th>\n",
              "      <td></td>\n",
              "      <td>0.000000</td>\n",
              "      <td>0.000</td>\n",
              "    </tr>\n",
              "    <tr>\n",
              "      <th>1</th>\n",
              "      <td>PC1</td>\n",
              "      <td>0.442720</td>\n",
              "      <td>0.443</td>\n",
              "    </tr>\n",
              "    <tr>\n",
              "      <th>2</th>\n",
              "      <td>PC2</td>\n",
              "      <td>0.189712</td>\n",
              "      <td>0.633</td>\n",
              "    </tr>\n",
              "    <tr>\n",
              "      <th>3</th>\n",
              "      <td>PC3</td>\n",
              "      <td>0.093932</td>\n",
              "      <td>0.727</td>\n",
              "    </tr>\n",
              "  </tbody>\n",
              "</table>\n",
              "</div>"
            ],
            "text/plain": [
              "    PC  Explained Variance  Cumulative Variance\n",
              "0                 0.000000                0.000\n",
              "1  PC1            0.442720                0.443\n",
              "2  PC2            0.189712                0.633\n",
              "3  PC3            0.093932                0.727"
            ]
          },
          "metadata": {
            "tags": []
          },
          "execution_count": 25
        }
      ]
    },
    {
      "cell_type": "markdown",
      "metadata": {
        "id": "zH-g7oLwoayT",
        "colab_type": "text"
      },
      "source": [
        "#### 3.2.4. Making the scree plot"
      ]
    },
    {
      "cell_type": "markdown",
      "metadata": {
        "id": "0ZLF0ShyojlD",
        "colab_type": "text"
      },
      "source": [
        "##### 3.2.4.1. Explained Variance"
      ]
    },
    {
      "cell_type": "code",
      "metadata": {
        "id": "07omP_Un3Qjk",
        "colab_type": "code",
        "colab": {
          "base_uri": "https://localhost:8080/",
          "height": 542
        },
        "outputId": "b8cb08a3-7738-4620-a936-d9a7ef8100b5"
      },
      "source": [
        "# https://plotly.com/python/bar-charts/\n",
        "\n",
        "fig = px.bar(df_explained_variance, \n",
        "             x='PC', y='Explained Variance',\n",
        "             text='Explained Variance',\n",
        "             width=800)\n",
        "\n",
        "fig.update_traces(texttemplate='%{text:.3f}', textposition='outside')\n",
        "fig.show()"
      ],
      "execution_count": 26,
      "outputs": [
        {
          "output_type": "display_data",
          "data": {
            "text/html": [
              "<html>\n",
              "<head><meta charset=\"utf-8\" /></head>\n",
              "<body>\n",
              "    <div>\n",
              "            <script src=\"https://cdnjs.cloudflare.com/ajax/libs/mathjax/2.7.5/MathJax.js?config=TeX-AMS-MML_SVG\"></script><script type=\"text/javascript\">if (window.MathJax) {MathJax.Hub.Config({SVG: {font: \"STIX-Web\"}});}</script>\n",
              "                <script type=\"text/javascript\">window.PlotlyConfig = {MathJaxConfig: 'local'};</script>\n",
              "        <script src=\"https://cdn.plot.ly/plotly-latest.min.js\"></script>    \n",
              "            <div id=\"5e39b335-e689-401e-864d-6391dbfd7332\" class=\"plotly-graph-div\" style=\"height:525px; width:800px;\"></div>\n",
              "            <script type=\"text/javascript\">\n",
              "                \n",
              "                    window.PLOTLYENV=window.PLOTLYENV || {};\n",
              "                    \n",
              "                if (document.getElementById(\"5e39b335-e689-401e-864d-6391dbfd7332\")) {\n",
              "                    Plotly.newPlot(\n",
              "                        '5e39b335-e689-401e-864d-6391dbfd7332',\n",
              "                        [{\"alignmentgroup\": \"True\", \"hoverlabel\": {\"namelength\": 0}, \"hovertemplate\": \"PC=%{x}<br>Explained Variance=%{text}\", \"legendgroup\": \"\", \"marker\": {\"color\": \"#636efa\"}, \"name\": \"\", \"offsetgroup\": \"\", \"orientation\": \"v\", \"showlegend\": false, \"text\": [0.0, 0.4427202560752634, 0.18971182044032947, 0.09393163257428125], \"textposition\": \"outside\", \"texttemplate\": \"%{text:.3f}\", \"type\": \"bar\", \"x\": [\"\", \"PC1\", \"PC2\", \"PC3\"], \"xaxis\": \"x\", \"y\": [0.0, 0.4427202560752634, 0.18971182044032947, 0.09393163257428125], \"yaxis\": \"y\"}],\n",
              "                        {\"barmode\": \"relative\", \"legend\": {\"tracegroupgap\": 0}, \"margin\": {\"t\": 60}, \"template\": {\"data\": {\"bar\": [{\"error_x\": {\"color\": \"#2a3f5f\"}, \"error_y\": {\"color\": \"#2a3f5f\"}, \"marker\": {\"line\": {\"color\": \"#E5ECF6\", \"width\": 0.5}}, \"type\": \"bar\"}], \"barpolar\": [{\"marker\": {\"line\": {\"color\": \"#E5ECF6\", \"width\": 0.5}}, \"type\": \"barpolar\"}], \"carpet\": [{\"aaxis\": {\"endlinecolor\": \"#2a3f5f\", \"gridcolor\": \"white\", \"linecolor\": \"white\", \"minorgridcolor\": \"white\", \"startlinecolor\": \"#2a3f5f\"}, \"baxis\": {\"endlinecolor\": \"#2a3f5f\", \"gridcolor\": \"white\", \"linecolor\": \"white\", \"minorgridcolor\": \"white\", \"startlinecolor\": \"#2a3f5f\"}, \"type\": \"carpet\"}], \"choropleth\": [{\"colorbar\": {\"outlinewidth\": 0, \"ticks\": \"\"}, \"type\": \"choropleth\"}], \"contour\": [{\"colorbar\": {\"outlinewidth\": 0, \"ticks\": \"\"}, \"colorscale\": [[0.0, \"#0d0887\"], [0.1111111111111111, \"#46039f\"], [0.2222222222222222, \"#7201a8\"], [0.3333333333333333, \"#9c179e\"], [0.4444444444444444, \"#bd3786\"], [0.5555555555555556, \"#d8576b\"], [0.6666666666666666, \"#ed7953\"], [0.7777777777777778, \"#fb9f3a\"], [0.8888888888888888, \"#fdca26\"], [1.0, \"#f0f921\"]], \"type\": \"contour\"}], \"contourcarpet\": [{\"colorbar\": {\"outlinewidth\": 0, \"ticks\": \"\"}, \"type\": \"contourcarpet\"}], \"heatmap\": [{\"colorbar\": {\"outlinewidth\": 0, \"ticks\": \"\"}, \"colorscale\": [[0.0, \"#0d0887\"], [0.1111111111111111, \"#46039f\"], [0.2222222222222222, \"#7201a8\"], [0.3333333333333333, \"#9c179e\"], [0.4444444444444444, \"#bd3786\"], [0.5555555555555556, \"#d8576b\"], [0.6666666666666666, \"#ed7953\"], [0.7777777777777778, \"#fb9f3a\"], [0.8888888888888888, \"#fdca26\"], [1.0, \"#f0f921\"]], \"type\": \"heatmap\"}], \"heatmapgl\": [{\"colorbar\": {\"outlinewidth\": 0, \"ticks\": \"\"}, \"colorscale\": [[0.0, \"#0d0887\"], [0.1111111111111111, \"#46039f\"], [0.2222222222222222, \"#7201a8\"], [0.3333333333333333, \"#9c179e\"], [0.4444444444444444, \"#bd3786\"], [0.5555555555555556, \"#d8576b\"], [0.6666666666666666, \"#ed7953\"], [0.7777777777777778, \"#fb9f3a\"], [0.8888888888888888, \"#fdca26\"], [1.0, \"#f0f921\"]], \"type\": \"heatmapgl\"}], \"histogram\": [{\"marker\": {\"colorbar\": {\"outlinewidth\": 0, \"ticks\": \"\"}}, \"type\": \"histogram\"}], \"histogram2d\": [{\"colorbar\": {\"outlinewidth\": 0, \"ticks\": \"\"}, \"colorscale\": [[0.0, \"#0d0887\"], [0.1111111111111111, \"#46039f\"], [0.2222222222222222, \"#7201a8\"], [0.3333333333333333, \"#9c179e\"], [0.4444444444444444, \"#bd3786\"], [0.5555555555555556, \"#d8576b\"], [0.6666666666666666, \"#ed7953\"], [0.7777777777777778, \"#fb9f3a\"], [0.8888888888888888, \"#fdca26\"], [1.0, \"#f0f921\"]], \"type\": \"histogram2d\"}], \"histogram2dcontour\": [{\"colorbar\": {\"outlinewidth\": 0, \"ticks\": \"\"}, \"colorscale\": [[0.0, \"#0d0887\"], [0.1111111111111111, \"#46039f\"], [0.2222222222222222, \"#7201a8\"], [0.3333333333333333, \"#9c179e\"], [0.4444444444444444, \"#bd3786\"], [0.5555555555555556, \"#d8576b\"], [0.6666666666666666, \"#ed7953\"], [0.7777777777777778, \"#fb9f3a\"], [0.8888888888888888, \"#fdca26\"], [1.0, \"#f0f921\"]], \"type\": \"histogram2dcontour\"}], \"mesh3d\": [{\"colorbar\": {\"outlinewidth\": 0, \"ticks\": \"\"}, \"type\": \"mesh3d\"}], \"parcoords\": [{\"line\": {\"colorbar\": {\"outlinewidth\": 0, \"ticks\": \"\"}}, \"type\": \"parcoords\"}], \"pie\": [{\"automargin\": true, \"type\": \"pie\"}], \"scatter\": [{\"marker\": {\"colorbar\": {\"outlinewidth\": 0, \"ticks\": \"\"}}, \"type\": \"scatter\"}], \"scatter3d\": [{\"line\": {\"colorbar\": {\"outlinewidth\": 0, \"ticks\": \"\"}}, \"marker\": {\"colorbar\": {\"outlinewidth\": 0, \"ticks\": \"\"}}, \"type\": \"scatter3d\"}], \"scattercarpet\": [{\"marker\": {\"colorbar\": {\"outlinewidth\": 0, \"ticks\": \"\"}}, \"type\": \"scattercarpet\"}], \"scattergeo\": [{\"marker\": {\"colorbar\": {\"outlinewidth\": 0, \"ticks\": \"\"}}, \"type\": \"scattergeo\"}], \"scattergl\": [{\"marker\": {\"colorbar\": {\"outlinewidth\": 0, \"ticks\": \"\"}}, \"type\": \"scattergl\"}], \"scattermapbox\": [{\"marker\": {\"colorbar\": {\"outlinewidth\": 0, \"ticks\": \"\"}}, \"type\": \"scattermapbox\"}], \"scatterpolar\": [{\"marker\": {\"colorbar\": {\"outlinewidth\": 0, \"ticks\": \"\"}}, \"type\": \"scatterpolar\"}], \"scatterpolargl\": [{\"marker\": {\"colorbar\": {\"outlinewidth\": 0, \"ticks\": \"\"}}, \"type\": \"scatterpolargl\"}], \"scatterternary\": [{\"marker\": {\"colorbar\": {\"outlinewidth\": 0, \"ticks\": \"\"}}, \"type\": \"scatterternary\"}], \"surface\": [{\"colorbar\": {\"outlinewidth\": 0, \"ticks\": \"\"}, \"colorscale\": [[0.0, \"#0d0887\"], [0.1111111111111111, \"#46039f\"], [0.2222222222222222, \"#7201a8\"], [0.3333333333333333, \"#9c179e\"], [0.4444444444444444, \"#bd3786\"], [0.5555555555555556, \"#d8576b\"], [0.6666666666666666, \"#ed7953\"], [0.7777777777777778, \"#fb9f3a\"], [0.8888888888888888, \"#fdca26\"], [1.0, \"#f0f921\"]], \"type\": \"surface\"}], \"table\": [{\"cells\": {\"fill\": {\"color\": \"#EBF0F8\"}, \"line\": {\"color\": \"white\"}}, \"header\": {\"fill\": {\"color\": \"#C8D4E3\"}, \"line\": {\"color\": \"white\"}}, \"type\": \"table\"}]}, \"layout\": {\"annotationdefaults\": {\"arrowcolor\": \"#2a3f5f\", \"arrowhead\": 0, \"arrowwidth\": 1}, \"coloraxis\": {\"colorbar\": {\"outlinewidth\": 0, \"ticks\": \"\"}}, \"colorscale\": {\"diverging\": [[0, \"#8e0152\"], [0.1, \"#c51b7d\"], [0.2, \"#de77ae\"], [0.3, \"#f1b6da\"], [0.4, \"#fde0ef\"], [0.5, \"#f7f7f7\"], [0.6, \"#e6f5d0\"], [0.7, \"#b8e186\"], [0.8, \"#7fbc41\"], [0.9, \"#4d9221\"], [1, \"#276419\"]], \"sequential\": [[0.0, \"#0d0887\"], [0.1111111111111111, \"#46039f\"], [0.2222222222222222, \"#7201a8\"], [0.3333333333333333, \"#9c179e\"], [0.4444444444444444, \"#bd3786\"], [0.5555555555555556, \"#d8576b\"], [0.6666666666666666, \"#ed7953\"], [0.7777777777777778, \"#fb9f3a\"], [0.8888888888888888, \"#fdca26\"], [1.0, \"#f0f921\"]], \"sequentialminus\": [[0.0, \"#0d0887\"], [0.1111111111111111, \"#46039f\"], [0.2222222222222222, \"#7201a8\"], [0.3333333333333333, \"#9c179e\"], [0.4444444444444444, \"#bd3786\"], [0.5555555555555556, \"#d8576b\"], [0.6666666666666666, \"#ed7953\"], [0.7777777777777778, \"#fb9f3a\"], [0.8888888888888888, \"#fdca26\"], [1.0, \"#f0f921\"]]}, \"colorway\": [\"#636efa\", \"#EF553B\", \"#00cc96\", \"#ab63fa\", \"#FFA15A\", \"#19d3f3\", \"#FF6692\", \"#B6E880\", \"#FF97FF\", \"#FECB52\"], \"font\": {\"color\": \"#2a3f5f\"}, \"geo\": {\"bgcolor\": \"white\", \"lakecolor\": \"white\", \"landcolor\": \"#E5ECF6\", \"showlakes\": true, \"showland\": true, \"subunitcolor\": \"white\"}, \"hoverlabel\": {\"align\": \"left\"}, \"hovermode\": \"closest\", \"mapbox\": {\"style\": \"light\"}, \"paper_bgcolor\": \"white\", \"plot_bgcolor\": \"#E5ECF6\", \"polar\": {\"angularaxis\": {\"gridcolor\": \"white\", \"linecolor\": \"white\", \"ticks\": \"\"}, \"bgcolor\": \"#E5ECF6\", \"radialaxis\": {\"gridcolor\": \"white\", \"linecolor\": \"white\", \"ticks\": \"\"}}, \"scene\": {\"xaxis\": {\"backgroundcolor\": \"#E5ECF6\", \"gridcolor\": \"white\", \"gridwidth\": 2, \"linecolor\": \"white\", \"showbackground\": true, \"ticks\": \"\", \"zerolinecolor\": \"white\"}, \"yaxis\": {\"backgroundcolor\": \"#E5ECF6\", \"gridcolor\": \"white\", \"gridwidth\": 2, \"linecolor\": \"white\", \"showbackground\": true, \"ticks\": \"\", \"zerolinecolor\": \"white\"}, \"zaxis\": {\"backgroundcolor\": \"#E5ECF6\", \"gridcolor\": \"white\", \"gridwidth\": 2, \"linecolor\": \"white\", \"showbackground\": true, \"ticks\": \"\", \"zerolinecolor\": \"white\"}}, \"shapedefaults\": {\"line\": {\"color\": \"#2a3f5f\"}}, \"ternary\": {\"aaxis\": {\"gridcolor\": \"white\", \"linecolor\": \"white\", \"ticks\": \"\"}, \"baxis\": {\"gridcolor\": \"white\", \"linecolor\": \"white\", \"ticks\": \"\"}, \"bgcolor\": \"#E5ECF6\", \"caxis\": {\"gridcolor\": \"white\", \"linecolor\": \"white\", \"ticks\": \"\"}}, \"title\": {\"x\": 0.05}, \"xaxis\": {\"automargin\": true, \"gridcolor\": \"white\", \"linecolor\": \"white\", \"ticks\": \"\", \"title\": {\"standoff\": 15}, \"zerolinecolor\": \"white\", \"zerolinewidth\": 2}, \"yaxis\": {\"automargin\": true, \"gridcolor\": \"white\", \"linecolor\": \"white\", \"ticks\": \"\", \"title\": {\"standoff\": 15}, \"zerolinecolor\": \"white\", \"zerolinewidth\": 2}}}, \"width\": 800, \"xaxis\": {\"anchor\": \"y\", \"domain\": [0.0, 1.0], \"title\": {\"text\": \"PC\"}}, \"yaxis\": {\"anchor\": \"x\", \"domain\": [0.0, 1.0], \"title\": {\"text\": \"Explained Variance\"}}},\n",
              "                        {\"responsive\": true}\n",
              "                    ).then(function(){\n",
              "                            \n",
              "var gd = document.getElementById('5e39b335-e689-401e-864d-6391dbfd7332');\n",
              "var x = new MutationObserver(function (mutations, observer) {{\n",
              "        var display = window.getComputedStyle(gd).display;\n",
              "        if (!display || display === 'none') {{\n",
              "            console.log([gd, 'removed!']);\n",
              "            Plotly.purge(gd);\n",
              "            observer.disconnect();\n",
              "        }}\n",
              "}});\n",
              "\n",
              "// Listen for the removal of the full notebook cells\n",
              "var notebookContainer = gd.closest('#notebook-container');\n",
              "if (notebookContainer) {{\n",
              "    x.observe(notebookContainer, {childList: true});\n",
              "}}\n",
              "\n",
              "// Listen for the clearing of the current output cell\n",
              "var outputEl = gd.closest('.output');\n",
              "if (outputEl) {{\n",
              "    x.observe(outputEl, {childList: true});\n",
              "}}\n",
              "\n",
              "                        })\n",
              "                };\n",
              "                \n",
              "            </script>\n",
              "        </div>\n",
              "</body>\n",
              "</html>"
            ]
          },
          "metadata": {
            "tags": []
          }
        }
      ]
    },
    {
      "cell_type": "markdown",
      "metadata": {
        "id": "0ur58j9ZosQy",
        "colab_type": "text"
      },
      "source": [
        "##### 3.2.4.2. Explained Variance + Cumulative Variance"
      ]
    },
    {
      "cell_type": "code",
      "metadata": {
        "id": "9zzGeB2J-NJk",
        "colab_type": "code",
        "colab": {
          "base_uri": "https://localhost:8080/",
          "height": 542
        },
        "outputId": "9cf91fa8-eef3-4ac1-8d92-99b986d1a121"
      },
      "source": [
        "# https://plotly.com/python/creating-and-updating-figures/\n",
        "\n",
        "import plotly.graph_objects as go\n",
        "\n",
        "fig = go.Figure()\n",
        "\n",
        "fig.add_trace(\n",
        "    go.Scatter(\n",
        "        x=df_explained_variance['PC'],\n",
        "        y=df_explained_variance['Cumulative Variance'],\n",
        "        marker=dict(size=15, color=\"LightSeaGreen\")\n",
        "    ))\n",
        "\n",
        "fig.add_trace(\n",
        "    go.Bar(\n",
        "        x=df_explained_variance['PC'],\n",
        "        y=df_explained_variance['Explained Variance'],\n",
        "        marker=dict(color=\"RoyalBlue\")\n",
        "    ))\n",
        "\n",
        "fig.show()"
      ],
      "execution_count": 28,
      "outputs": [
        {
          "output_type": "display_data",
          "data": {
            "text/html": [
              "<html>\n",
              "<head><meta charset=\"utf-8\" /></head>\n",
              "<body>\n",
              "    <div>\n",
              "            <script src=\"https://cdnjs.cloudflare.com/ajax/libs/mathjax/2.7.5/MathJax.js?config=TeX-AMS-MML_SVG\"></script><script type=\"text/javascript\">if (window.MathJax) {MathJax.Hub.Config({SVG: {font: \"STIX-Web\"}});}</script>\n",
              "                <script type=\"text/javascript\">window.PlotlyConfig = {MathJaxConfig: 'local'};</script>\n",
              "        <script src=\"https://cdn.plot.ly/plotly-latest.min.js\"></script>    \n",
              "            <div id=\"e668bf0f-fc53-4632-882b-a01fcf0a84aa\" class=\"plotly-graph-div\" style=\"height:525px; width:100%;\"></div>\n",
              "            <script type=\"text/javascript\">\n",
              "                \n",
              "                    window.PLOTLYENV=window.PLOTLYENV || {};\n",
              "                    \n",
              "                if (document.getElementById(\"e668bf0f-fc53-4632-882b-a01fcf0a84aa\")) {\n",
              "                    Plotly.newPlot(\n",
              "                        'e668bf0f-fc53-4632-882b-a01fcf0a84aa',\n",
              "                        [{\"marker\": {\"color\": \"LightSeaGreen\", \"size\": 15}, \"type\": \"scatter\", \"x\": [\"\", \"PC1\", \"PC2\", \"PC3\"], \"y\": [0.0, 0.443, 0.633, 0.727]}, {\"marker\": {\"color\": \"RoyalBlue\"}, \"type\": \"bar\", \"x\": [\"\", \"PC1\", \"PC2\", \"PC3\"], \"y\": [0.0, 0.4427202560752634, 0.18971182044032947, 0.09393163257428125]}],\n",
              "                        {\"template\": {\"data\": {\"bar\": [{\"error_x\": {\"color\": \"#2a3f5f\"}, \"error_y\": {\"color\": \"#2a3f5f\"}, \"marker\": {\"line\": {\"color\": \"#E5ECF6\", \"width\": 0.5}}, \"type\": \"bar\"}], \"barpolar\": [{\"marker\": {\"line\": {\"color\": \"#E5ECF6\", \"width\": 0.5}}, \"type\": \"barpolar\"}], \"carpet\": [{\"aaxis\": {\"endlinecolor\": \"#2a3f5f\", \"gridcolor\": \"white\", \"linecolor\": \"white\", \"minorgridcolor\": \"white\", \"startlinecolor\": \"#2a3f5f\"}, \"baxis\": {\"endlinecolor\": \"#2a3f5f\", \"gridcolor\": \"white\", \"linecolor\": \"white\", \"minorgridcolor\": \"white\", \"startlinecolor\": \"#2a3f5f\"}, \"type\": \"carpet\"}], \"choropleth\": [{\"colorbar\": {\"outlinewidth\": 0, \"ticks\": \"\"}, \"type\": \"choropleth\"}], \"contour\": [{\"colorbar\": {\"outlinewidth\": 0, \"ticks\": \"\"}, \"colorscale\": [[0.0, \"#0d0887\"], [0.1111111111111111, \"#46039f\"], [0.2222222222222222, \"#7201a8\"], [0.3333333333333333, \"#9c179e\"], [0.4444444444444444, \"#bd3786\"], [0.5555555555555556, \"#d8576b\"], [0.6666666666666666, \"#ed7953\"], [0.7777777777777778, \"#fb9f3a\"], [0.8888888888888888, \"#fdca26\"], [1.0, \"#f0f921\"]], \"type\": \"contour\"}], \"contourcarpet\": [{\"colorbar\": {\"outlinewidth\": 0, \"ticks\": \"\"}, \"type\": \"contourcarpet\"}], \"heatmap\": [{\"colorbar\": {\"outlinewidth\": 0, \"ticks\": \"\"}, \"colorscale\": [[0.0, \"#0d0887\"], [0.1111111111111111, \"#46039f\"], [0.2222222222222222, \"#7201a8\"], [0.3333333333333333, \"#9c179e\"], [0.4444444444444444, \"#bd3786\"], [0.5555555555555556, \"#d8576b\"], [0.6666666666666666, \"#ed7953\"], [0.7777777777777778, \"#fb9f3a\"], [0.8888888888888888, \"#fdca26\"], [1.0, \"#f0f921\"]], \"type\": \"heatmap\"}], \"heatmapgl\": [{\"colorbar\": {\"outlinewidth\": 0, \"ticks\": \"\"}, \"colorscale\": [[0.0, \"#0d0887\"], [0.1111111111111111, \"#46039f\"], [0.2222222222222222, \"#7201a8\"], [0.3333333333333333, \"#9c179e\"], [0.4444444444444444, \"#bd3786\"], [0.5555555555555556, \"#d8576b\"], [0.6666666666666666, \"#ed7953\"], [0.7777777777777778, \"#fb9f3a\"], [0.8888888888888888, \"#fdca26\"], [1.0, \"#f0f921\"]], \"type\": \"heatmapgl\"}], \"histogram\": [{\"marker\": {\"colorbar\": {\"outlinewidth\": 0, \"ticks\": \"\"}}, \"type\": \"histogram\"}], \"histogram2d\": [{\"colorbar\": {\"outlinewidth\": 0, \"ticks\": \"\"}, \"colorscale\": [[0.0, \"#0d0887\"], [0.1111111111111111, \"#46039f\"], [0.2222222222222222, \"#7201a8\"], [0.3333333333333333, \"#9c179e\"], [0.4444444444444444, \"#bd3786\"], [0.5555555555555556, \"#d8576b\"], [0.6666666666666666, \"#ed7953\"], [0.7777777777777778, \"#fb9f3a\"], [0.8888888888888888, \"#fdca26\"], [1.0, \"#f0f921\"]], \"type\": \"histogram2d\"}], \"histogram2dcontour\": [{\"colorbar\": {\"outlinewidth\": 0, \"ticks\": \"\"}, \"colorscale\": [[0.0, \"#0d0887\"], [0.1111111111111111, \"#46039f\"], [0.2222222222222222, \"#7201a8\"], [0.3333333333333333, \"#9c179e\"], [0.4444444444444444, \"#bd3786\"], [0.5555555555555556, \"#d8576b\"], [0.6666666666666666, \"#ed7953\"], [0.7777777777777778, \"#fb9f3a\"], [0.8888888888888888, \"#fdca26\"], [1.0, \"#f0f921\"]], \"type\": \"histogram2dcontour\"}], \"mesh3d\": [{\"colorbar\": {\"outlinewidth\": 0, \"ticks\": \"\"}, \"type\": \"mesh3d\"}], \"parcoords\": [{\"line\": {\"colorbar\": {\"outlinewidth\": 0, \"ticks\": \"\"}}, \"type\": \"parcoords\"}], \"pie\": [{\"automargin\": true, \"type\": \"pie\"}], \"scatter\": [{\"marker\": {\"colorbar\": {\"outlinewidth\": 0, \"ticks\": \"\"}}, \"type\": \"scatter\"}], \"scatter3d\": [{\"line\": {\"colorbar\": {\"outlinewidth\": 0, \"ticks\": \"\"}}, \"marker\": {\"colorbar\": {\"outlinewidth\": 0, \"ticks\": \"\"}}, \"type\": \"scatter3d\"}], \"scattercarpet\": [{\"marker\": {\"colorbar\": {\"outlinewidth\": 0, \"ticks\": \"\"}}, \"type\": \"scattercarpet\"}], \"scattergeo\": [{\"marker\": {\"colorbar\": {\"outlinewidth\": 0, \"ticks\": \"\"}}, \"type\": \"scattergeo\"}], \"scattergl\": [{\"marker\": {\"colorbar\": {\"outlinewidth\": 0, \"ticks\": \"\"}}, \"type\": \"scattergl\"}], \"scattermapbox\": [{\"marker\": {\"colorbar\": {\"outlinewidth\": 0, \"ticks\": \"\"}}, \"type\": \"scattermapbox\"}], \"scatterpolar\": [{\"marker\": {\"colorbar\": {\"outlinewidth\": 0, \"ticks\": \"\"}}, \"type\": \"scatterpolar\"}], \"scatterpolargl\": [{\"marker\": {\"colorbar\": {\"outlinewidth\": 0, \"ticks\": \"\"}}, \"type\": \"scatterpolargl\"}], \"scatterternary\": [{\"marker\": {\"colorbar\": {\"outlinewidth\": 0, \"ticks\": \"\"}}, \"type\": \"scatterternary\"}], \"surface\": [{\"colorbar\": {\"outlinewidth\": 0, \"ticks\": \"\"}, \"colorscale\": [[0.0, \"#0d0887\"], [0.1111111111111111, \"#46039f\"], [0.2222222222222222, \"#7201a8\"], [0.3333333333333333, \"#9c179e\"], [0.4444444444444444, \"#bd3786\"], [0.5555555555555556, \"#d8576b\"], [0.6666666666666666, \"#ed7953\"], [0.7777777777777778, \"#fb9f3a\"], [0.8888888888888888, \"#fdca26\"], [1.0, \"#f0f921\"]], \"type\": \"surface\"}], \"table\": [{\"cells\": {\"fill\": {\"color\": \"#EBF0F8\"}, \"line\": {\"color\": \"white\"}}, \"header\": {\"fill\": {\"color\": \"#C8D4E3\"}, \"line\": {\"color\": \"white\"}}, \"type\": \"table\"}]}, \"layout\": {\"annotationdefaults\": {\"arrowcolor\": \"#2a3f5f\", \"arrowhead\": 0, \"arrowwidth\": 1}, \"coloraxis\": {\"colorbar\": {\"outlinewidth\": 0, \"ticks\": \"\"}}, \"colorscale\": {\"diverging\": [[0, \"#8e0152\"], [0.1, \"#c51b7d\"], [0.2, \"#de77ae\"], [0.3, \"#f1b6da\"], [0.4, \"#fde0ef\"], [0.5, \"#f7f7f7\"], [0.6, \"#e6f5d0\"], [0.7, \"#b8e186\"], [0.8, \"#7fbc41\"], [0.9, \"#4d9221\"], [1, \"#276419\"]], \"sequential\": [[0.0, \"#0d0887\"], [0.1111111111111111, \"#46039f\"], [0.2222222222222222, \"#7201a8\"], [0.3333333333333333, \"#9c179e\"], [0.4444444444444444, \"#bd3786\"], [0.5555555555555556, \"#d8576b\"], [0.6666666666666666, \"#ed7953\"], [0.7777777777777778, \"#fb9f3a\"], [0.8888888888888888, \"#fdca26\"], [1.0, \"#f0f921\"]], \"sequentialminus\": [[0.0, \"#0d0887\"], [0.1111111111111111, \"#46039f\"], [0.2222222222222222, \"#7201a8\"], [0.3333333333333333, \"#9c179e\"], [0.4444444444444444, \"#bd3786\"], [0.5555555555555556, \"#d8576b\"], [0.6666666666666666, \"#ed7953\"], [0.7777777777777778, \"#fb9f3a\"], [0.8888888888888888, \"#fdca26\"], [1.0, \"#f0f921\"]]}, \"colorway\": [\"#636efa\", \"#EF553B\", \"#00cc96\", \"#ab63fa\", \"#FFA15A\", \"#19d3f3\", \"#FF6692\", \"#B6E880\", \"#FF97FF\", \"#FECB52\"], \"font\": {\"color\": \"#2a3f5f\"}, \"geo\": {\"bgcolor\": \"white\", \"lakecolor\": \"white\", \"landcolor\": \"#E5ECF6\", \"showlakes\": true, \"showland\": true, \"subunitcolor\": \"white\"}, \"hoverlabel\": {\"align\": \"left\"}, \"hovermode\": \"closest\", \"mapbox\": {\"style\": \"light\"}, \"paper_bgcolor\": \"white\", \"plot_bgcolor\": \"#E5ECF6\", \"polar\": {\"angularaxis\": {\"gridcolor\": \"white\", \"linecolor\": \"white\", \"ticks\": \"\"}, \"bgcolor\": \"#E5ECF6\", \"radialaxis\": {\"gridcolor\": \"white\", \"linecolor\": \"white\", \"ticks\": \"\"}}, \"scene\": {\"xaxis\": {\"backgroundcolor\": \"#E5ECF6\", \"gridcolor\": \"white\", \"gridwidth\": 2, \"linecolor\": \"white\", \"showbackground\": true, \"ticks\": \"\", \"zerolinecolor\": \"white\"}, \"yaxis\": {\"backgroundcolor\": \"#E5ECF6\", \"gridcolor\": \"white\", \"gridwidth\": 2, \"linecolor\": \"white\", \"showbackground\": true, \"ticks\": \"\", \"zerolinecolor\": \"white\"}, \"zaxis\": {\"backgroundcolor\": \"#E5ECF6\", \"gridcolor\": \"white\", \"gridwidth\": 2, \"linecolor\": \"white\", \"showbackground\": true, \"ticks\": \"\", \"zerolinecolor\": \"white\"}}, \"shapedefaults\": {\"line\": {\"color\": \"#2a3f5f\"}}, \"ternary\": {\"aaxis\": {\"gridcolor\": \"white\", \"linecolor\": \"white\", \"ticks\": \"\"}, \"baxis\": {\"gridcolor\": \"white\", \"linecolor\": \"white\", \"ticks\": \"\"}, \"bgcolor\": \"#E5ECF6\", \"caxis\": {\"gridcolor\": \"white\", \"linecolor\": \"white\", \"ticks\": \"\"}}, \"title\": {\"x\": 0.05}, \"xaxis\": {\"automargin\": true, \"gridcolor\": \"white\", \"linecolor\": \"white\", \"ticks\": \"\", \"title\": {\"standoff\": 15}, \"zerolinecolor\": \"white\", \"zerolinewidth\": 2}, \"yaxis\": {\"automargin\": true, \"gridcolor\": \"white\", \"linecolor\": \"white\", \"ticks\": \"\", \"title\": {\"standoff\": 15}, \"zerolinecolor\": \"white\", \"zerolinewidth\": 2}}}},\n",
              "                        {\"responsive\": true}\n",
              "                    ).then(function(){\n",
              "                            \n",
              "var gd = document.getElementById('e668bf0f-fc53-4632-882b-a01fcf0a84aa');\n",
              "var x = new MutationObserver(function (mutations, observer) {{\n",
              "        var display = window.getComputedStyle(gd).display;\n",
              "        if (!display || display === 'none') {{\n",
              "            console.log([gd, 'removed!']);\n",
              "            Plotly.purge(gd);\n",
              "            observer.disconnect();\n",
              "        }}\n",
              "}});\n",
              "\n",
              "// Listen for the removal of the full notebook cells\n",
              "var notebookContainer = gd.closest('#notebook-container');\n",
              "if (notebookContainer) {{\n",
              "    x.observe(notebookContainer, {childList: true});\n",
              "}}\n",
              "\n",
              "// Listen for the clearing of the current output cell\n",
              "var outputEl = gd.closest('.output');\n",
              "if (outputEl) {{\n",
              "    x.observe(outputEl, {childList: true});\n",
              "}}\n",
              "\n",
              "                        })\n",
              "                };\n",
              "                \n",
              "            </script>\n",
              "        </div>\n",
              "</body>\n",
              "</html>"
            ]
          },
          "metadata": {
            "tags": []
          }
        }
      ]
    },
    {
      "cell_type": "markdown",
      "metadata": {
        "id": "IPPD1wHIo4MG",
        "colab_type": "text"
      },
      "source": [
        "##### 3.2.4.3. Explained Variance + Cumulative Variance (Separate Plot)"
      ]
    },
    {
      "cell_type": "code",
      "metadata": {
        "id": "cL4QwGhTgFhV",
        "colab_type": "code",
        "colab": {
          "base_uri": "https://localhost:8080/",
          "height": 542
        },
        "outputId": "f997661d-78b5-46d7-9ea2-fe7c42af6dbb"
      },
      "source": [
        "from plotly.subplots import make_subplots\n",
        "import plotly.graph_objects as go\n",
        "\n",
        "fig = make_subplots(rows=1, cols=2)\n",
        "\n",
        "fig.add_trace(\n",
        "    go.Scatter(\n",
        "        x=df_explained_variance['PC'],\n",
        "        y=df_explained_variance['Cumulative Variance'],\n",
        "        marker=dict(size=15, color=\"LightSeaGreen\")\n",
        "    ), row=1, col=1\n",
        "    )\n",
        "\n",
        "fig.add_trace(\n",
        "    go.Bar(\n",
        "        x=df_explained_variance['PC'],\n",
        "        y=df_explained_variance['Explained Variance'],\n",
        "        marker=dict(color=\"RoyalBlue\"),\n",
        "    ), row=1, col=2\n",
        "    )\n",
        "\n",
        "fig.show()"
      ],
      "execution_count": 29,
      "outputs": [
        {
          "output_type": "display_data",
          "data": {
            "text/html": [
              "<html>\n",
              "<head><meta charset=\"utf-8\" /></head>\n",
              "<body>\n",
              "    <div>\n",
              "            <script src=\"https://cdnjs.cloudflare.com/ajax/libs/mathjax/2.7.5/MathJax.js?config=TeX-AMS-MML_SVG\"></script><script type=\"text/javascript\">if (window.MathJax) {MathJax.Hub.Config({SVG: {font: \"STIX-Web\"}});}</script>\n",
              "                <script type=\"text/javascript\">window.PlotlyConfig = {MathJaxConfig: 'local'};</script>\n",
              "        <script src=\"https://cdn.plot.ly/plotly-latest.min.js\"></script>    \n",
              "            <div id=\"643672ad-96c8-4ef1-a005-92cb5c156afc\" class=\"plotly-graph-div\" style=\"height:525px; width:100%;\"></div>\n",
              "            <script type=\"text/javascript\">\n",
              "                \n",
              "                    window.PLOTLYENV=window.PLOTLYENV || {};\n",
              "                    \n",
              "                if (document.getElementById(\"643672ad-96c8-4ef1-a005-92cb5c156afc\")) {\n",
              "                    Plotly.newPlot(\n",
              "                        '643672ad-96c8-4ef1-a005-92cb5c156afc',\n",
              "                        [{\"marker\": {\"color\": \"LightSeaGreen\", \"size\": 15}, \"type\": \"scatter\", \"x\": [\"\", \"PC1\", \"PC2\", \"PC3\"], \"xaxis\": \"x\", \"y\": [0.0, 0.443, 0.633, 0.727], \"yaxis\": \"y\"}, {\"marker\": {\"color\": \"RoyalBlue\"}, \"type\": \"bar\", \"x\": [\"\", \"PC1\", \"PC2\", \"PC3\"], \"xaxis\": \"x2\", \"y\": [0.0, 0.4427202560752634, 0.18971182044032947, 0.09393163257428125], \"yaxis\": \"y2\"}],\n",
              "                        {\"template\": {\"data\": {\"bar\": [{\"error_x\": {\"color\": \"#2a3f5f\"}, \"error_y\": {\"color\": \"#2a3f5f\"}, \"marker\": {\"line\": {\"color\": \"#E5ECF6\", \"width\": 0.5}}, \"type\": \"bar\"}], \"barpolar\": [{\"marker\": {\"line\": {\"color\": \"#E5ECF6\", \"width\": 0.5}}, \"type\": \"barpolar\"}], \"carpet\": [{\"aaxis\": {\"endlinecolor\": \"#2a3f5f\", \"gridcolor\": \"white\", \"linecolor\": \"white\", \"minorgridcolor\": \"white\", \"startlinecolor\": \"#2a3f5f\"}, \"baxis\": {\"endlinecolor\": \"#2a3f5f\", \"gridcolor\": \"white\", \"linecolor\": \"white\", \"minorgridcolor\": \"white\", \"startlinecolor\": \"#2a3f5f\"}, \"type\": \"carpet\"}], \"choropleth\": [{\"colorbar\": {\"outlinewidth\": 0, \"ticks\": \"\"}, \"type\": \"choropleth\"}], \"contour\": [{\"colorbar\": {\"outlinewidth\": 0, \"ticks\": \"\"}, \"colorscale\": [[0.0, \"#0d0887\"], [0.1111111111111111, \"#46039f\"], [0.2222222222222222, \"#7201a8\"], [0.3333333333333333, \"#9c179e\"], [0.4444444444444444, \"#bd3786\"], [0.5555555555555556, \"#d8576b\"], [0.6666666666666666, \"#ed7953\"], [0.7777777777777778, \"#fb9f3a\"], [0.8888888888888888, \"#fdca26\"], [1.0, \"#f0f921\"]], \"type\": \"contour\"}], \"contourcarpet\": [{\"colorbar\": {\"outlinewidth\": 0, \"ticks\": \"\"}, \"type\": \"contourcarpet\"}], \"heatmap\": [{\"colorbar\": {\"outlinewidth\": 0, \"ticks\": \"\"}, \"colorscale\": [[0.0, \"#0d0887\"], [0.1111111111111111, \"#46039f\"], [0.2222222222222222, \"#7201a8\"], [0.3333333333333333, \"#9c179e\"], [0.4444444444444444, \"#bd3786\"], [0.5555555555555556, \"#d8576b\"], [0.6666666666666666, \"#ed7953\"], [0.7777777777777778, \"#fb9f3a\"], [0.8888888888888888, \"#fdca26\"], [1.0, \"#f0f921\"]], \"type\": \"heatmap\"}], \"heatmapgl\": [{\"colorbar\": {\"outlinewidth\": 0, \"ticks\": \"\"}, \"colorscale\": [[0.0, \"#0d0887\"], [0.1111111111111111, \"#46039f\"], [0.2222222222222222, \"#7201a8\"], [0.3333333333333333, \"#9c179e\"], [0.4444444444444444, \"#bd3786\"], [0.5555555555555556, \"#d8576b\"], [0.6666666666666666, \"#ed7953\"], [0.7777777777777778, \"#fb9f3a\"], [0.8888888888888888, \"#fdca26\"], [1.0, \"#f0f921\"]], \"type\": \"heatmapgl\"}], \"histogram\": [{\"marker\": {\"colorbar\": {\"outlinewidth\": 0, \"ticks\": \"\"}}, \"type\": \"histogram\"}], \"histogram2d\": [{\"colorbar\": {\"outlinewidth\": 0, \"ticks\": \"\"}, \"colorscale\": [[0.0, \"#0d0887\"], [0.1111111111111111, \"#46039f\"], [0.2222222222222222, \"#7201a8\"], [0.3333333333333333, \"#9c179e\"], [0.4444444444444444, \"#bd3786\"], [0.5555555555555556, \"#d8576b\"], [0.6666666666666666, \"#ed7953\"], [0.7777777777777778, \"#fb9f3a\"], [0.8888888888888888, \"#fdca26\"], [1.0, \"#f0f921\"]], \"type\": \"histogram2d\"}], \"histogram2dcontour\": [{\"colorbar\": {\"outlinewidth\": 0, \"ticks\": \"\"}, \"colorscale\": [[0.0, \"#0d0887\"], [0.1111111111111111, \"#46039f\"], [0.2222222222222222, \"#7201a8\"], [0.3333333333333333, \"#9c179e\"], [0.4444444444444444, \"#bd3786\"], [0.5555555555555556, \"#d8576b\"], [0.6666666666666666, \"#ed7953\"], [0.7777777777777778, \"#fb9f3a\"], [0.8888888888888888, \"#fdca26\"], [1.0, \"#f0f921\"]], \"type\": \"histogram2dcontour\"}], \"mesh3d\": [{\"colorbar\": {\"outlinewidth\": 0, \"ticks\": \"\"}, \"type\": \"mesh3d\"}], \"parcoords\": [{\"line\": {\"colorbar\": {\"outlinewidth\": 0, \"ticks\": \"\"}}, \"type\": \"parcoords\"}], \"pie\": [{\"automargin\": true, \"type\": \"pie\"}], \"scatter\": [{\"marker\": {\"colorbar\": {\"outlinewidth\": 0, \"ticks\": \"\"}}, \"type\": \"scatter\"}], \"scatter3d\": [{\"line\": {\"colorbar\": {\"outlinewidth\": 0, \"ticks\": \"\"}}, \"marker\": {\"colorbar\": {\"outlinewidth\": 0, \"ticks\": \"\"}}, \"type\": \"scatter3d\"}], \"scattercarpet\": [{\"marker\": {\"colorbar\": {\"outlinewidth\": 0, \"ticks\": \"\"}}, \"type\": \"scattercarpet\"}], \"scattergeo\": [{\"marker\": {\"colorbar\": {\"outlinewidth\": 0, \"ticks\": \"\"}}, \"type\": \"scattergeo\"}], \"scattergl\": [{\"marker\": {\"colorbar\": {\"outlinewidth\": 0, \"ticks\": \"\"}}, \"type\": \"scattergl\"}], \"scattermapbox\": [{\"marker\": {\"colorbar\": {\"outlinewidth\": 0, \"ticks\": \"\"}}, \"type\": \"scattermapbox\"}], \"scatterpolar\": [{\"marker\": {\"colorbar\": {\"outlinewidth\": 0, \"ticks\": \"\"}}, \"type\": \"scatterpolar\"}], \"scatterpolargl\": [{\"marker\": {\"colorbar\": {\"outlinewidth\": 0, \"ticks\": \"\"}}, \"type\": \"scatterpolargl\"}], \"scatterternary\": [{\"marker\": {\"colorbar\": {\"outlinewidth\": 0, \"ticks\": \"\"}}, \"type\": \"scatterternary\"}], \"surface\": [{\"colorbar\": {\"outlinewidth\": 0, \"ticks\": \"\"}, \"colorscale\": [[0.0, \"#0d0887\"], [0.1111111111111111, \"#46039f\"], [0.2222222222222222, \"#7201a8\"], [0.3333333333333333, \"#9c179e\"], [0.4444444444444444, \"#bd3786\"], [0.5555555555555556, \"#d8576b\"], [0.6666666666666666, \"#ed7953\"], [0.7777777777777778, \"#fb9f3a\"], [0.8888888888888888, \"#fdca26\"], [1.0, \"#f0f921\"]], \"type\": \"surface\"}], \"table\": [{\"cells\": {\"fill\": {\"color\": \"#EBF0F8\"}, \"line\": {\"color\": \"white\"}}, \"header\": {\"fill\": {\"color\": \"#C8D4E3\"}, \"line\": {\"color\": \"white\"}}, \"type\": \"table\"}]}, \"layout\": {\"annotationdefaults\": {\"arrowcolor\": \"#2a3f5f\", \"arrowhead\": 0, \"arrowwidth\": 1}, \"coloraxis\": {\"colorbar\": {\"outlinewidth\": 0, \"ticks\": \"\"}}, \"colorscale\": {\"diverging\": [[0, \"#8e0152\"], [0.1, \"#c51b7d\"], [0.2, \"#de77ae\"], [0.3, \"#f1b6da\"], [0.4, \"#fde0ef\"], [0.5, \"#f7f7f7\"], [0.6, \"#e6f5d0\"], [0.7, \"#b8e186\"], [0.8, \"#7fbc41\"], [0.9, \"#4d9221\"], [1, \"#276419\"]], \"sequential\": [[0.0, \"#0d0887\"], [0.1111111111111111, \"#46039f\"], [0.2222222222222222, \"#7201a8\"], [0.3333333333333333, \"#9c179e\"], [0.4444444444444444, \"#bd3786\"], [0.5555555555555556, \"#d8576b\"], [0.6666666666666666, \"#ed7953\"], [0.7777777777777778, \"#fb9f3a\"], [0.8888888888888888, \"#fdca26\"], [1.0, \"#f0f921\"]], \"sequentialminus\": [[0.0, \"#0d0887\"], [0.1111111111111111, \"#46039f\"], [0.2222222222222222, \"#7201a8\"], [0.3333333333333333, \"#9c179e\"], [0.4444444444444444, \"#bd3786\"], [0.5555555555555556, \"#d8576b\"], [0.6666666666666666, \"#ed7953\"], [0.7777777777777778, \"#fb9f3a\"], [0.8888888888888888, \"#fdca26\"], [1.0, \"#f0f921\"]]}, \"colorway\": [\"#636efa\", \"#EF553B\", \"#00cc96\", \"#ab63fa\", \"#FFA15A\", \"#19d3f3\", \"#FF6692\", \"#B6E880\", \"#FF97FF\", \"#FECB52\"], \"font\": {\"color\": \"#2a3f5f\"}, \"geo\": {\"bgcolor\": \"white\", \"lakecolor\": \"white\", \"landcolor\": \"#E5ECF6\", \"showlakes\": true, \"showland\": true, \"subunitcolor\": \"white\"}, \"hoverlabel\": {\"align\": \"left\"}, \"hovermode\": \"closest\", \"mapbox\": {\"style\": \"light\"}, \"paper_bgcolor\": \"white\", \"plot_bgcolor\": \"#E5ECF6\", \"polar\": {\"angularaxis\": {\"gridcolor\": \"white\", \"linecolor\": \"white\", \"ticks\": \"\"}, \"bgcolor\": \"#E5ECF6\", \"radialaxis\": {\"gridcolor\": \"white\", \"linecolor\": \"white\", \"ticks\": \"\"}}, \"scene\": {\"xaxis\": {\"backgroundcolor\": \"#E5ECF6\", \"gridcolor\": \"white\", \"gridwidth\": 2, \"linecolor\": \"white\", \"showbackground\": true, \"ticks\": \"\", \"zerolinecolor\": \"white\"}, \"yaxis\": {\"backgroundcolor\": \"#E5ECF6\", \"gridcolor\": \"white\", \"gridwidth\": 2, \"linecolor\": \"white\", \"showbackground\": true, \"ticks\": \"\", \"zerolinecolor\": \"white\"}, \"zaxis\": {\"backgroundcolor\": \"#E5ECF6\", \"gridcolor\": \"white\", \"gridwidth\": 2, \"linecolor\": \"white\", \"showbackground\": true, \"ticks\": \"\", \"zerolinecolor\": \"white\"}}, \"shapedefaults\": {\"line\": {\"color\": \"#2a3f5f\"}}, \"ternary\": {\"aaxis\": {\"gridcolor\": \"white\", \"linecolor\": \"white\", \"ticks\": \"\"}, \"baxis\": {\"gridcolor\": \"white\", \"linecolor\": \"white\", \"ticks\": \"\"}, \"bgcolor\": \"#E5ECF6\", \"caxis\": {\"gridcolor\": \"white\", \"linecolor\": \"white\", \"ticks\": \"\"}}, \"title\": {\"x\": 0.05}, \"xaxis\": {\"automargin\": true, \"gridcolor\": \"white\", \"linecolor\": \"white\", \"ticks\": \"\", \"title\": {\"standoff\": 15}, \"zerolinecolor\": \"white\", \"zerolinewidth\": 2}, \"yaxis\": {\"automargin\": true, \"gridcolor\": \"white\", \"linecolor\": \"white\", \"ticks\": \"\", \"title\": {\"standoff\": 15}, \"zerolinecolor\": \"white\", \"zerolinewidth\": 2}}}, \"xaxis\": {\"anchor\": \"y\", \"domain\": [0.0, 0.45]}, \"xaxis2\": {\"anchor\": \"y2\", \"domain\": [0.55, 1.0]}, \"yaxis\": {\"anchor\": \"x\", \"domain\": [0.0, 1.0]}, \"yaxis2\": {\"anchor\": \"x2\", \"domain\": [0.0, 1.0]}},\n",
              "                        {\"responsive\": true}\n",
              "                    ).then(function(){\n",
              "                            \n",
              "var gd = document.getElementById('643672ad-96c8-4ef1-a005-92cb5c156afc');\n",
              "var x = new MutationObserver(function (mutations, observer) {{\n",
              "        var display = window.getComputedStyle(gd).display;\n",
              "        if (!display || display === 'none') {{\n",
              "            console.log([gd, 'removed!']);\n",
              "            Plotly.purge(gd);\n",
              "            observer.disconnect();\n",
              "        }}\n",
              "}});\n",
              "\n",
              "// Listen for the removal of the full notebook cells\n",
              "var notebookContainer = gd.closest('#notebook-container');\n",
              "if (notebookContainer) {{\n",
              "    x.observe(notebookContainer, {childList: true});\n",
              "}}\n",
              "\n",
              "// Listen for the clearing of the current output cell\n",
              "var outputEl = gd.closest('.output');\n",
              "if (outputEl) {{\n",
              "    x.observe(outputEl, {childList: true});\n",
              "}}\n",
              "\n",
              "                        })\n",
              "                };\n",
              "                \n",
              "            </script>\n",
              "        </div>\n",
              "</body>\n",
              "</html>"
            ]
          },
          "metadata": {
            "tags": []
          }
        }
      ]
    },
    {
      "cell_type": "markdown",
      "metadata": {
        "id": "OB_LvOxNW5Wx",
        "colab_type": "text"
      },
      "source": [
        "## **4. Scores Plot**\n",
        "\n",
        "Source: https://plotly.com/python/3d-scatter-plots/"
      ]
    },
    {
      "cell_type": "markdown",
      "metadata": {
        "id": "1RSpqvmUXhoT",
        "colab_type": "text"
      },
      "source": [
        "### 4.1. Load library\n",
        "[API Documentation](https://plotly.com/python-api-reference/plotly.express.html) for *plotly.express* package"
      ]
    },
    {
      "cell_type": "code",
      "metadata": {
        "id": "SnyRnEjYXkQN",
        "colab_type": "code",
        "colab": {}
      },
      "source": [
        "import plotly.express as px"
      ],
      "execution_count": 30,
      "outputs": []
    },
    {
      "cell_type": "markdown",
      "metadata": {
        "id": "ZtXU3cBsYJH9",
        "colab_type": "text"
      },
      "source": [
        "### 4.2. Basic 3D Scatter Plot"
      ]
    },
    {
      "cell_type": "code",
      "metadata": {
        "id": "IPdv7qpmUcLS",
        "colab_type": "code",
        "colab": {
          "base_uri": "https://localhost:8080/",
          "height": 542
        },
        "outputId": "edd81e5e-cf7c-4d53-8bf9-f8a1ca370d94"
      },
      "source": [
        "fig = px.scatter_3d(df_scores, x='PC1', y='PC2', z='PC3',\n",
        "              color='diagnosis')\n",
        "\n",
        "fig.show()"
      ],
      "execution_count": 32,
      "outputs": [
        {
          "output_type": "display_data",
          "data": {
            "text/html": [
              "<html>\n",
              "<head><meta charset=\"utf-8\" /></head>\n",
              "<body>\n",
              "    <div>\n",
              "            <script src=\"https://cdnjs.cloudflare.com/ajax/libs/mathjax/2.7.5/MathJax.js?config=TeX-AMS-MML_SVG\"></script><script type=\"text/javascript\">if (window.MathJax) {MathJax.Hub.Config({SVG: {font: \"STIX-Web\"}});}</script>\n",
              "                <script type=\"text/javascript\">window.PlotlyConfig = {MathJaxConfig: 'local'};</script>\n",
              "        <script src=\"https://cdn.plot.ly/plotly-latest.min.js\"></script>    \n",
              "            <div id=\"0fb5dd6c-63b0-4dc7-9707-38e9ee54c0e4\" class=\"plotly-graph-div\" style=\"height:525px; width:100%;\"></div>\n",
              "            <script type=\"text/javascript\">\n",
              "                \n",
              "                    window.PLOTLYENV=window.PLOTLYENV || {};\n",
              "                    \n",
              "                if (document.getElementById(\"0fb5dd6c-63b0-4dc7-9707-38e9ee54c0e4\")) {\n",
              "                    Plotly.newPlot(\n",
              "                        '0fb5dd6c-63b0-4dc7-9707-38e9ee54c0e4',\n",
              "                        [{\"hoverlabel\": {\"namelength\": 0}, \"hovertemplate\": \"diagnosis=malignant<br>PC1=%{x}<br>PC2=%{y}<br>PC3=%{z}\", \"legendgroup\": \"diagnosis=malignant\", \"marker\": {\"color\": \"#636efa\", \"symbol\": \"circle\"}, \"mode\": \"markers\", \"name\": \"diagnosis=malignant\", \"scene\": \"scene\", \"showlegend\": true, \"type\": \"scatter3d\", \"x\": [9.192836826176306, 2.3878017957611597, 5.733896279731496, 7.122953197689654, 3.9353020736400195, 2.380247150345682, 2.2388833080409074, 2.1432985003707166, 3.1749242930922517, 6.3517467895061746, -0.8104137708475806, 2.651100477265788, 8.185034458137762, 0.3421259139798529, 4.342379194640673, 4.075656175362613, 0.23005501570263973, 4.41801091595371, 4.948703550557488, 4.733210788183552, 4.208524209066299, 4.949632073996702, 7.0985628548497965, 3.510262603921108, 3.0640538860406683, 4.007264143671017, 1.7153097265529234, 6.059445513504798, 2.902236104979363, 4.554782688827055, 4.990602722484546, 2.9853407889639363, 2.766369157795782, 1.2961987650263191, -0.9980689008817064, 0.7652641153605345, -2.15095347073028, -0.09333138655121542, 9.087999677321909, 0.9904537654954622, -0.2935465509327446, 5.380940406953831, 1.7000068868154097, 3.302550951416243, -0.6746192855733956, 4.648738872451875, 2.176862882227516, 4.759112153878888, 1.6916079231783496, 1.8123054050210912, 2.704596172624393, 5.50370531534158, -0.3617091927052838, 1.4281675928818176, 6.230896511920652, 11.668714648308065, 10.769242819241565, 5.034811085505791, 3.2882353846948265, 0.6076079451793104, 3.5835636260369688, 0.2524975674798962, 2.7758655689837286, 4.396227954719254, 0.6162808698085597, -0.4328602208154456, 3.2139167651597274, 13.056121858721964, 3.110527693348155, 4.956725569981572, 0.8510142626656103, 3.334133198005856, 12.89461213404795, -0.6388804999585114, 1.9191334226718282, 4.643691316582795, 1.432069426804418, 1.3526270254282338, 2.1714160183136824, -1.976840355325717, 3.7820264555654166, 1.3450204377315456, 2.399997843114127, 4.100787726635052, 3.3873307645980573, 6.149886189951152, 5.494152797643767, 1.2136346121404045, 5.069661081474272, -0.9474878917452705, 2.819368343445993, 2.956301867125833, 9.51266984415571, 9.007165526260627, 0.7588784847990594, -0.3900189810644905, 0.3648761518427595, 6.523116620452608, 1.7796614892358489, 2.6114848931625594, 2.4984388777102606, 1.277027175342104, 3.473197342877639, 1.256675111969816, 1.6494606959298839, 9.03658948028043, 4.554590064831688, -0.22309260678702608, 0.446544396427531, 4.8089692447220855, 12.285019759537171, 3.372196590663377, 2.5087663115891767, 1.3180684765347637, 4.943581014515655, 4.298077329870446, 1.803247020481447, 2.755568001128289, 3.2572546734497334, 3.3163241134454435, 8.403847113425122, 2.647568633101668, 3.350295790634422, 3.795565641822777, 7.143842039047055, 7.085010648766646, 1.314099003589085, 3.711649514787289, 0.46047909088185884, 6.39264992053301, 5.25554494975955, 8.73386150286221, 3.6913178802207676, 3.3782508727169667, -0.8402096538039872, 3.2843726200243863, -1.9087689281247349, 1.6147819253625015, 6.619726346868356, 7.67614947169293, 0.33734549265496794, 0.01743079148403703, 4.960268117819796, 3.7850601029231017, 2.6372557772584058, -2.3858827584374653, 6.590235943346889, 7.182933102057551, 1.8953162763162656, 1.8348404671287553, 7.236485314354973, 2.250510374119235, 2.1078012279114624, 1.785949980310559, 3.3196739715131915, 4.6801662624095615, 7.353218575033594, 4.975162358397938, 6.182283741689403, 10.934298158429261, 2.1184969319008804, 2.735011771673695, 6.227025988675152, 5.307140022027067, 7.248001061247697, 4.20722061893946, 3.6350149466478316, 3.519248275012534, 3.7659321541030235, -0.5429013641934456, 4.70350073165817, 4.149097342435352, 7.672141552617155, 6.289673469528597, 2.763370786287394, -0.9340908103585476, 6.003616591360431, 4.949858461504976, 4.549111146611891, 4.442342818150208, 0.6644409146735428, 2.4723569167941446, 0.9817275418806264, 3.245413648888863, 4.331653344515776, 2.51175310226078, 3.4754937481287205, 16.319233231072953, 5.93096485956143, 3.8244330429356475, 4.754614870667836, -0.7417817670403349, 3.1035197039261773, 3.7157051034436868, 5.094841843782091, 2.7903998294373222, 7.259178840796459, 4.0941425572455445, 2.2269944891548175, -0.7337724522317604, 2.69722375441156, 3.3790146677232165, 8.630755859058448, 4.0284352610788305, 5.165410948279602, 0.5359319494394803, 5.917612589092931, 8.741338077210116, 6.439315483924493, 3.7933823700354425, 1.2561792761655217, 10.3747940597751], \"y\": [1.9485830819484156, -3.7681717328386792, -1.075173797593757, 10.275589126864164, -1.9480715595579778, 3.949928895160486, -2.690031274441077, 2.3402440088002976, 3.391812950204446, 7.727174067538162, -2.659275496971949, 0.06656792069472629, 2.700976495810396, -0.9682792589038995, 4.861083312743095, 2.9770611745038535, -1.5647577232844032, 1.4186703415805895, -4.114333522750956, 3.3049637352001575, -5.128366516499374, -1.5437522894092852, 2.0186103517976677, 2.17162512686595, -1.8765523431707516, 0.537242157708082, -1.523705025056872, -0.7571774514896507, 4.00529551702864, 0.3375361506763284, -1.1325889080591847, 0.7584232434003433, -0.3543559467324335, 0.9131962735381088, -3.3512929242484764, 0.8862439594555573, -1.9239916157507462, 2.260752002267933, 2.0186730851723356, 0.9849300228264738, -0.13709908990486175, -0.13487698249459704, 2.3522717970842475, -1.130937814863788, -2.116409716661702, -2.3103325724204633, 0.9721160455509595, 3.0116805038103407, 1.5406765545332208, 0.7227401881239539, -4.437141767311366, 0.9383254020443962, 0.11973908881340581, -1.9671014087189642, 0.9200695381981535, 4.748617209952655, -2.257982888823137, 0.7744091499312579, -1.668237056458301, 0.16221452428366867, -2.2066618338900823, -0.5313515358333094, 0.5580005313079134, -2.123507716480475, 0.638911672730616, -1.3920442990030761, 4.0467562243504585, 0.9815132141797857, 1.5693895570668588, 2.384846222795098, -2.3067353687293, -1.3255573511662981, 2.316622445775971, -0.911366030698633, -3.538082374509203, -1.4820171683423373, -1.0496039516127686, -1.1541414790573414, -2.826260727821522, -0.419387445080382, 0.8603815999642861, -1.2747709541674064, 4.8379888296214215, -0.3788038297750168, -2.911037098197968, -2.0176527511125806, -4.165829298260244, -2.039038956158817, -1.7851523342124767, -1.6847535466051744, 1.2651031362882603, 0.7064218558839535, -5.603484189035771, 0.5810310856119987, -1.6085325845459642, -0.9892423517109294, -3.574461225766721, 8.01116957351307, 2.776587168052007, 1.5614217095974838, 2.278482855437339, -2.4432589745900275, -2.2778489162265343, 0.3823932690666017, -2.102291069812768, -0.6551728196820157, 3.086639147289351, -0.7018214898468212, -2.7877077441070646, -3.029102965529993, -7.543410173091041, 2.5878254238994405, 2.614648484827359, 2.154479503174786, -2.848324460107048, -4.666275187327208, 0.16646095343615175, 3.4657736087888176, -0.12520048597073213, -3.9391522590288504, -4.153904766727413, -3.9511729560012796, -2.1545700267400583, -1.026232641042358, -2.074842232068631, 0.5282231746943861, -1.7754258297225973, -2.807477112544776, 0.3941662801831004, -1.8230941623842443, 3.8945309929552865, 3.2798774000809616, 1.0656460683887095, -3.3712278967259954, -3.5000850396759167, -0.9906732138189972, -3.121945807529482, -2.474573349589321, -6.003276422007909, -3.075306307672382, -3.1443734607468, -3.4593432912904207, -1.3411230454105025, -1.9019074150681339, 0.5771549986049332, -0.8241155673183943, -1.4848624506162529, 0.05514606855880757, -2.3922380030526558, -4.321522960159168, -0.0357017872868839, -0.34853594483297146, 1.1219739341344734, -0.2692216341521318, -1.5770528412130256, -0.9685929551928915, -5.242623144058593, -1.332572176119965, 5.1080054498450504, -3.7032540791595445, 0.29662907505962083, -3.9451682291457852, -1.3901096873511525, -6.723414988332647, -3.6554691231575416, 1.1762428850266313, -1.9564409025511493, -3.8586071194146356, 5.985295348374552, -1.3170679054649888, -0.1959557462718301, 0.767488847630577, -0.8604841485407734, 2.036547397870829, -1.0786335087361296, -2.105945595304825, -0.09102921934277668, 3.006064138682091, -0.8160005025521183, -0.992438902178482, 0.43686085951590237, -1.499824756936069, -2.2104299437166084, -1.7783586296503457, -4.049332413126901, -2.52880758375136, -1.67288439041922, -7.775852813545043, 1.2282966870121041, 2.305236317476769, -1.4894235601521175, -2.4520349705982643, -1.2361532108297093, -1.0586862145093192, -2.019207830723227, 3.3855607700751564, -5.495735718870924, 2.8029272483043335, 1.941634771091701, -1.9436971848617601, -1.9437099486353175, -2.333428945381889, -3.459451904636532, -2.9414300993022184, -2.3822032247597615, 0.3807151418469277, 3.482636667980446, -0.5738546588756116, -3.576817438470803, -3.5840478645292553, -1.902296717140894, 1.6720101035550174], \"z\": [-1.1231662663790838, -0.529292769334986, -0.5517475552309842, -3.2327895945426612, 1.3897666701209241, -2.9348767865099923, -1.6399129511561827, -0.8719472953900119, -3.119985887920175, -4.341915798309444, -0.4888298037782642, -1.5264552532526785, 5.730230767617985, 1.7171715691314926, -2.8161155203696007, -3.1252740999559934, -0.8025191640697906, -2.270319103682923, -0.3147491399029614, -1.466536753601835, -0.7524020340761123, -1.7131939450203282, -0.029009723176304777, -3.8945464866652872, 2.5817476707378737, -2.7616256181095893, 0.1461871063921756, -0.3492393728125225, -3.0014625213446156, -0.7543007489116005, -2.5773841759334677, -3.4937617297089574, -1.896962952625674, -1.5757686362789975, 4.305573838345272, -2.7049183339149705, -1.1804841586967132, -1.904726427827733, 2.141226390682395, -2.310733679553292, -3.3019319107858722, -1.6788425128919364, -3.078089088637227, 0.826392712062735, -1.396219745092521, -0.7288088632715771, -1.9438883211222437, -0.1662407043100522, -1.7998451964402378, -1.466249533237898, 0.3073453522670583, -2.210131550865618, -2.0409558137666446, 1.111938841326219, 0.0898273559921466, 2.0058789445105747, 0.03883570784474278, 2.6823381285485803, 0.1469318044736054, 1.637374879334539, -1.7045356299693273, 0.589327733439575, -0.6057712704436629, 0.5795100392844567, -0.199918893975981, -0.0827194741858603, -2.7153844427129217, 0.5988127576047962, -2.61393611048931, -1.9351071199631935, 0.5674619467678585, 0.728013647599326, 6.328697179023597, -2.142724155672945, 1.254924567519137, -1.1706805549732666, -1.2620112762078408, -1.209793216727956, -0.5621074879888625, -0.380575177521611, 3.6710006745504735, 0.5558435193599541, -1.0281571052639487, 1.446317619109787, 3.0072377012462685, -1.5661437458658964, -0.6012608394515987, 0.9806961798963255, 1.1736470794931235, -0.35118633651137005, -2.1531442639529152, -1.042335453802028, -0.6372394386559795, -3.1347152891009187, -1.5150956415992944, -2.585169269867321, -2.223978539217693, -0.32642339928496034, -0.9427628258313148, -0.2181869653459478, 1.3194785403214486, 2.4663170710564466, -1.238684037001179, -3.838320421092408, -0.9752715808458896, 0.22128004468146126, -2.270404236330369, -2.2707620394647017, 0.4443823098467825, 2.7440186608707906, 10.112423868290136, 7.092074799649396, 0.206380296257047, -1.7866326009608442, 0.913878827884026, -0.0068409827439421455, -2.628599534589367, -2.4740508747836256, -2.8960974699791073, -0.20545369686798928, 0.04696894939764707, 1.371881352309232, -1.1089437132403017, 0.8986356255507326, 1.0883873440928395, -1.2799870636484223, -1.6726317523996164, -1.756193604660933, -1.0046984767434364, 0.479849709933002, -0.833853429604362, 2.9036992419230296, -3.5155890303280506, -1.7667777190752552, 0.18248369333009073, 2.5543865133252144, -1.0630561036172335, -1.9911347589642403, 0.9893777300286083, 1.4819594010861898, -0.11572146010591443, 0.30692080810824524, -1.4570533487537563, -1.7442419185748275, -1.9946998423520208, 1.9839634604101344, 0.36133988787123084, 2.0129177902215734, -1.676491290627953, 0.316685297228659, -2.841066698050154, -1.0647508334129712, 1.7751583122202519, -1.7225153366946246, 1.360728509379984, -0.2912722791115061, 0.3169558308654868, 0.8709775613052413, 0.5211405915284638, -0.8916941016523526, 0.8674853606904087, -0.017169520556447944, 2.7342371582162714, 1.4856648620817323, -0.1557020406206017, -1.5900181939254987, -0.8287751838612729, -1.022529065319804, -4.8803611379395955, 0.9957545190492505, 3.757032876671418, -0.8879747250291712, -2.1536501402787525, -3.1820822611550645, -1.1796239413435874, 1.4329170595492795, 1.7112016438027526, -1.7540717439299593, -0.5187550862966096, 1.4423191098741435, -2.6807818934030436, 0.591453266708387, -1.6999192620041612, -1.7931536882088115, -0.19250556521012743, 0.7982023070785613, 0.8568267853101605, 6.235415630269018, 1.7215877368986692, 0.027546189088048352, -1.2537510929278595, -1.9977099304431054, 1.2873550664263498, 0.5219535106521106, -0.7093697223796124, -0.7530762920730723, 1.9109258370929105, -0.5074334026417965, -2.2856035846057012, -0.27523620109028046, -0.960564418988025, -1.2019321936471188, -0.17905690530682616, 1.6594854105811379, -0.42227733588029054, -0.44313472915147706, -3.262791743084876, 0.8970899975257974, 2.459486546656657, 2.088476386107969, 0.5627305540693773, -1.877029314702311]}, {\"hoverlabel\": {\"namelength\": 0}, \"hovertemplate\": \"diagnosis=benign<br>PC1=%{x}<br>PC2=%{y}<br>PC3=%{z}\", \"legendgroup\": \"diagnosis=benign\", \"marker\": {\"color\": \"#EF553B\", \"symbol\": \"circle\"}, \"mode\": \"markers\", \"name\": \"diagnosis=benign\", \"scene\": \"scene\", \"showlegend\": true, \"type\": \"scatter3d\", \"x\": [-1.2370633569678815, -1.5781612347743417, -3.5573363735837176, -3.7493133959613814, -4.5819366721975605, -2.136445277248829, -1.5674789972172494, -3.5429055574642914, -3.1578140502064347, -3.4504885435490693, -2.8581584400558473, -3.7214589928251116, -4.135962943809602, -2.3858356631208633, -2.578883251891182, -2.3141322494247545, -2.7859247566688867, -3.518648339678204, 4.330002649111326, -3.2612794727668626, -0.3078557704384219, -2.6299766385488192, -0.8345178814467332, -2.0215776584034635, -1.6383849373499124, 1.167461611069753, -2.174464309515004, -0.9341581044244412, 1.2596046473981648, -1.5882639721575145, -2.8474315867216204, -1.9649501128917581, -2.5920828278179133, -3.904338150158344, -2.81823121316826, -4.555028840435543, -3.4481835412334156, -2.1159602640292885, -2.6913522049381715, -0.7492713563254517, -3.159006037412182, -2.2286798134573997, -2.492831035619731, -0.10335042645961892, 3.591294118653046, -1.3489486828746113, -2.510117675559439, -2.0460295724144437, -2.097069169447025, -2.9659992066118672, -0.7707436775295591, -2.2025155237922607, -3.1434122455838627, 1.4088683634099544, -1.8774673635800383, -0.7091148317318243, -2.6007895039984787, -3.258007359453028, -1.9920347221087924, -5.0150086899681865, -2.4559688106517754, -1.8372816695291996, -4.346489712223077, -0.7328129161008554, 0.3930986639478442, -0.41232781280252634, -3.0499249404331064, -1.4425637315733024, 0.08318610257659292, 7.093306714217407, -3.743404543000415, -0.9691728143693713, -2.4187199081367092, -0.7516030055148069, -3.6546465282472953, -4.680211576032237, -0.5977817665920832, -1.3250313470330766, -2.9974032071055006, -4.38673272110825, -1.9777014395993198, -2.514876418888751, -3.4839862980629865, -4.65872957796273, -5.351618114956118, 1.1708977789424229, -4.975702062173022, -4.064025658764227, -2.6593596153329613, -3.8890655271808034, -2.8358909181766303, -3.3102836207052357, -3.357304402533107, -1.7177351761278508, -5.5657358990383905, -2.8190385096210564, -1.4734313692181, -0.7811899668992565, -3.4548953860776925, 0.3144382259576216, -2.0591919425513057, -2.998710528221846, -0.3887562987314471, -2.756932991250132, -2.3735018019556327, -0.9671903115731022, -2.975798787940263, -2.478359512382172, -0.8260392924233261, -3.8946973283215005, -0.3895780902111776, -1.4573213568179229, -4.01914024055778, -3.6764132931720925, -4.036607361811667, -2.3342333502203507, -0.6817688659262048, -2.22772051881656, -4.477584655732125, 1.3226214188375585, -1.850089860112025, -2.2813180992712088, -3.2287701182828314, 1.025900787658124, -2.5825558372683837, -2.485883225505441, -3.03248114077346, -1.4646759334465103, -2.0121524285112526, -2.284340252021574, -0.7397430855916051, -4.506562510702929, -3.1587543014151303, -3.6391359672020864, -1.2765833791694758, -4.346014054206062, -3.492426037281719, -1.8665488536734807, -2.4707226852961783, -1.3726850236755597, -4.138882573250636, -0.6869402913915148, -4.312129582763438, 0.40330942136320297, -3.0036057953367448, 3.134008205555905, -0.417836866889356, -1.420223135093959, -2.8705883477899636, -3.3658457040536445, -3.3150001548202317, -4.769710159707721, -2.7870960094501487, -3.393841771539096, -1.455330517897938, -3.578835403446263, -3.057032641858982, -3.0744358315671816, -3.8535397332361416, -5.390256393855465, -4.657682334489832, -4.027542388098492, -3.3478219416134385, -3.299842011469615, -2.1364041423426383, -4.038017141729039, -3.7654145533035512, -4.871239383469573, -4.747248516364955, 1.5729311405541115, -4.026620252699636, -1.294866170093639, -1.8103805588516522, -3.145650188514171, -2.8872680582082477, -3.149653983800375, -4.628379483067652, -0.5276966173785579, -3.2135009804760877, -4.386422966515232, -3.810017869839058, -2.3932759643377373, -3.067695140592331, 0.29531318325900113, -1.9389694969724451, -2.077178921448971, -2.17691687957903, -2.4315514550148354, -3.3679657788802824, -1.2065977905251593, -3.326079248734269, -1.9287954021760012, -4.0418350899845406, -3.0121949701687156, -0.9826485812832819, 0.3578938625423362, -3.1939178655016276, -2.9932333013012737, -3.193914150477153, -4.591961853507309, -2.485916154385206, -2.398665346191244, -0.7796151997167114, -3.1399884257467523, -2.2237757455632106, -2.4996363741150156, -2.614948307229041, -0.09610811659042923, 2.0448569345190655, -3.0667495275551304, -1.6035864433736278, -0.9255666031938574, -3.2883495941184915, -1.5548521496921166, -0.3987799175405684, -2.300567821319104, -2.0588194558405144, -3.424518055234841, -0.47240655184306823, -3.643380238605784, -3.594689343583275, -2.0103794137300737, -2.9208334948550294, -0.5007378002541163, -1.9114985749212656, -3.7850992278148827, -2.7083939681862774, -3.4307706912171336, -2.0013884663669046, -2.47329309426404, -3.6472577464165856, -2.346186850954011, -1.142996926539183, -1.3508573033070916, -1.9693236050159442, -2.93118705542684, -2.9263743861248193, -3.9961882774148147, 0.15513805946411016, -1.9296217302265228, -2.6223386017129777, -2.9218778045980067, -3.3419448039217596, -2.014915033417928, 1.9884621055501785, -1.669603930585872, -0.371178113530746, -1.8489599298555799, -4.703042202140208, -1.2831871507732415, -2.3142468192940395, -4.659085176443041, -3.943473381740334, -0.9158035193148585, -2.194984300999978, -2.240876053639662, -2.1251804369381624, -2.6153174112120383, -3.2109679756847043, -0.30675039871992027, -3.45471837209579, -3.9005268480917663, -1.2572515710552805, -1.5572194125172596, -1.249258096693325, -1.0774513299000172, -2.2170923054408407, -1.1738306467734512, -2.8363014443395675, -1.8570858988701486, -1.328614372943281, -2.8027713567575967, -3.1745687967484417, -4.0870773609453925, -2.5601150180178998, -2.9688887959136134, -2.7574304510386387, 1.3703398754754983, -0.41766449255266497, -3.838398623003497, 0.6454786474693629, -2.6838464009942538, -2.041664052111176, -1.3992963501227635, -3.5364152954283274, -1.9905294465675856, -1.9981853671187648, -0.5206581122933986, -3.172370488264697, -2.202710189027491, -2.985484690306783, -2.481055107280776, -1.2721114612836033, -2.2351568880664923, -0.056183104312903714, 2.317390606299, -2.2843312608205295, -1.72631091767835, -2.8943106610058944, -1.6545218459243385, -4.064270597820575, -2.793330657469109, -1.474919937603813, -0.22939463704264948, -2.5532584076063403, -0.60061611357575, -1.4087712143775306, 1.2988665488352322, 1.0766932755662286, -1.249760524750724, -1.2569284056518746, -1.1665352144930465, -1.8876392413950869, -2.767435702847253, -1.1315768907149053, -2.3336707367950784, -0.19987058010959124, -1.1760259132073583, -1.292636539259723, -4.429456371072436, -0.6198387404600391, -3.2523157686255844, -3.3529270535474027, -0.8598029859653622, -3.1566219686772463, 0.34652811322472465, -2.4614066509073504, -1.5301007215886915, -1.773585066024572, -2.6804416239561193, -2.136351228583359, 0.3431233829588644, -4.197079986411729, -1.1428318645920028, -1.6654751531991643, 1.0117124957509898, -1.300929711987744, -2.3734287250066926, -1.6658710117838336, -1.927678192336421, -4.2372166179312405, -2.6778707208615216, -3.8364978518180597, -2.5514402959563935, -4.694923445179744, -2.0250371640967466, -2.8959482055248675, -3.502201040575259, -2.1539036673919885, -2.0550840680147853, -3.877289579389741, -4.063862114750505, -0.09866733266046473, -1.0893761900826378, -0.48177096483631043, -4.870309518088227, -5.475243302616136], \"y\": [-0.18821495138356087, 0.5728081850133554, 1.662949912152921, -1.4134731129616718, 1.4842203215680927, 0.09582960060216114, -1.208433211633065, -1.2824955784462837, -1.6889585892523884, -0.4982187064519918, 0.1527231375507764, -1.7876416531901809, 2.403792491657536, 2.757658124546549, 3.138671904860042, 3.2679896923208003, 2.3106487132445337, -0.6583094625255418, 9.202525681328705, -0.9378381227025454, 7.387812168439854, -0.6973093720913061, 1.965604852274775, -0.25489984179872266, 1.7159491113151022, 2.5145158504052354, 0.4968779771747641, 0.9277014875928213, 1.0155770579437389, -1.6196568337265098, -2.893647591973183, -0.9651569988966309, 0.2136339323004721, 1.1900666345856883, 0.36788398791658433, 3.5287860160465447, -1.424622451712038, 1.8493736041276552, 1.4200617342157007, 1.7976385109590116, -1.0357494263129017, 0.6674106407002659, 2.598686270414612, 2.2801435485696313, 3.926333165484592, 3.556225102413102, 3.251319504474564, 0.3048848573626566, 3.6670958866290406, 0.3715064796957557, -0.06410922076311242, -0.7356052277040476, -1.8774090305615512, 1.3049294022186197, 1.423230635510194, -1.568232321809166, -0.4823354735940615, -0.4183214094074775, 1.3293551635558736, 0.5746999769163895, 0.8984552841041094, -0.0910267616164091, -0.8935722670343464, 3.7021823725176795, 1.0830680585189216, -0.38963131558911274, -2.2377845265936043, 0.3058704405269959, 7.150359807332041, 12.573194222077786, 0.25050152782732327, 0.9449443039767409, 0.0055524164336419966, -3.070648662641796, -0.6746487439154671, -1.1038572430063545, 1.785650869342371, 1.469294022466769, -2.7388610582258828, 0.006872282111090631, -1.8427794287292427, 0.114252298166788, 1.6196919922297721, -0.22291481580662106, 1.0267578631514938, 7.01448656950926, -3.3862048639151, -1.2461661687278025, 0.5399357965341751, 0.8160717092409697, -0.3987296892781288, 0.15574118664053815, -1.1037324287187353, -0.5431655241885318, -0.47784756560360786, -0.9701105647994632, 0.11689025627075167, 0.6528492587353986, 1.3069387183190926, 2.0775607300997576, -2.472787786710838, -0.3967780320942838, 2.2767978896970433, 1.0868346842258858, -0.733402568358526, 0.43843817465987467, 1.8109737756051536, -1.4185764449171914, -1.2502474769472232, 0.5385707401258357, -0.6144154715907352, -0.2017267534959208, -1.354247382482555, -1.2916290596967874, 1.1625461205343546, -1.3489797345531966, -1.1359911283733912, -1.214999688166466, -1.7411293615914036, 4.789476583536972, -1.5841281571699544, 2.077685986629328, -1.172073476919789, 2.361261939786881, 0.7292131113622029, 0.46059640186934564, -0.6494687997876477, 1.6866318114198806, -1.1034865592650551, 0.00949362757171442, 3.152520592619468, -3.16927258247978, 0.4103017964025054, 1.5895870736069688, 0.8490529851259733, -0.3219780627987389, -2.634082401518955, -0.9020642122263482, -0.13802624692033777, 0.0058054643618218535, -1.3765082423674113, 1.6950096245456523, -1.9784861281910302, 3.7234340078843546, 0.3541602304548787, 4.273459528957519, -0.8085765698877778, 1.393978114839389, -0.26864450797978173, -0.8076006187162631, -1.4421762328815584, -0.5429618585991233, -2.5330339980991736, 0.7539639617279329, 0.5919428680943932, 0.8915829914942512, -0.17921338938021616, -0.30605843355206797, -1.524726427501084, 0.5562555254518927, -3.065387434615517, -2.5429070463086543, -0.0685630461288797, -3.138709393477258, -0.004392850846397495, -0.24069805560075222, 4.398200502365681, -2.3392147899569125, -1.7984019730122716, 6.509099322962935, -1.4022064540592543, 3.4708086387207535, 0.3962072928117548, -0.7425265430466301, -0.46473163195041656, -1.7712484016617385, -1.835618356989329, 1.2658716177983262, 1.1034431355132348, -0.7611037294767055, -0.9099185523527246, 0.9900307800138057, 1.1358375657461224, 0.22693503356455422, 2.5449881191797714, 1.8065194936586968, 0.9589112574818243, 3.4472038686961297, -0.5629288967628759, -1.3170443354840424, 0.4751715875601451, 1.4614697833833556, -1.3569174499906738, 0.24375997823383183, 0.7972523976563743, 2.127838625948704, -1.849152073667742, 1.6313922196995307, 0.5793394451873803, -2.7611270973929396, -1.188939410711144, -0.25074479459613086, -2.124343434455464, -1.4880221633470319, -0.35716071441754027, -2.018535626163111, -1.1024744623110985, -0.1298475792729315, 6.42681985222029, -2.1820956994850547, 0.29259621818554277, 2.302481426663799, 0.2013113417255013, 0.9798577388238883, 2.161212680769852, -0.9320775878824851, 0.3204351476741083, -2.445518410564717, 3.7028294364347443, 0.7868599150221253, 2.605087215042509, 0.42968955488443594, -1.7004724699871707, 0.10673146158975011, -0.6513938805936559, -0.32614636325198143, -0.2196657483213865, -0.9926100400900288, -0.29332646782072147, -0.3350470314705208, -1.2413651205289793, 0.682741320309473, -1.9621714957335352, 0.3695738956741906, -0.1758485131759982, -0.49485623130132095, 0.3773322514638296, 0.9598560914374111, -0.43800822810263057, 0.8924666840394057, 2.502101619517975, -0.00921267651980316, -0.02222473686064211, 0.7784521332015835, 2.3160480563505375, 0.8623188492522466, 0.11361266087100115, 2.541229653209452, -0.4323024233243601, 2.550909307694306, 0.40203147474714074, -0.782298748738832, -2.0300162856255755, 2.4790131254635774, -1.8053532425418408, -0.4545895114744917, -1.194796907460681, -1.8320604349232488, -2.235142699069918, 2.1849988368001223, -2.1364615520699477, 0.7307759772222988, 1.0676915226845884, -1.0379271105458483, -1.5888387904759274, 1.8036181648207803, 0.0298912861809805, -0.4748395074561088, -1.0181258048215012, -1.5713931202727673, 0.7770956577879659, -1.6663016389097554, -2.0757336231664687, -0.4847100759797824, -2.4940454473630544, -0.06884713660872498, -1.793918763577423, 2.1100113390087727, 0.11651969681108307, 0.8991786546214914, 3.4260114259166516, 1.443555532262494, -0.9032559293769551, -1.7722262434300373, -1.2468541515624951, 1.8994625440116304, -0.2063711392798144, -0.9733678156533678, -2.089052294443639, 1.2860393116261983, -0.6733392478205762, -2.3639587601041963, 0.509833849664917, -1.2987044961696776, -0.22738339268508176, 4.389134331162322, -2.4668407637389334, 0.998177832632142, -0.977944320110093, -4.555664121229305, -0.5609542094169703, -1.0778881310751465, -1.5910942024394834, 1.5159034176842796, -0.7639004861603884, -0.8384546571261312, 1.5057705875321306, 7.729852790679195, 8.294775466916295, 1.5956838494229446, 4.117186688421104, -1.6656937330852155, 1.6721917467392546, -2.1610487952599815, -1.4110019730219345, 0.7901466039147353, 1.0763599970466133, 1.0113701711341083, 4.964224697889856, -0.7860360334813518, 0.6363492741394832, 1.285925165504554, 2.673300600373406, 0.09684851438054082, -0.8715426248404677, 1.5412252709898526, 0.6008479655802121, 0.40521779065752656, 0.8042100040539464, -1.4847089020070534, 1.5185806362538292, 3.534481048734605, 2.367392298282154, 5.599458471642206, 2.3896181218680024, 1.0923896437730125, -1.8214152975770799, -1.6815762384243467, -0.21396274195772924, -1.137739924273478, 0.1842724947480643, 2.3157928272035653, 0.49624993348849983, 0.22832995965082184, -0.7674779387138375, 1.2612418928125686, -1.4516357630712922, 1.8008324991505864, -0.830068819716899, 1.616459272868378, 1.0842547429251639, 0.12216843987418304, -0.2135598440747324, 1.2928479018321513, -0.17801969477798824, -2.1311061071787147, -0.6706367732129417], \"z\": [-0.5932834978633956, -1.8014466829386702, 0.4511873639462873, 1.7323077524038222, 0.042074581382545016, -1.4924118097207801, -0.36915911408262975, 1.0182109327896223, -0.49629376968578, -0.15251801783394742, 0.42893494255947, 1.279932849002214, -1.2429584630585837, 1.21408568319531, 1.4002803041691005, 2.796224139761942, 0.472725294183401, 0.5913749319861431, 1.4929627859270693, 0.20513004405865962, 3.8190860965563487, -0.5839416072705246, 0.7904326566276143, -0.64787195075135, 0.4342062554418197, -1.9057187470692454, -0.9490917444157444, -0.040163690919288945, -0.08059274157691317, 0.3099992463271799, 0.5279888001550476, -0.08120802541659479, 1.0356114848749594, 1.5519811792912908, -1.3514356774574514, -0.2152639667426021, -0.08872402367433109, -0.5566739488378227, 0.9691508026427027, -0.5683657471968934, -1.4906841693368653, -1.091560369917907, 1.669725528860067, 2.1095626792770883, 2.0470066512760576, 1.7321912190776527, -1.6876244158220797, -0.5338386225841855, 3.632200386350314, -2.0665331221953536, -1.1344087914611605, 0.26708008566717356, -0.6703690303117491, 0.6414288080173062, -1.0708121233807788, -0.6699940926651121, 1.8723727659462652, -0.6918055890674458, 1.1352446169381973, -0.842438124327919, 0.3531335356056737, -1.4452809005892906, 0.6392560457925105, 0.6585050875829087, 2.2476055543621194, -1.045770414740448, -0.46945295540839377, 0.5515479031743643, -0.06001001218059112, 7.3587081447020255, -0.09738326270249109, -0.8908112631810867, -0.7983804121469591, 1.4491816880606976, -0.9069859560555957, -0.2573081906805457, 1.4817360185905641, 0.8484213839384708, -0.1611837304034501, -0.9481082429201747, -0.277359700293305, -0.4966227560087044, 2.6754692998567204, 1.5593586572738711, 0.3249858898498175, 4.2718620942552965, 0.43983838411805576, 0.5744777891973829, 1.7070147303525212, 1.0157172890506978, -0.34744511915546383, 0.5414790124994642, 0.15208985088470955, 3.298375246542591, 4.12746263953126, -0.38259144726081296, -0.21466783855664645, -0.6436569922036279, -0.02926447723593557, -2.0833119102336974, -1.4617188252309197, -0.5964659052756619, 0.6273321088731076, 1.707238161662122, -1.5260274675719934, -1.447696217556482, -0.22343527224160295, -0.31653324526459564, 0.26796076417645315, -0.8815586927758747, -1.352869240260137, -1.098878749920374, -0.360472698637506, 0.4246103130700991, 0.18974775146147793, 0.2326870342397481, 1.2336664469970584, -0.1924137518188936, -0.8882070943749594, -0.6625351309584779, 1.2639172928730722, 2.4306489815028067, 0.264664314602806, -1.616885539605658, -0.5481427590957036, -0.598920319761327, 0.31068266873796063, 1.1699058872853991, 1.3380240751537165, -0.4504394530351012, 1.4698579391945068, -0.1880616337895225, -1.108817202387766, 0.7162797481027907, 3.0700681748421847, 0.3884747459480355, -0.07218764292573633, -0.8711686704959684, 1.7948851626651527, 1.549289177732561, 0.8780486085321096, 1.0262128599765514, -0.2513065188087016, 4.586468953235504, 1.2340149682365154, 5.866279852311224, -1.0932914756149938, -0.8369868311775056, -0.46898725038516875, -0.8070794050953619, -0.5836325837688976, 0.8938680060169314, -0.8840344421067158, 1.7717934964124906, 1.1463403796182368, 0.2614874009810122, 0.621773466252561, 1.2592536415527198, -1.1445096132101444, 0.560069885089169, -0.07600910518524184, 0.35321715896831374, -0.27019331232819865, 0.14889236149361484, -0.05513893636071531, -1.3281267484884487, 3.950207769864131, -0.1682948097659359, 0.1697201710238817, 2.1671587986548464, 3.186499852872734, 1.1095279948821086, -1.2303340488752563, -0.8623515063449216, -0.4757432849280696, -0.035833643101283744, 0.06423092371821368, -0.9204410841133748, 1.6119812081663403, -0.40059743018370175, 0.44316765286755105, -0.7575099955882962, 0.37462257106162966, -1.0894165869124364, -1.0014235966908922, -1.1670794670503823, -0.23426485846364042, 3.4569448162596577, -0.19257366216216168, -0.9307408266947151, -0.898285777239451, -0.10064242180910864, 0.5383416287062945, 1.983733021356535, 2.369421115787423, 0.7082090941075805, 0.09939834662359709, 2.556717797366259, 0.48976417704125336, 0.9805426392218587, 0.3487768388063478, -0.32713778258489107, 0.320788935359572, -1.198878475232664, -1.1016822976755036, -0.7312746064253616, -1.2407359794548978, -1.6714641552197547, 1.274121117098081, -0.27906268262714595, -1.5862253750487076, -1.596111814213437, -0.6277563303615232, 1.1965597349850348, -0.9456049264271247, -1.12995322196535, -0.12245841489392023, 0.04504872513553997, 1.9537849068128619, -1.1621457776478052, 1.852029651960058, -0.10408877745237653, 0.29572720353464504, -1.0287479231375205, 1.4502885110713377, -1.0580802241771385, -0.31450469246088075, -0.7316945365836488, 0.6192039165479647, -1.4823620023035675, 1.386624499544169, 1.1327338536970202, -1.2407196998012295, 2.486675721021004, 0.4207314301480015, -1.0170708549747587, -0.886793794126088, 0.20440410944888068, -0.46144569656608214, 0.042344784585134396, 2.4349994906159087, -0.9013034977448104, 0.5033012449227847, 0.12557876654899727, 1.2363038827198582, -1.0103061415238777, -0.9983635804016078, 2.0053475708090955, 0.005305026886207169, -0.08386034166827087, 0.27462321976132725, 0.19212186181746435, 0.691735711171976, 0.36260668680495134, -0.4351093708987104, -0.4655276030053759, 0.4903719528897736, 0.7643295719276437, -0.16622446412267092, 0.039286216041187504, 0.19716268461047304, 2.136071056526862, 0.259475201404326, -1.301245064123674, -0.3264134392024453, 1.781041630747919, 0.6364601582058943, -0.4815708721141248, -1.4866300061869047, 0.8264827553412682, 1.2567582345505999, -0.1940182814190149, 0.07490030819849723, 0.6313639939340047, 0.17031258403395327, -0.7784115394530711, -0.7578141337854948, -0.8537201644913783, -0.536142590029037, 0.700563904659116, 0.6082849062538026, 0.3394034819390405, 2.8432414259234955, -1.4795615794207408, 3.3854111102673508, -2.0309980307973134, -1.6413250465082496, -0.3241353576795715, -0.9788057603055668, -0.8873991700323387, -0.5904898729468755, -0.4326145682589279, -2.2389916881195258, -0.901436887820838, -2.2555156561761187, 1.778411139548378, -0.8211884290771784, -0.0802383905549667, -0.8056442328065027, 0.7523230491011178, 2.1766847126385587, 0.8445420897928947, 0.3199914542642349, -2.2162830032472773, -1.609403110936738, -0.6870420422410123, -0.35389600022499773, -0.6889146087938236, 0.4341922880860213, -1.3564745662048607, -0.4127298235843134, -0.7378780224449648, 0.11979756134703982, -0.02109616376869659, -0.565053061850616, -0.35004338804183194, -0.6731488160482437, -0.711768269322223, 0.3459270113793132, -0.4734191189125938, -0.4888512948185947, -0.21847652408018578, -1.7790870924354603, -2.8140446661879044, -2.1957147617560353, 2.846454035127622, -1.171465122918795, 0.6044647201441116, -2.0279179780423124, -1.7416933878795409, 0.17896524747188666, 0.06966881066419148, 1.3271446279330288, 1.3010369745787287, 1.5022494372263233, -0.6326983278742975, 0.3733074638889453, 0.38452813812418757, -0.14807244099680797, 0.47820235869791183, -0.32641839040158926, -0.05384821559724064, 0.9232396600241581, 1.4141779843278013, 1.5439647999705484, 0.5049261549853428, 0.780545987743085, 2.7664565771525336, 0.5647967392315878, 1.838959442887496, 1.859943902428213, 3.238772622755776, 0.3889294857512583, 1.4293788587315708, 1.0321076197155616, 3.4141887822587558, 1.490442974758829]}],\n",
              "                        {\"legend\": {\"tracegroupgap\": 0}, \"margin\": {\"t\": 60}, \"scene\": {\"domain\": {\"x\": [0.0, 1.0], \"y\": [0.0, 1.0]}, \"xaxis\": {\"title\": {\"text\": \"PC1\"}}, \"yaxis\": {\"title\": {\"text\": \"PC2\"}}, \"zaxis\": {\"title\": {\"text\": \"PC3\"}}}, \"template\": {\"data\": {\"bar\": [{\"error_x\": {\"color\": \"#2a3f5f\"}, \"error_y\": {\"color\": \"#2a3f5f\"}, \"marker\": {\"line\": {\"color\": \"#E5ECF6\", \"width\": 0.5}}, \"type\": \"bar\"}], \"barpolar\": [{\"marker\": {\"line\": {\"color\": \"#E5ECF6\", \"width\": 0.5}}, \"type\": \"barpolar\"}], \"carpet\": [{\"aaxis\": {\"endlinecolor\": \"#2a3f5f\", \"gridcolor\": \"white\", \"linecolor\": \"white\", \"minorgridcolor\": \"white\", \"startlinecolor\": \"#2a3f5f\"}, \"baxis\": {\"endlinecolor\": \"#2a3f5f\", \"gridcolor\": \"white\", \"linecolor\": \"white\", \"minorgridcolor\": \"white\", \"startlinecolor\": \"#2a3f5f\"}, \"type\": \"carpet\"}], \"choropleth\": [{\"colorbar\": {\"outlinewidth\": 0, \"ticks\": \"\"}, \"type\": \"choropleth\"}], \"contour\": [{\"colorbar\": {\"outlinewidth\": 0, \"ticks\": \"\"}, \"colorscale\": [[0.0, \"#0d0887\"], [0.1111111111111111, \"#46039f\"], [0.2222222222222222, \"#7201a8\"], [0.3333333333333333, \"#9c179e\"], [0.4444444444444444, \"#bd3786\"], [0.5555555555555556, \"#d8576b\"], [0.6666666666666666, \"#ed7953\"], [0.7777777777777778, \"#fb9f3a\"], [0.8888888888888888, \"#fdca26\"], [1.0, \"#f0f921\"]], \"type\": \"contour\"}], \"contourcarpet\": [{\"colorbar\": {\"outlinewidth\": 0, \"ticks\": \"\"}, \"type\": \"contourcarpet\"}], \"heatmap\": [{\"colorbar\": {\"outlinewidth\": 0, \"ticks\": \"\"}, \"colorscale\": [[0.0, \"#0d0887\"], [0.1111111111111111, \"#46039f\"], [0.2222222222222222, \"#7201a8\"], [0.3333333333333333, \"#9c179e\"], [0.4444444444444444, \"#bd3786\"], [0.5555555555555556, \"#d8576b\"], [0.6666666666666666, \"#ed7953\"], [0.7777777777777778, \"#fb9f3a\"], [0.8888888888888888, \"#fdca26\"], [1.0, \"#f0f921\"]], \"type\": \"heatmap\"}], \"heatmapgl\": [{\"colorbar\": {\"outlinewidth\": 0, \"ticks\": \"\"}, \"colorscale\": [[0.0, \"#0d0887\"], [0.1111111111111111, \"#46039f\"], [0.2222222222222222, \"#7201a8\"], [0.3333333333333333, \"#9c179e\"], [0.4444444444444444, \"#bd3786\"], [0.5555555555555556, \"#d8576b\"], [0.6666666666666666, \"#ed7953\"], [0.7777777777777778, \"#fb9f3a\"], [0.8888888888888888, \"#fdca26\"], [1.0, \"#f0f921\"]], \"type\": \"heatmapgl\"}], \"histogram\": [{\"marker\": {\"colorbar\": {\"outlinewidth\": 0, \"ticks\": \"\"}}, \"type\": \"histogram\"}], \"histogram2d\": [{\"colorbar\": {\"outlinewidth\": 0, \"ticks\": \"\"}, \"colorscale\": [[0.0, \"#0d0887\"], [0.1111111111111111, \"#46039f\"], [0.2222222222222222, \"#7201a8\"], [0.3333333333333333, \"#9c179e\"], [0.4444444444444444, \"#bd3786\"], [0.5555555555555556, \"#d8576b\"], [0.6666666666666666, \"#ed7953\"], [0.7777777777777778, \"#fb9f3a\"], [0.8888888888888888, \"#fdca26\"], [1.0, \"#f0f921\"]], \"type\": \"histogram2d\"}], \"histogram2dcontour\": [{\"colorbar\": {\"outlinewidth\": 0, \"ticks\": \"\"}, \"colorscale\": [[0.0, \"#0d0887\"], [0.1111111111111111, \"#46039f\"], [0.2222222222222222, \"#7201a8\"], [0.3333333333333333, \"#9c179e\"], [0.4444444444444444, \"#bd3786\"], [0.5555555555555556, \"#d8576b\"], [0.6666666666666666, \"#ed7953\"], [0.7777777777777778, \"#fb9f3a\"], [0.8888888888888888, \"#fdca26\"], [1.0, \"#f0f921\"]], \"type\": \"histogram2dcontour\"}], \"mesh3d\": [{\"colorbar\": {\"outlinewidth\": 0, \"ticks\": \"\"}, \"type\": \"mesh3d\"}], \"parcoords\": [{\"line\": {\"colorbar\": {\"outlinewidth\": 0, \"ticks\": \"\"}}, \"type\": \"parcoords\"}], \"pie\": [{\"automargin\": true, \"type\": \"pie\"}], \"scatter\": [{\"marker\": {\"colorbar\": {\"outlinewidth\": 0, \"ticks\": \"\"}}, \"type\": \"scatter\"}], \"scatter3d\": [{\"line\": {\"colorbar\": {\"outlinewidth\": 0, \"ticks\": \"\"}}, \"marker\": {\"colorbar\": {\"outlinewidth\": 0, \"ticks\": \"\"}}, \"type\": \"scatter3d\"}], \"scattercarpet\": [{\"marker\": {\"colorbar\": {\"outlinewidth\": 0, \"ticks\": \"\"}}, \"type\": \"scattercarpet\"}], \"scattergeo\": [{\"marker\": {\"colorbar\": {\"outlinewidth\": 0, \"ticks\": \"\"}}, \"type\": \"scattergeo\"}], \"scattergl\": [{\"marker\": {\"colorbar\": {\"outlinewidth\": 0, \"ticks\": \"\"}}, \"type\": \"scattergl\"}], \"scattermapbox\": [{\"marker\": {\"colorbar\": {\"outlinewidth\": 0, \"ticks\": \"\"}}, \"type\": \"scattermapbox\"}], \"scatterpolar\": [{\"marker\": {\"colorbar\": {\"outlinewidth\": 0, \"ticks\": \"\"}}, \"type\": \"scatterpolar\"}], \"scatterpolargl\": [{\"marker\": {\"colorbar\": {\"outlinewidth\": 0, \"ticks\": \"\"}}, \"type\": \"scatterpolargl\"}], \"scatterternary\": [{\"marker\": {\"colorbar\": {\"outlinewidth\": 0, \"ticks\": \"\"}}, \"type\": \"scatterternary\"}], \"surface\": [{\"colorbar\": {\"outlinewidth\": 0, \"ticks\": \"\"}, \"colorscale\": [[0.0, \"#0d0887\"], [0.1111111111111111, \"#46039f\"], [0.2222222222222222, \"#7201a8\"], [0.3333333333333333, \"#9c179e\"], [0.4444444444444444, \"#bd3786\"], [0.5555555555555556, \"#d8576b\"], [0.6666666666666666, \"#ed7953\"], [0.7777777777777778, \"#fb9f3a\"], [0.8888888888888888, \"#fdca26\"], [1.0, \"#f0f921\"]], \"type\": \"surface\"}], \"table\": [{\"cells\": {\"fill\": {\"color\": \"#EBF0F8\"}, \"line\": {\"color\": \"white\"}}, \"header\": {\"fill\": {\"color\": \"#C8D4E3\"}, \"line\": {\"color\": \"white\"}}, \"type\": \"table\"}]}, \"layout\": {\"annotationdefaults\": {\"arrowcolor\": \"#2a3f5f\", \"arrowhead\": 0, \"arrowwidth\": 1}, \"coloraxis\": {\"colorbar\": {\"outlinewidth\": 0, \"ticks\": \"\"}}, \"colorscale\": {\"diverging\": [[0, \"#8e0152\"], [0.1, \"#c51b7d\"], [0.2, \"#de77ae\"], [0.3, \"#f1b6da\"], [0.4, \"#fde0ef\"], [0.5, \"#f7f7f7\"], [0.6, \"#e6f5d0\"], [0.7, \"#b8e186\"], [0.8, \"#7fbc41\"], [0.9, \"#4d9221\"], [1, \"#276419\"]], \"sequential\": [[0.0, \"#0d0887\"], [0.1111111111111111, \"#46039f\"], [0.2222222222222222, \"#7201a8\"], [0.3333333333333333, \"#9c179e\"], [0.4444444444444444, \"#bd3786\"], [0.5555555555555556, \"#d8576b\"], [0.6666666666666666, \"#ed7953\"], [0.7777777777777778, \"#fb9f3a\"], [0.8888888888888888, \"#fdca26\"], [1.0, \"#f0f921\"]], \"sequentialminus\": [[0.0, \"#0d0887\"], [0.1111111111111111, \"#46039f\"], [0.2222222222222222, \"#7201a8\"], [0.3333333333333333, \"#9c179e\"], [0.4444444444444444, \"#bd3786\"], [0.5555555555555556, \"#d8576b\"], [0.6666666666666666, \"#ed7953\"], [0.7777777777777778, \"#fb9f3a\"], [0.8888888888888888, \"#fdca26\"], [1.0, \"#f0f921\"]]}, \"colorway\": [\"#636efa\", \"#EF553B\", \"#00cc96\", \"#ab63fa\", \"#FFA15A\", \"#19d3f3\", \"#FF6692\", \"#B6E880\", \"#FF97FF\", \"#FECB52\"], \"font\": {\"color\": \"#2a3f5f\"}, \"geo\": {\"bgcolor\": \"white\", \"lakecolor\": \"white\", \"landcolor\": \"#E5ECF6\", \"showlakes\": true, \"showland\": true, \"subunitcolor\": \"white\"}, \"hoverlabel\": {\"align\": \"left\"}, \"hovermode\": \"closest\", \"mapbox\": {\"style\": \"light\"}, \"paper_bgcolor\": \"white\", \"plot_bgcolor\": \"#E5ECF6\", \"polar\": {\"angularaxis\": {\"gridcolor\": \"white\", \"linecolor\": \"white\", \"ticks\": \"\"}, \"bgcolor\": \"#E5ECF6\", \"radialaxis\": {\"gridcolor\": \"white\", \"linecolor\": \"white\", \"ticks\": \"\"}}, \"scene\": {\"xaxis\": {\"backgroundcolor\": \"#E5ECF6\", \"gridcolor\": \"white\", \"gridwidth\": 2, \"linecolor\": \"white\", \"showbackground\": true, \"ticks\": \"\", \"zerolinecolor\": \"white\"}, \"yaxis\": {\"backgroundcolor\": \"#E5ECF6\", \"gridcolor\": \"white\", \"gridwidth\": 2, \"linecolor\": \"white\", \"showbackground\": true, \"ticks\": \"\", \"zerolinecolor\": \"white\"}, \"zaxis\": {\"backgroundcolor\": \"#E5ECF6\", \"gridcolor\": \"white\", \"gridwidth\": 2, \"linecolor\": \"white\", \"showbackground\": true, \"ticks\": \"\", \"zerolinecolor\": \"white\"}}, \"shapedefaults\": {\"line\": {\"color\": \"#2a3f5f\"}}, \"ternary\": {\"aaxis\": {\"gridcolor\": \"white\", \"linecolor\": \"white\", \"ticks\": \"\"}, \"baxis\": {\"gridcolor\": \"white\", \"linecolor\": \"white\", \"ticks\": \"\"}, \"bgcolor\": \"#E5ECF6\", \"caxis\": {\"gridcolor\": \"white\", \"linecolor\": \"white\", \"ticks\": \"\"}}, \"title\": {\"x\": 0.05}, \"xaxis\": {\"automargin\": true, \"gridcolor\": \"white\", \"linecolor\": \"white\", \"ticks\": \"\", \"title\": {\"standoff\": 15}, \"zerolinecolor\": \"white\", \"zerolinewidth\": 2}, \"yaxis\": {\"automargin\": true, \"gridcolor\": \"white\", \"linecolor\": \"white\", \"ticks\": \"\", \"title\": {\"standoff\": 15}, \"zerolinecolor\": \"white\", \"zerolinewidth\": 2}}}},\n",
              "                        {\"responsive\": true}\n",
              "                    ).then(function(){\n",
              "                            \n",
              "var gd = document.getElementById('0fb5dd6c-63b0-4dc7-9707-38e9ee54c0e4');\n",
              "var x = new MutationObserver(function (mutations, observer) {{\n",
              "        var display = window.getComputedStyle(gd).display;\n",
              "        if (!display || display === 'none') {{\n",
              "            console.log([gd, 'removed!']);\n",
              "            Plotly.purge(gd);\n",
              "            observer.disconnect();\n",
              "        }}\n",
              "}});\n",
              "\n",
              "// Listen for the removal of the full notebook cells\n",
              "var notebookContainer = gd.closest('#notebook-container');\n",
              "if (notebookContainer) {{\n",
              "    x.observe(notebookContainer, {childList: true});\n",
              "}}\n",
              "\n",
              "// Listen for the clearing of the current output cell\n",
              "var outputEl = gd.closest('.output');\n",
              "if (outputEl) {{\n",
              "    x.observe(outputEl, {childList: true});\n",
              "}}\n",
              "\n",
              "                        })\n",
              "                };\n",
              "                \n",
              "            </script>\n",
              "        </div>\n",
              "</body>\n",
              "</html>"
            ]
          },
          "metadata": {
            "tags": []
          }
        }
      ]
    },
    {
      "cell_type": "markdown",
      "metadata": {
        "id": "3U22Q0PYXKp3",
        "colab_type": "text"
      },
      "source": [
        "### 4.3. Customized 3D Scatter Plot"
      ]
    },
    {
      "cell_type": "code",
      "metadata": {
        "id": "LL_cAqrIUcOv",
        "colab_type": "code",
        "colab": {
          "base_uri": "https://localhost:8080/",
          "height": 542
        },
        "outputId": "31ee206d-25e7-451c-ed98-7142c6dc1c90"
      },
      "source": [
        "fig = px.scatter_3d(df_scores, x='PC1', y='PC2', z='PC3',\n",
        "              color='diagnosis',\n",
        "              symbol='diagnosis',\n",
        "              opacity=0.5)\n",
        "\n",
        "# tight layout\n",
        "fig.update_layout(margin=dict(l=0, r=0, b=0, t=0))\n",
        "\n",
        "# https://plotly.com/python/templates/\n",
        "#fig.update_layout(template='plotly_white') # \"plotly\", \"plotly_white\", \"plotly_dark\", \"ggplot2\", \"seaborn\", \"simple_white\", \"none\""
      ],
      "execution_count": 33,
      "outputs": [
        {
          "output_type": "display_data",
          "data": {
            "text/html": [
              "<html>\n",
              "<head><meta charset=\"utf-8\" /></head>\n",
              "<body>\n",
              "    <div>\n",
              "            <script src=\"https://cdnjs.cloudflare.com/ajax/libs/mathjax/2.7.5/MathJax.js?config=TeX-AMS-MML_SVG\"></script><script type=\"text/javascript\">if (window.MathJax) {MathJax.Hub.Config({SVG: {font: \"STIX-Web\"}});}</script>\n",
              "                <script type=\"text/javascript\">window.PlotlyConfig = {MathJaxConfig: 'local'};</script>\n",
              "        <script src=\"https://cdn.plot.ly/plotly-latest.min.js\"></script>    \n",
              "            <div id=\"7497c90b-7d08-4118-8884-580d0a1e43d2\" class=\"plotly-graph-div\" style=\"height:525px; width:100%;\"></div>\n",
              "            <script type=\"text/javascript\">\n",
              "                \n",
              "                    window.PLOTLYENV=window.PLOTLYENV || {};\n",
              "                    \n",
              "                if (document.getElementById(\"7497c90b-7d08-4118-8884-580d0a1e43d2\")) {\n",
              "                    Plotly.newPlot(\n",
              "                        '7497c90b-7d08-4118-8884-580d0a1e43d2',\n",
              "                        [{\"hoverlabel\": {\"namelength\": 0}, \"hovertemplate\": \"diagnosis=malignant<br>PC1=%{x}<br>PC2=%{y}<br>PC3=%{z}\", \"legendgroup\": \"diagnosis=malignant\", \"marker\": {\"color\": \"#636efa\", \"opacity\": 0.5, \"symbol\": \"circle\"}, \"mode\": \"markers\", \"name\": \"diagnosis=malignant\", \"scene\": \"scene\", \"showlegend\": true, \"type\": \"scatter3d\", \"x\": [9.192836826176306, 2.3878017957611597, 5.733896279731496, 7.122953197689654, 3.9353020736400195, 2.380247150345682, 2.2388833080409074, 2.1432985003707166, 3.1749242930922517, 6.3517467895061746, -0.8104137708475806, 2.651100477265788, 8.185034458137762, 0.3421259139798529, 4.342379194640673, 4.075656175362613, 0.23005501570263973, 4.41801091595371, 4.948703550557488, 4.733210788183552, 4.208524209066299, 4.949632073996702, 7.0985628548497965, 3.510262603921108, 3.0640538860406683, 4.007264143671017, 1.7153097265529234, 6.059445513504798, 2.902236104979363, 4.554782688827055, 4.990602722484546, 2.9853407889639363, 2.766369157795782, 1.2961987650263191, -0.9980689008817064, 0.7652641153605345, -2.15095347073028, -0.09333138655121542, 9.087999677321909, 0.9904537654954622, -0.2935465509327446, 5.380940406953831, 1.7000068868154097, 3.302550951416243, -0.6746192855733956, 4.648738872451875, 2.176862882227516, 4.759112153878888, 1.6916079231783496, 1.8123054050210912, 2.704596172624393, 5.50370531534158, -0.3617091927052838, 1.4281675928818176, 6.230896511920652, 11.668714648308065, 10.769242819241565, 5.034811085505791, 3.2882353846948265, 0.6076079451793104, 3.5835636260369688, 0.2524975674798962, 2.7758655689837286, 4.396227954719254, 0.6162808698085597, -0.4328602208154456, 3.2139167651597274, 13.056121858721964, 3.110527693348155, 4.956725569981572, 0.8510142626656103, 3.334133198005856, 12.89461213404795, -0.6388804999585114, 1.9191334226718282, 4.643691316582795, 1.432069426804418, 1.3526270254282338, 2.1714160183136824, -1.976840355325717, 3.7820264555654166, 1.3450204377315456, 2.399997843114127, 4.100787726635052, 3.3873307645980573, 6.149886189951152, 5.494152797643767, 1.2136346121404045, 5.069661081474272, -0.9474878917452705, 2.819368343445993, 2.956301867125833, 9.51266984415571, 9.007165526260627, 0.7588784847990594, -0.3900189810644905, 0.3648761518427595, 6.523116620452608, 1.7796614892358489, 2.6114848931625594, 2.4984388777102606, 1.277027175342104, 3.473197342877639, 1.256675111969816, 1.6494606959298839, 9.03658948028043, 4.554590064831688, -0.22309260678702608, 0.446544396427531, 4.8089692447220855, 12.285019759537171, 3.372196590663377, 2.5087663115891767, 1.3180684765347637, 4.943581014515655, 4.298077329870446, 1.803247020481447, 2.755568001128289, 3.2572546734497334, 3.3163241134454435, 8.403847113425122, 2.647568633101668, 3.350295790634422, 3.795565641822777, 7.143842039047055, 7.085010648766646, 1.314099003589085, 3.711649514787289, 0.46047909088185884, 6.39264992053301, 5.25554494975955, 8.73386150286221, 3.6913178802207676, 3.3782508727169667, -0.8402096538039872, 3.2843726200243863, -1.9087689281247349, 1.6147819253625015, 6.619726346868356, 7.67614947169293, 0.33734549265496794, 0.01743079148403703, 4.960268117819796, 3.7850601029231017, 2.6372557772584058, -2.3858827584374653, 6.590235943346889, 7.182933102057551, 1.8953162763162656, 1.8348404671287553, 7.236485314354973, 2.250510374119235, 2.1078012279114624, 1.785949980310559, 3.3196739715131915, 4.6801662624095615, 7.353218575033594, 4.975162358397938, 6.182283741689403, 10.934298158429261, 2.1184969319008804, 2.735011771673695, 6.227025988675152, 5.307140022027067, 7.248001061247697, 4.20722061893946, 3.6350149466478316, 3.519248275012534, 3.7659321541030235, -0.5429013641934456, 4.70350073165817, 4.149097342435352, 7.672141552617155, 6.289673469528597, 2.763370786287394, -0.9340908103585476, 6.003616591360431, 4.949858461504976, 4.549111146611891, 4.442342818150208, 0.6644409146735428, 2.4723569167941446, 0.9817275418806264, 3.245413648888863, 4.331653344515776, 2.51175310226078, 3.4754937481287205, 16.319233231072953, 5.93096485956143, 3.8244330429356475, 4.754614870667836, -0.7417817670403349, 3.1035197039261773, 3.7157051034436868, 5.094841843782091, 2.7903998294373222, 7.259178840796459, 4.0941425572455445, 2.2269944891548175, -0.7337724522317604, 2.69722375441156, 3.3790146677232165, 8.630755859058448, 4.0284352610788305, 5.165410948279602, 0.5359319494394803, 5.917612589092931, 8.741338077210116, 6.439315483924493, 3.7933823700354425, 1.2561792761655217, 10.3747940597751], \"y\": [1.9485830819484156, -3.7681717328386792, -1.075173797593757, 10.275589126864164, -1.9480715595579778, 3.949928895160486, -2.690031274441077, 2.3402440088002976, 3.391812950204446, 7.727174067538162, -2.659275496971949, 0.06656792069472629, 2.700976495810396, -0.9682792589038995, 4.861083312743095, 2.9770611745038535, -1.5647577232844032, 1.4186703415805895, -4.114333522750956, 3.3049637352001575, -5.128366516499374, -1.5437522894092852, 2.0186103517976677, 2.17162512686595, -1.8765523431707516, 0.537242157708082, -1.523705025056872, -0.7571774514896507, 4.00529551702864, 0.3375361506763284, -1.1325889080591847, 0.7584232434003433, -0.3543559467324335, 0.9131962735381088, -3.3512929242484764, 0.8862439594555573, -1.9239916157507462, 2.260752002267933, 2.0186730851723356, 0.9849300228264738, -0.13709908990486175, -0.13487698249459704, 2.3522717970842475, -1.130937814863788, -2.116409716661702, -2.3103325724204633, 0.9721160455509595, 3.0116805038103407, 1.5406765545332208, 0.7227401881239539, -4.437141767311366, 0.9383254020443962, 0.11973908881340581, -1.9671014087189642, 0.9200695381981535, 4.748617209952655, -2.257982888823137, 0.7744091499312579, -1.668237056458301, 0.16221452428366867, -2.2066618338900823, -0.5313515358333094, 0.5580005313079134, -2.123507716480475, 0.638911672730616, -1.3920442990030761, 4.0467562243504585, 0.9815132141797857, 1.5693895570668588, 2.384846222795098, -2.3067353687293, -1.3255573511662981, 2.316622445775971, -0.911366030698633, -3.538082374509203, -1.4820171683423373, -1.0496039516127686, -1.1541414790573414, -2.826260727821522, -0.419387445080382, 0.8603815999642861, -1.2747709541674064, 4.8379888296214215, -0.3788038297750168, -2.911037098197968, -2.0176527511125806, -4.165829298260244, -2.039038956158817, -1.7851523342124767, -1.6847535466051744, 1.2651031362882603, 0.7064218558839535, -5.603484189035771, 0.5810310856119987, -1.6085325845459642, -0.9892423517109294, -3.574461225766721, 8.01116957351307, 2.776587168052007, 1.5614217095974838, 2.278482855437339, -2.4432589745900275, -2.2778489162265343, 0.3823932690666017, -2.102291069812768, -0.6551728196820157, 3.086639147289351, -0.7018214898468212, -2.7877077441070646, -3.029102965529993, -7.543410173091041, 2.5878254238994405, 2.614648484827359, 2.154479503174786, -2.848324460107048, -4.666275187327208, 0.16646095343615175, 3.4657736087888176, -0.12520048597073213, -3.9391522590288504, -4.153904766727413, -3.9511729560012796, -2.1545700267400583, -1.026232641042358, -2.074842232068631, 0.5282231746943861, -1.7754258297225973, -2.807477112544776, 0.3941662801831004, -1.8230941623842443, 3.8945309929552865, 3.2798774000809616, 1.0656460683887095, -3.3712278967259954, -3.5000850396759167, -0.9906732138189972, -3.121945807529482, -2.474573349589321, -6.003276422007909, -3.075306307672382, -3.1443734607468, -3.4593432912904207, -1.3411230454105025, -1.9019074150681339, 0.5771549986049332, -0.8241155673183943, -1.4848624506162529, 0.05514606855880757, -2.3922380030526558, -4.321522960159168, -0.0357017872868839, -0.34853594483297146, 1.1219739341344734, -0.2692216341521318, -1.5770528412130256, -0.9685929551928915, -5.242623144058593, -1.332572176119965, 5.1080054498450504, -3.7032540791595445, 0.29662907505962083, -3.9451682291457852, -1.3901096873511525, -6.723414988332647, -3.6554691231575416, 1.1762428850266313, -1.9564409025511493, -3.8586071194146356, 5.985295348374552, -1.3170679054649888, -0.1959557462718301, 0.767488847630577, -0.8604841485407734, 2.036547397870829, -1.0786335087361296, -2.105945595304825, -0.09102921934277668, 3.006064138682091, -0.8160005025521183, -0.992438902178482, 0.43686085951590237, -1.499824756936069, -2.2104299437166084, -1.7783586296503457, -4.049332413126901, -2.52880758375136, -1.67288439041922, -7.775852813545043, 1.2282966870121041, 2.305236317476769, -1.4894235601521175, -2.4520349705982643, -1.2361532108297093, -1.0586862145093192, -2.019207830723227, 3.3855607700751564, -5.495735718870924, 2.8029272483043335, 1.941634771091701, -1.9436971848617601, -1.9437099486353175, -2.333428945381889, -3.459451904636532, -2.9414300993022184, -2.3822032247597615, 0.3807151418469277, 3.482636667980446, -0.5738546588756116, -3.576817438470803, -3.5840478645292553, -1.902296717140894, 1.6720101035550174], \"z\": [-1.1231662663790838, -0.529292769334986, -0.5517475552309842, -3.2327895945426612, 1.3897666701209241, -2.9348767865099923, -1.6399129511561827, -0.8719472953900119, -3.119985887920175, -4.341915798309444, -0.4888298037782642, -1.5264552532526785, 5.730230767617985, 1.7171715691314926, -2.8161155203696007, -3.1252740999559934, -0.8025191640697906, -2.270319103682923, -0.3147491399029614, -1.466536753601835, -0.7524020340761123, -1.7131939450203282, -0.029009723176304777, -3.8945464866652872, 2.5817476707378737, -2.7616256181095893, 0.1461871063921756, -0.3492393728125225, -3.0014625213446156, -0.7543007489116005, -2.5773841759334677, -3.4937617297089574, -1.896962952625674, -1.5757686362789975, 4.305573838345272, -2.7049183339149705, -1.1804841586967132, -1.904726427827733, 2.141226390682395, -2.310733679553292, -3.3019319107858722, -1.6788425128919364, -3.078089088637227, 0.826392712062735, -1.396219745092521, -0.7288088632715771, -1.9438883211222437, -0.1662407043100522, -1.7998451964402378, -1.466249533237898, 0.3073453522670583, -2.210131550865618, -2.0409558137666446, 1.111938841326219, 0.0898273559921466, 2.0058789445105747, 0.03883570784474278, 2.6823381285485803, 0.1469318044736054, 1.637374879334539, -1.7045356299693273, 0.589327733439575, -0.6057712704436629, 0.5795100392844567, -0.199918893975981, -0.0827194741858603, -2.7153844427129217, 0.5988127576047962, -2.61393611048931, -1.9351071199631935, 0.5674619467678585, 0.728013647599326, 6.328697179023597, -2.142724155672945, 1.254924567519137, -1.1706805549732666, -1.2620112762078408, -1.209793216727956, -0.5621074879888625, -0.380575177521611, 3.6710006745504735, 0.5558435193599541, -1.0281571052639487, 1.446317619109787, 3.0072377012462685, -1.5661437458658964, -0.6012608394515987, 0.9806961798963255, 1.1736470794931235, -0.35118633651137005, -2.1531442639529152, -1.042335453802028, -0.6372394386559795, -3.1347152891009187, -1.5150956415992944, -2.585169269867321, -2.223978539217693, -0.32642339928496034, -0.9427628258313148, -0.2181869653459478, 1.3194785403214486, 2.4663170710564466, -1.238684037001179, -3.838320421092408, -0.9752715808458896, 0.22128004468146126, -2.270404236330369, -2.2707620394647017, 0.4443823098467825, 2.7440186608707906, 10.112423868290136, 7.092074799649396, 0.206380296257047, -1.7866326009608442, 0.913878827884026, -0.0068409827439421455, -2.628599534589367, -2.4740508747836256, -2.8960974699791073, -0.20545369686798928, 0.04696894939764707, 1.371881352309232, -1.1089437132403017, 0.8986356255507326, 1.0883873440928395, -1.2799870636484223, -1.6726317523996164, -1.756193604660933, -1.0046984767434364, 0.479849709933002, -0.833853429604362, 2.9036992419230296, -3.5155890303280506, -1.7667777190752552, 0.18248369333009073, 2.5543865133252144, -1.0630561036172335, -1.9911347589642403, 0.9893777300286083, 1.4819594010861898, -0.11572146010591443, 0.30692080810824524, -1.4570533487537563, -1.7442419185748275, -1.9946998423520208, 1.9839634604101344, 0.36133988787123084, 2.0129177902215734, -1.676491290627953, 0.316685297228659, -2.841066698050154, -1.0647508334129712, 1.7751583122202519, -1.7225153366946246, 1.360728509379984, -0.2912722791115061, 0.3169558308654868, 0.8709775613052413, 0.5211405915284638, -0.8916941016523526, 0.8674853606904087, -0.017169520556447944, 2.7342371582162714, 1.4856648620817323, -0.1557020406206017, -1.5900181939254987, -0.8287751838612729, -1.022529065319804, -4.8803611379395955, 0.9957545190492505, 3.757032876671418, -0.8879747250291712, -2.1536501402787525, -3.1820822611550645, -1.1796239413435874, 1.4329170595492795, 1.7112016438027526, -1.7540717439299593, -0.5187550862966096, 1.4423191098741435, -2.6807818934030436, 0.591453266708387, -1.6999192620041612, -1.7931536882088115, -0.19250556521012743, 0.7982023070785613, 0.8568267853101605, 6.235415630269018, 1.7215877368986692, 0.027546189088048352, -1.2537510929278595, -1.9977099304431054, 1.2873550664263498, 0.5219535106521106, -0.7093697223796124, -0.7530762920730723, 1.9109258370929105, -0.5074334026417965, -2.2856035846057012, -0.27523620109028046, -0.960564418988025, -1.2019321936471188, -0.17905690530682616, 1.6594854105811379, -0.42227733588029054, -0.44313472915147706, -3.262791743084876, 0.8970899975257974, 2.459486546656657, 2.088476386107969, 0.5627305540693773, -1.877029314702311]}, {\"hoverlabel\": {\"namelength\": 0}, \"hovertemplate\": \"diagnosis=benign<br>PC1=%{x}<br>PC2=%{y}<br>PC3=%{z}\", \"legendgroup\": \"diagnosis=benign\", \"marker\": {\"color\": \"#EF553B\", \"opacity\": 0.5, \"symbol\": \"diamond\"}, \"mode\": \"markers\", \"name\": \"diagnosis=benign\", \"scene\": \"scene\", \"showlegend\": true, \"type\": \"scatter3d\", \"x\": [-1.2370633569678815, -1.5781612347743417, -3.5573363735837176, -3.7493133959613814, -4.5819366721975605, -2.136445277248829, -1.5674789972172494, -3.5429055574642914, -3.1578140502064347, -3.4504885435490693, -2.8581584400558473, -3.7214589928251116, -4.135962943809602, -2.3858356631208633, -2.578883251891182, -2.3141322494247545, -2.7859247566688867, -3.518648339678204, 4.330002649111326, -3.2612794727668626, -0.3078557704384219, -2.6299766385488192, -0.8345178814467332, -2.0215776584034635, -1.6383849373499124, 1.167461611069753, -2.174464309515004, -0.9341581044244412, 1.2596046473981648, -1.5882639721575145, -2.8474315867216204, -1.9649501128917581, -2.5920828278179133, -3.904338150158344, -2.81823121316826, -4.555028840435543, -3.4481835412334156, -2.1159602640292885, -2.6913522049381715, -0.7492713563254517, -3.159006037412182, -2.2286798134573997, -2.492831035619731, -0.10335042645961892, 3.591294118653046, -1.3489486828746113, -2.510117675559439, -2.0460295724144437, -2.097069169447025, -2.9659992066118672, -0.7707436775295591, -2.2025155237922607, -3.1434122455838627, 1.4088683634099544, -1.8774673635800383, -0.7091148317318243, -2.6007895039984787, -3.258007359453028, -1.9920347221087924, -5.0150086899681865, -2.4559688106517754, -1.8372816695291996, -4.346489712223077, -0.7328129161008554, 0.3930986639478442, -0.41232781280252634, -3.0499249404331064, -1.4425637315733024, 0.08318610257659292, 7.093306714217407, -3.743404543000415, -0.9691728143693713, -2.4187199081367092, -0.7516030055148069, -3.6546465282472953, -4.680211576032237, -0.5977817665920832, -1.3250313470330766, -2.9974032071055006, -4.38673272110825, -1.9777014395993198, -2.514876418888751, -3.4839862980629865, -4.65872957796273, -5.351618114956118, 1.1708977789424229, -4.975702062173022, -4.064025658764227, -2.6593596153329613, -3.8890655271808034, -2.8358909181766303, -3.3102836207052357, -3.357304402533107, -1.7177351761278508, -5.5657358990383905, -2.8190385096210564, -1.4734313692181, -0.7811899668992565, -3.4548953860776925, 0.3144382259576216, -2.0591919425513057, -2.998710528221846, -0.3887562987314471, -2.756932991250132, -2.3735018019556327, -0.9671903115731022, -2.975798787940263, -2.478359512382172, -0.8260392924233261, -3.8946973283215005, -0.3895780902111776, -1.4573213568179229, -4.01914024055778, -3.6764132931720925, -4.036607361811667, -2.3342333502203507, -0.6817688659262048, -2.22772051881656, -4.477584655732125, 1.3226214188375585, -1.850089860112025, -2.2813180992712088, -3.2287701182828314, 1.025900787658124, -2.5825558372683837, -2.485883225505441, -3.03248114077346, -1.4646759334465103, -2.0121524285112526, -2.284340252021574, -0.7397430855916051, -4.506562510702929, -3.1587543014151303, -3.6391359672020864, -1.2765833791694758, -4.346014054206062, -3.492426037281719, -1.8665488536734807, -2.4707226852961783, -1.3726850236755597, -4.138882573250636, -0.6869402913915148, -4.312129582763438, 0.40330942136320297, -3.0036057953367448, 3.134008205555905, -0.417836866889356, -1.420223135093959, -2.8705883477899636, -3.3658457040536445, -3.3150001548202317, -4.769710159707721, -2.7870960094501487, -3.393841771539096, -1.455330517897938, -3.578835403446263, -3.057032641858982, -3.0744358315671816, -3.8535397332361416, -5.390256393855465, -4.657682334489832, -4.027542388098492, -3.3478219416134385, -3.299842011469615, -2.1364041423426383, -4.038017141729039, -3.7654145533035512, -4.871239383469573, -4.747248516364955, 1.5729311405541115, -4.026620252699636, -1.294866170093639, -1.8103805588516522, -3.145650188514171, -2.8872680582082477, -3.149653983800375, -4.628379483067652, -0.5276966173785579, -3.2135009804760877, -4.386422966515232, -3.810017869839058, -2.3932759643377373, -3.067695140592331, 0.29531318325900113, -1.9389694969724451, -2.077178921448971, -2.17691687957903, -2.4315514550148354, -3.3679657788802824, -1.2065977905251593, -3.326079248734269, -1.9287954021760012, -4.0418350899845406, -3.0121949701687156, -0.9826485812832819, 0.3578938625423362, -3.1939178655016276, -2.9932333013012737, -3.193914150477153, -4.591961853507309, -2.485916154385206, -2.398665346191244, -0.7796151997167114, -3.1399884257467523, -2.2237757455632106, -2.4996363741150156, -2.614948307229041, -0.09610811659042923, 2.0448569345190655, -3.0667495275551304, -1.6035864433736278, -0.9255666031938574, -3.2883495941184915, -1.5548521496921166, -0.3987799175405684, -2.300567821319104, -2.0588194558405144, -3.424518055234841, -0.47240655184306823, -3.643380238605784, -3.594689343583275, -2.0103794137300737, -2.9208334948550294, -0.5007378002541163, -1.9114985749212656, -3.7850992278148827, -2.7083939681862774, -3.4307706912171336, -2.0013884663669046, -2.47329309426404, -3.6472577464165856, -2.346186850954011, -1.142996926539183, -1.3508573033070916, -1.9693236050159442, -2.93118705542684, -2.9263743861248193, -3.9961882774148147, 0.15513805946411016, -1.9296217302265228, -2.6223386017129777, -2.9218778045980067, -3.3419448039217596, -2.014915033417928, 1.9884621055501785, -1.669603930585872, -0.371178113530746, -1.8489599298555799, -4.703042202140208, -1.2831871507732415, -2.3142468192940395, -4.659085176443041, -3.943473381740334, -0.9158035193148585, -2.194984300999978, -2.240876053639662, -2.1251804369381624, -2.6153174112120383, -3.2109679756847043, -0.30675039871992027, -3.45471837209579, -3.9005268480917663, -1.2572515710552805, -1.5572194125172596, -1.249258096693325, -1.0774513299000172, -2.2170923054408407, -1.1738306467734512, -2.8363014443395675, -1.8570858988701486, -1.328614372943281, -2.8027713567575967, -3.1745687967484417, -4.0870773609453925, -2.5601150180178998, -2.9688887959136134, -2.7574304510386387, 1.3703398754754983, -0.41766449255266497, -3.838398623003497, 0.6454786474693629, -2.6838464009942538, -2.041664052111176, -1.3992963501227635, -3.5364152954283274, -1.9905294465675856, -1.9981853671187648, -0.5206581122933986, -3.172370488264697, -2.202710189027491, -2.985484690306783, -2.481055107280776, -1.2721114612836033, -2.2351568880664923, -0.056183104312903714, 2.317390606299, -2.2843312608205295, -1.72631091767835, -2.8943106610058944, -1.6545218459243385, -4.064270597820575, -2.793330657469109, -1.474919937603813, -0.22939463704264948, -2.5532584076063403, -0.60061611357575, -1.4087712143775306, 1.2988665488352322, 1.0766932755662286, -1.249760524750724, -1.2569284056518746, -1.1665352144930465, -1.8876392413950869, -2.767435702847253, -1.1315768907149053, -2.3336707367950784, -0.19987058010959124, -1.1760259132073583, -1.292636539259723, -4.429456371072436, -0.6198387404600391, -3.2523157686255844, -3.3529270535474027, -0.8598029859653622, -3.1566219686772463, 0.34652811322472465, -2.4614066509073504, -1.5301007215886915, -1.773585066024572, -2.6804416239561193, -2.136351228583359, 0.3431233829588644, -4.197079986411729, -1.1428318645920028, -1.6654751531991643, 1.0117124957509898, -1.300929711987744, -2.3734287250066926, -1.6658710117838336, -1.927678192336421, -4.2372166179312405, -2.6778707208615216, -3.8364978518180597, -2.5514402959563935, -4.694923445179744, -2.0250371640967466, -2.8959482055248675, -3.502201040575259, -2.1539036673919885, -2.0550840680147853, -3.877289579389741, -4.063862114750505, -0.09866733266046473, -1.0893761900826378, -0.48177096483631043, -4.870309518088227, -5.475243302616136], \"y\": [-0.18821495138356087, 0.5728081850133554, 1.662949912152921, -1.4134731129616718, 1.4842203215680927, 0.09582960060216114, -1.208433211633065, -1.2824955784462837, -1.6889585892523884, -0.4982187064519918, 0.1527231375507764, -1.7876416531901809, 2.403792491657536, 2.757658124546549, 3.138671904860042, 3.2679896923208003, 2.3106487132445337, -0.6583094625255418, 9.202525681328705, -0.9378381227025454, 7.387812168439854, -0.6973093720913061, 1.965604852274775, -0.25489984179872266, 1.7159491113151022, 2.5145158504052354, 0.4968779771747641, 0.9277014875928213, 1.0155770579437389, -1.6196568337265098, -2.893647591973183, -0.9651569988966309, 0.2136339323004721, 1.1900666345856883, 0.36788398791658433, 3.5287860160465447, -1.424622451712038, 1.8493736041276552, 1.4200617342157007, 1.7976385109590116, -1.0357494263129017, 0.6674106407002659, 2.598686270414612, 2.2801435485696313, 3.926333165484592, 3.556225102413102, 3.251319504474564, 0.3048848573626566, 3.6670958866290406, 0.3715064796957557, -0.06410922076311242, -0.7356052277040476, -1.8774090305615512, 1.3049294022186197, 1.423230635510194, -1.568232321809166, -0.4823354735940615, -0.4183214094074775, 1.3293551635558736, 0.5746999769163895, 0.8984552841041094, -0.0910267616164091, -0.8935722670343464, 3.7021823725176795, 1.0830680585189216, -0.38963131558911274, -2.2377845265936043, 0.3058704405269959, 7.150359807332041, 12.573194222077786, 0.25050152782732327, 0.9449443039767409, 0.0055524164336419966, -3.070648662641796, -0.6746487439154671, -1.1038572430063545, 1.785650869342371, 1.469294022466769, -2.7388610582258828, 0.006872282111090631, -1.8427794287292427, 0.114252298166788, 1.6196919922297721, -0.22291481580662106, 1.0267578631514938, 7.01448656950926, -3.3862048639151, -1.2461661687278025, 0.5399357965341751, 0.8160717092409697, -0.3987296892781288, 0.15574118664053815, -1.1037324287187353, -0.5431655241885318, -0.47784756560360786, -0.9701105647994632, 0.11689025627075167, 0.6528492587353986, 1.3069387183190926, 2.0775607300997576, -2.472787786710838, -0.3967780320942838, 2.2767978896970433, 1.0868346842258858, -0.733402568358526, 0.43843817465987467, 1.8109737756051536, -1.4185764449171914, -1.2502474769472232, 0.5385707401258357, -0.6144154715907352, -0.2017267534959208, -1.354247382482555, -1.2916290596967874, 1.1625461205343546, -1.3489797345531966, -1.1359911283733912, -1.214999688166466, -1.7411293615914036, 4.789476583536972, -1.5841281571699544, 2.077685986629328, -1.172073476919789, 2.361261939786881, 0.7292131113622029, 0.46059640186934564, -0.6494687997876477, 1.6866318114198806, -1.1034865592650551, 0.00949362757171442, 3.152520592619468, -3.16927258247978, 0.4103017964025054, 1.5895870736069688, 0.8490529851259733, -0.3219780627987389, -2.634082401518955, -0.9020642122263482, -0.13802624692033777, 0.0058054643618218535, -1.3765082423674113, 1.6950096245456523, -1.9784861281910302, 3.7234340078843546, 0.3541602304548787, 4.273459528957519, -0.8085765698877778, 1.393978114839389, -0.26864450797978173, -0.8076006187162631, -1.4421762328815584, -0.5429618585991233, -2.5330339980991736, 0.7539639617279329, 0.5919428680943932, 0.8915829914942512, -0.17921338938021616, -0.30605843355206797, -1.524726427501084, 0.5562555254518927, -3.065387434615517, -2.5429070463086543, -0.0685630461288797, -3.138709393477258, -0.004392850846397495, -0.24069805560075222, 4.398200502365681, -2.3392147899569125, -1.7984019730122716, 6.509099322962935, -1.4022064540592543, 3.4708086387207535, 0.3962072928117548, -0.7425265430466301, -0.46473163195041656, -1.7712484016617385, -1.835618356989329, 1.2658716177983262, 1.1034431355132348, -0.7611037294767055, -0.9099185523527246, 0.9900307800138057, 1.1358375657461224, 0.22693503356455422, 2.5449881191797714, 1.8065194936586968, 0.9589112574818243, 3.4472038686961297, -0.5629288967628759, -1.3170443354840424, 0.4751715875601451, 1.4614697833833556, -1.3569174499906738, 0.24375997823383183, 0.7972523976563743, 2.127838625948704, -1.849152073667742, 1.6313922196995307, 0.5793394451873803, -2.7611270973929396, -1.188939410711144, -0.25074479459613086, -2.124343434455464, -1.4880221633470319, -0.35716071441754027, -2.018535626163111, -1.1024744623110985, -0.1298475792729315, 6.42681985222029, -2.1820956994850547, 0.29259621818554277, 2.302481426663799, 0.2013113417255013, 0.9798577388238883, 2.161212680769852, -0.9320775878824851, 0.3204351476741083, -2.445518410564717, 3.7028294364347443, 0.7868599150221253, 2.605087215042509, 0.42968955488443594, -1.7004724699871707, 0.10673146158975011, -0.6513938805936559, -0.32614636325198143, -0.2196657483213865, -0.9926100400900288, -0.29332646782072147, -0.3350470314705208, -1.2413651205289793, 0.682741320309473, -1.9621714957335352, 0.3695738956741906, -0.1758485131759982, -0.49485623130132095, 0.3773322514638296, 0.9598560914374111, -0.43800822810263057, 0.8924666840394057, 2.502101619517975, -0.00921267651980316, -0.02222473686064211, 0.7784521332015835, 2.3160480563505375, 0.8623188492522466, 0.11361266087100115, 2.541229653209452, -0.4323024233243601, 2.550909307694306, 0.40203147474714074, -0.782298748738832, -2.0300162856255755, 2.4790131254635774, -1.8053532425418408, -0.4545895114744917, -1.194796907460681, -1.8320604349232488, -2.235142699069918, 2.1849988368001223, -2.1364615520699477, 0.7307759772222988, 1.0676915226845884, -1.0379271105458483, -1.5888387904759274, 1.8036181648207803, 0.0298912861809805, -0.4748395074561088, -1.0181258048215012, -1.5713931202727673, 0.7770956577879659, -1.6663016389097554, -2.0757336231664687, -0.4847100759797824, -2.4940454473630544, -0.06884713660872498, -1.793918763577423, 2.1100113390087727, 0.11651969681108307, 0.8991786546214914, 3.4260114259166516, 1.443555532262494, -0.9032559293769551, -1.7722262434300373, -1.2468541515624951, 1.8994625440116304, -0.2063711392798144, -0.9733678156533678, -2.089052294443639, 1.2860393116261983, -0.6733392478205762, -2.3639587601041963, 0.509833849664917, -1.2987044961696776, -0.22738339268508176, 4.389134331162322, -2.4668407637389334, 0.998177832632142, -0.977944320110093, -4.555664121229305, -0.5609542094169703, -1.0778881310751465, -1.5910942024394834, 1.5159034176842796, -0.7639004861603884, -0.8384546571261312, 1.5057705875321306, 7.729852790679195, 8.294775466916295, 1.5956838494229446, 4.117186688421104, -1.6656937330852155, 1.6721917467392546, -2.1610487952599815, -1.4110019730219345, 0.7901466039147353, 1.0763599970466133, 1.0113701711341083, 4.964224697889856, -0.7860360334813518, 0.6363492741394832, 1.285925165504554, 2.673300600373406, 0.09684851438054082, -0.8715426248404677, 1.5412252709898526, 0.6008479655802121, 0.40521779065752656, 0.8042100040539464, -1.4847089020070534, 1.5185806362538292, 3.534481048734605, 2.367392298282154, 5.599458471642206, 2.3896181218680024, 1.0923896437730125, -1.8214152975770799, -1.6815762384243467, -0.21396274195772924, -1.137739924273478, 0.1842724947480643, 2.3157928272035653, 0.49624993348849983, 0.22832995965082184, -0.7674779387138375, 1.2612418928125686, -1.4516357630712922, 1.8008324991505864, -0.830068819716899, 1.616459272868378, 1.0842547429251639, 0.12216843987418304, -0.2135598440747324, 1.2928479018321513, -0.17801969477798824, -2.1311061071787147, -0.6706367732129417], \"z\": [-0.5932834978633956, -1.8014466829386702, 0.4511873639462873, 1.7323077524038222, 0.042074581382545016, -1.4924118097207801, -0.36915911408262975, 1.0182109327896223, -0.49629376968578, -0.15251801783394742, 0.42893494255947, 1.279932849002214, -1.2429584630585837, 1.21408568319531, 1.4002803041691005, 2.796224139761942, 0.472725294183401, 0.5913749319861431, 1.4929627859270693, 0.20513004405865962, 3.8190860965563487, -0.5839416072705246, 0.7904326566276143, -0.64787195075135, 0.4342062554418197, -1.9057187470692454, -0.9490917444157444, -0.040163690919288945, -0.08059274157691317, 0.3099992463271799, 0.5279888001550476, -0.08120802541659479, 1.0356114848749594, 1.5519811792912908, -1.3514356774574514, -0.2152639667426021, -0.08872402367433109, -0.5566739488378227, 0.9691508026427027, -0.5683657471968934, -1.4906841693368653, -1.091560369917907, 1.669725528860067, 2.1095626792770883, 2.0470066512760576, 1.7321912190776527, -1.6876244158220797, -0.5338386225841855, 3.632200386350314, -2.0665331221953536, -1.1344087914611605, 0.26708008566717356, -0.6703690303117491, 0.6414288080173062, -1.0708121233807788, -0.6699940926651121, 1.8723727659462652, -0.6918055890674458, 1.1352446169381973, -0.842438124327919, 0.3531335356056737, -1.4452809005892906, 0.6392560457925105, 0.6585050875829087, 2.2476055543621194, -1.045770414740448, -0.46945295540839377, 0.5515479031743643, -0.06001001218059112, 7.3587081447020255, -0.09738326270249109, -0.8908112631810867, -0.7983804121469591, 1.4491816880606976, -0.9069859560555957, -0.2573081906805457, 1.4817360185905641, 0.8484213839384708, -0.1611837304034501, -0.9481082429201747, -0.277359700293305, -0.4966227560087044, 2.6754692998567204, 1.5593586572738711, 0.3249858898498175, 4.2718620942552965, 0.43983838411805576, 0.5744777891973829, 1.7070147303525212, 1.0157172890506978, -0.34744511915546383, 0.5414790124994642, 0.15208985088470955, 3.298375246542591, 4.12746263953126, -0.38259144726081296, -0.21466783855664645, -0.6436569922036279, -0.02926447723593557, -2.0833119102336974, -1.4617188252309197, -0.5964659052756619, 0.6273321088731076, 1.707238161662122, -1.5260274675719934, -1.447696217556482, -0.22343527224160295, -0.31653324526459564, 0.26796076417645315, -0.8815586927758747, -1.352869240260137, -1.098878749920374, -0.360472698637506, 0.4246103130700991, 0.18974775146147793, 0.2326870342397481, 1.2336664469970584, -0.1924137518188936, -0.8882070943749594, -0.6625351309584779, 1.2639172928730722, 2.4306489815028067, 0.264664314602806, -1.616885539605658, -0.5481427590957036, -0.598920319761327, 0.31068266873796063, 1.1699058872853991, 1.3380240751537165, -0.4504394530351012, 1.4698579391945068, -0.1880616337895225, -1.108817202387766, 0.7162797481027907, 3.0700681748421847, 0.3884747459480355, -0.07218764292573633, -0.8711686704959684, 1.7948851626651527, 1.549289177732561, 0.8780486085321096, 1.0262128599765514, -0.2513065188087016, 4.586468953235504, 1.2340149682365154, 5.866279852311224, -1.0932914756149938, -0.8369868311775056, -0.46898725038516875, -0.8070794050953619, -0.5836325837688976, 0.8938680060169314, -0.8840344421067158, 1.7717934964124906, 1.1463403796182368, 0.2614874009810122, 0.621773466252561, 1.2592536415527198, -1.1445096132101444, 0.560069885089169, -0.07600910518524184, 0.35321715896831374, -0.27019331232819865, 0.14889236149361484, -0.05513893636071531, -1.3281267484884487, 3.950207769864131, -0.1682948097659359, 0.1697201710238817, 2.1671587986548464, 3.186499852872734, 1.1095279948821086, -1.2303340488752563, -0.8623515063449216, -0.4757432849280696, -0.035833643101283744, 0.06423092371821368, -0.9204410841133748, 1.6119812081663403, -0.40059743018370175, 0.44316765286755105, -0.7575099955882962, 0.37462257106162966, -1.0894165869124364, -1.0014235966908922, -1.1670794670503823, -0.23426485846364042, 3.4569448162596577, -0.19257366216216168, -0.9307408266947151, -0.898285777239451, -0.10064242180910864, 0.5383416287062945, 1.983733021356535, 2.369421115787423, 0.7082090941075805, 0.09939834662359709, 2.556717797366259, 0.48976417704125336, 0.9805426392218587, 0.3487768388063478, -0.32713778258489107, 0.320788935359572, -1.198878475232664, -1.1016822976755036, -0.7312746064253616, -1.2407359794548978, -1.6714641552197547, 1.274121117098081, -0.27906268262714595, -1.5862253750487076, -1.596111814213437, -0.6277563303615232, 1.1965597349850348, -0.9456049264271247, -1.12995322196535, -0.12245841489392023, 0.04504872513553997, 1.9537849068128619, -1.1621457776478052, 1.852029651960058, -0.10408877745237653, 0.29572720353464504, -1.0287479231375205, 1.4502885110713377, -1.0580802241771385, -0.31450469246088075, -0.7316945365836488, 0.6192039165479647, -1.4823620023035675, 1.386624499544169, 1.1327338536970202, -1.2407196998012295, 2.486675721021004, 0.4207314301480015, -1.0170708549747587, -0.886793794126088, 0.20440410944888068, -0.46144569656608214, 0.042344784585134396, 2.4349994906159087, -0.9013034977448104, 0.5033012449227847, 0.12557876654899727, 1.2363038827198582, -1.0103061415238777, -0.9983635804016078, 2.0053475708090955, 0.005305026886207169, -0.08386034166827087, 0.27462321976132725, 0.19212186181746435, 0.691735711171976, 0.36260668680495134, -0.4351093708987104, -0.4655276030053759, 0.4903719528897736, 0.7643295719276437, -0.16622446412267092, 0.039286216041187504, 0.19716268461047304, 2.136071056526862, 0.259475201404326, -1.301245064123674, -0.3264134392024453, 1.781041630747919, 0.6364601582058943, -0.4815708721141248, -1.4866300061869047, 0.8264827553412682, 1.2567582345505999, -0.1940182814190149, 0.07490030819849723, 0.6313639939340047, 0.17031258403395327, -0.7784115394530711, -0.7578141337854948, -0.8537201644913783, -0.536142590029037, 0.700563904659116, 0.6082849062538026, 0.3394034819390405, 2.8432414259234955, -1.4795615794207408, 3.3854111102673508, -2.0309980307973134, -1.6413250465082496, -0.3241353576795715, -0.9788057603055668, -0.8873991700323387, -0.5904898729468755, -0.4326145682589279, -2.2389916881195258, -0.901436887820838, -2.2555156561761187, 1.778411139548378, -0.8211884290771784, -0.0802383905549667, -0.8056442328065027, 0.7523230491011178, 2.1766847126385587, 0.8445420897928947, 0.3199914542642349, -2.2162830032472773, -1.609403110936738, -0.6870420422410123, -0.35389600022499773, -0.6889146087938236, 0.4341922880860213, -1.3564745662048607, -0.4127298235843134, -0.7378780224449648, 0.11979756134703982, -0.02109616376869659, -0.565053061850616, -0.35004338804183194, -0.6731488160482437, -0.711768269322223, 0.3459270113793132, -0.4734191189125938, -0.4888512948185947, -0.21847652408018578, -1.7790870924354603, -2.8140446661879044, -2.1957147617560353, 2.846454035127622, -1.171465122918795, 0.6044647201441116, -2.0279179780423124, -1.7416933878795409, 0.17896524747188666, 0.06966881066419148, 1.3271446279330288, 1.3010369745787287, 1.5022494372263233, -0.6326983278742975, 0.3733074638889453, 0.38452813812418757, -0.14807244099680797, 0.47820235869791183, -0.32641839040158926, -0.05384821559724064, 0.9232396600241581, 1.4141779843278013, 1.5439647999705484, 0.5049261549853428, 0.780545987743085, 2.7664565771525336, 0.5647967392315878, 1.838959442887496, 1.859943902428213, 3.238772622755776, 0.3889294857512583, 1.4293788587315708, 1.0321076197155616, 3.4141887822587558, 1.490442974758829]}],\n",
              "                        {\"legend\": {\"tracegroupgap\": 0}, \"margin\": {\"b\": 0, \"l\": 0, \"r\": 0, \"t\": 0}, \"scene\": {\"domain\": {\"x\": [0.0, 1.0], \"y\": [0.0, 1.0]}, \"xaxis\": {\"title\": {\"text\": \"PC1\"}}, \"yaxis\": {\"title\": {\"text\": \"PC2\"}}, \"zaxis\": {\"title\": {\"text\": \"PC3\"}}}, \"template\": {\"data\": {\"bar\": [{\"error_x\": {\"color\": \"#2a3f5f\"}, \"error_y\": {\"color\": \"#2a3f5f\"}, \"marker\": {\"line\": {\"color\": \"#E5ECF6\", \"width\": 0.5}}, \"type\": \"bar\"}], \"barpolar\": [{\"marker\": {\"line\": {\"color\": \"#E5ECF6\", \"width\": 0.5}}, \"type\": \"barpolar\"}], \"carpet\": [{\"aaxis\": {\"endlinecolor\": \"#2a3f5f\", \"gridcolor\": \"white\", \"linecolor\": \"white\", \"minorgridcolor\": \"white\", \"startlinecolor\": \"#2a3f5f\"}, \"baxis\": {\"endlinecolor\": \"#2a3f5f\", \"gridcolor\": \"white\", \"linecolor\": \"white\", \"minorgridcolor\": \"white\", \"startlinecolor\": \"#2a3f5f\"}, \"type\": \"carpet\"}], \"choropleth\": [{\"colorbar\": {\"outlinewidth\": 0, \"ticks\": \"\"}, \"type\": \"choropleth\"}], \"contour\": [{\"colorbar\": {\"outlinewidth\": 0, \"ticks\": \"\"}, \"colorscale\": [[0.0, \"#0d0887\"], [0.1111111111111111, \"#46039f\"], [0.2222222222222222, \"#7201a8\"], [0.3333333333333333, \"#9c179e\"], [0.4444444444444444, \"#bd3786\"], [0.5555555555555556, \"#d8576b\"], [0.6666666666666666, \"#ed7953\"], [0.7777777777777778, \"#fb9f3a\"], [0.8888888888888888, \"#fdca26\"], [1.0, \"#f0f921\"]], \"type\": \"contour\"}], \"contourcarpet\": [{\"colorbar\": {\"outlinewidth\": 0, \"ticks\": \"\"}, \"type\": \"contourcarpet\"}], \"heatmap\": [{\"colorbar\": {\"outlinewidth\": 0, \"ticks\": \"\"}, \"colorscale\": [[0.0, \"#0d0887\"], [0.1111111111111111, \"#46039f\"], [0.2222222222222222, \"#7201a8\"], [0.3333333333333333, \"#9c179e\"], [0.4444444444444444, \"#bd3786\"], [0.5555555555555556, \"#d8576b\"], [0.6666666666666666, \"#ed7953\"], [0.7777777777777778, \"#fb9f3a\"], [0.8888888888888888, \"#fdca26\"], [1.0, \"#f0f921\"]], \"type\": \"heatmap\"}], \"heatmapgl\": [{\"colorbar\": {\"outlinewidth\": 0, \"ticks\": \"\"}, \"colorscale\": [[0.0, \"#0d0887\"], [0.1111111111111111, \"#46039f\"], [0.2222222222222222, \"#7201a8\"], [0.3333333333333333, \"#9c179e\"], [0.4444444444444444, \"#bd3786\"], [0.5555555555555556, \"#d8576b\"], [0.6666666666666666, \"#ed7953\"], [0.7777777777777778, \"#fb9f3a\"], [0.8888888888888888, \"#fdca26\"], [1.0, \"#f0f921\"]], \"type\": \"heatmapgl\"}], \"histogram\": [{\"marker\": {\"colorbar\": {\"outlinewidth\": 0, \"ticks\": \"\"}}, \"type\": \"histogram\"}], \"histogram2d\": [{\"colorbar\": {\"outlinewidth\": 0, \"ticks\": \"\"}, \"colorscale\": [[0.0, \"#0d0887\"], [0.1111111111111111, \"#46039f\"], [0.2222222222222222, \"#7201a8\"], [0.3333333333333333, \"#9c179e\"], [0.4444444444444444, \"#bd3786\"], [0.5555555555555556, \"#d8576b\"], [0.6666666666666666, \"#ed7953\"], [0.7777777777777778, \"#fb9f3a\"], [0.8888888888888888, \"#fdca26\"], [1.0, \"#f0f921\"]], \"type\": \"histogram2d\"}], \"histogram2dcontour\": [{\"colorbar\": {\"outlinewidth\": 0, \"ticks\": \"\"}, \"colorscale\": [[0.0, \"#0d0887\"], [0.1111111111111111, \"#46039f\"], [0.2222222222222222, \"#7201a8\"], [0.3333333333333333, \"#9c179e\"], [0.4444444444444444, \"#bd3786\"], [0.5555555555555556, \"#d8576b\"], [0.6666666666666666, \"#ed7953\"], [0.7777777777777778, \"#fb9f3a\"], [0.8888888888888888, \"#fdca26\"], [1.0, \"#f0f921\"]], \"type\": \"histogram2dcontour\"}], \"mesh3d\": [{\"colorbar\": {\"outlinewidth\": 0, \"ticks\": \"\"}, \"type\": \"mesh3d\"}], \"parcoords\": [{\"line\": {\"colorbar\": {\"outlinewidth\": 0, \"ticks\": \"\"}}, \"type\": \"parcoords\"}], \"pie\": [{\"automargin\": true, \"type\": \"pie\"}], \"scatter\": [{\"marker\": {\"colorbar\": {\"outlinewidth\": 0, \"ticks\": \"\"}}, \"type\": \"scatter\"}], \"scatter3d\": [{\"line\": {\"colorbar\": {\"outlinewidth\": 0, \"ticks\": \"\"}}, \"marker\": {\"colorbar\": {\"outlinewidth\": 0, \"ticks\": \"\"}}, \"type\": \"scatter3d\"}], \"scattercarpet\": [{\"marker\": {\"colorbar\": {\"outlinewidth\": 0, \"ticks\": \"\"}}, \"type\": \"scattercarpet\"}], \"scattergeo\": [{\"marker\": {\"colorbar\": {\"outlinewidth\": 0, \"ticks\": \"\"}}, \"type\": \"scattergeo\"}], \"scattergl\": [{\"marker\": {\"colorbar\": {\"outlinewidth\": 0, \"ticks\": \"\"}}, \"type\": \"scattergl\"}], \"scattermapbox\": [{\"marker\": {\"colorbar\": {\"outlinewidth\": 0, \"ticks\": \"\"}}, \"type\": \"scattermapbox\"}], \"scatterpolar\": [{\"marker\": {\"colorbar\": {\"outlinewidth\": 0, \"ticks\": \"\"}}, \"type\": \"scatterpolar\"}], \"scatterpolargl\": [{\"marker\": {\"colorbar\": {\"outlinewidth\": 0, \"ticks\": \"\"}}, \"type\": \"scatterpolargl\"}], \"scatterternary\": [{\"marker\": {\"colorbar\": {\"outlinewidth\": 0, \"ticks\": \"\"}}, \"type\": \"scatterternary\"}], \"surface\": [{\"colorbar\": {\"outlinewidth\": 0, \"ticks\": \"\"}, \"colorscale\": [[0.0, \"#0d0887\"], [0.1111111111111111, \"#46039f\"], [0.2222222222222222, \"#7201a8\"], [0.3333333333333333, \"#9c179e\"], [0.4444444444444444, \"#bd3786\"], [0.5555555555555556, \"#d8576b\"], [0.6666666666666666, \"#ed7953\"], [0.7777777777777778, \"#fb9f3a\"], [0.8888888888888888, \"#fdca26\"], [1.0, \"#f0f921\"]], \"type\": \"surface\"}], \"table\": [{\"cells\": {\"fill\": {\"color\": \"#EBF0F8\"}, \"line\": {\"color\": \"white\"}}, \"header\": {\"fill\": {\"color\": \"#C8D4E3\"}, \"line\": {\"color\": \"white\"}}, \"type\": \"table\"}]}, \"layout\": {\"annotationdefaults\": {\"arrowcolor\": \"#2a3f5f\", \"arrowhead\": 0, \"arrowwidth\": 1}, \"coloraxis\": {\"colorbar\": {\"outlinewidth\": 0, \"ticks\": \"\"}}, \"colorscale\": {\"diverging\": [[0, \"#8e0152\"], [0.1, \"#c51b7d\"], [0.2, \"#de77ae\"], [0.3, \"#f1b6da\"], [0.4, \"#fde0ef\"], [0.5, \"#f7f7f7\"], [0.6, \"#e6f5d0\"], [0.7, \"#b8e186\"], [0.8, \"#7fbc41\"], [0.9, \"#4d9221\"], [1, \"#276419\"]], \"sequential\": [[0.0, \"#0d0887\"], [0.1111111111111111, \"#46039f\"], [0.2222222222222222, \"#7201a8\"], [0.3333333333333333, \"#9c179e\"], [0.4444444444444444, \"#bd3786\"], [0.5555555555555556, \"#d8576b\"], [0.6666666666666666, \"#ed7953\"], [0.7777777777777778, \"#fb9f3a\"], [0.8888888888888888, \"#fdca26\"], [1.0, \"#f0f921\"]], \"sequentialminus\": [[0.0, \"#0d0887\"], [0.1111111111111111, \"#46039f\"], [0.2222222222222222, \"#7201a8\"], [0.3333333333333333, \"#9c179e\"], [0.4444444444444444, \"#bd3786\"], [0.5555555555555556, \"#d8576b\"], [0.6666666666666666, \"#ed7953\"], [0.7777777777777778, \"#fb9f3a\"], [0.8888888888888888, \"#fdca26\"], [1.0, \"#f0f921\"]]}, \"colorway\": [\"#636efa\", \"#EF553B\", \"#00cc96\", \"#ab63fa\", \"#FFA15A\", \"#19d3f3\", \"#FF6692\", \"#B6E880\", \"#FF97FF\", \"#FECB52\"], \"font\": {\"color\": \"#2a3f5f\"}, \"geo\": {\"bgcolor\": \"white\", \"lakecolor\": \"white\", \"landcolor\": \"#E5ECF6\", \"showlakes\": true, \"showland\": true, \"subunitcolor\": \"white\"}, \"hoverlabel\": {\"align\": \"left\"}, \"hovermode\": \"closest\", \"mapbox\": {\"style\": \"light\"}, \"paper_bgcolor\": \"white\", \"plot_bgcolor\": \"#E5ECF6\", \"polar\": {\"angularaxis\": {\"gridcolor\": \"white\", \"linecolor\": \"white\", \"ticks\": \"\"}, \"bgcolor\": \"#E5ECF6\", \"radialaxis\": {\"gridcolor\": \"white\", \"linecolor\": \"white\", \"ticks\": \"\"}}, \"scene\": {\"xaxis\": {\"backgroundcolor\": \"#E5ECF6\", \"gridcolor\": \"white\", \"gridwidth\": 2, \"linecolor\": \"white\", \"showbackground\": true, \"ticks\": \"\", \"zerolinecolor\": \"white\"}, \"yaxis\": {\"backgroundcolor\": \"#E5ECF6\", \"gridcolor\": \"white\", \"gridwidth\": 2, \"linecolor\": \"white\", \"showbackground\": true, \"ticks\": \"\", \"zerolinecolor\": \"white\"}, \"zaxis\": {\"backgroundcolor\": \"#E5ECF6\", \"gridcolor\": \"white\", \"gridwidth\": 2, \"linecolor\": \"white\", \"showbackground\": true, \"ticks\": \"\", \"zerolinecolor\": \"white\"}}, \"shapedefaults\": {\"line\": {\"color\": \"#2a3f5f\"}}, \"ternary\": {\"aaxis\": {\"gridcolor\": \"white\", \"linecolor\": \"white\", \"ticks\": \"\"}, \"baxis\": {\"gridcolor\": \"white\", \"linecolor\": \"white\", \"ticks\": \"\"}, \"bgcolor\": \"#E5ECF6\", \"caxis\": {\"gridcolor\": \"white\", \"linecolor\": \"white\", \"ticks\": \"\"}}, \"title\": {\"x\": 0.05}, \"xaxis\": {\"automargin\": true, \"gridcolor\": \"white\", \"linecolor\": \"white\", \"ticks\": \"\", \"title\": {\"standoff\": 15}, \"zerolinecolor\": \"white\", \"zerolinewidth\": 2}, \"yaxis\": {\"automargin\": true, \"gridcolor\": \"white\", \"linecolor\": \"white\", \"ticks\": \"\", \"title\": {\"standoff\": 15}, \"zerolinecolor\": \"white\", \"zerolinewidth\": 2}}}},\n",
              "                        {\"responsive\": true}\n",
              "                    ).then(function(){\n",
              "                            \n",
              "var gd = document.getElementById('7497c90b-7d08-4118-8884-580d0a1e43d2');\n",
              "var x = new MutationObserver(function (mutations, observer) {{\n",
              "        var display = window.getComputedStyle(gd).display;\n",
              "        if (!display || display === 'none') {{\n",
              "            console.log([gd, 'removed!']);\n",
              "            Plotly.purge(gd);\n",
              "            observer.disconnect();\n",
              "        }}\n",
              "}});\n",
              "\n",
              "// Listen for the removal of the full notebook cells\n",
              "var notebookContainer = gd.closest('#notebook-container');\n",
              "if (notebookContainer) {{\n",
              "    x.observe(notebookContainer, {childList: true});\n",
              "}}\n",
              "\n",
              "// Listen for the clearing of the current output cell\n",
              "var outputEl = gd.closest('.output');\n",
              "if (outputEl) {{\n",
              "    x.observe(outputEl, {childList: true});\n",
              "}}\n",
              "\n",
              "                        })\n",
              "                };\n",
              "                \n",
              "            </script>\n",
              "        </div>\n",
              "</body>\n",
              "</html>"
            ]
          },
          "metadata": {
            "tags": []
          }
        }
      ]
    },
    {
      "cell_type": "markdown",
      "metadata": {
        "id": "ZtIDXw_AfOwW",
        "colab_type": "text"
      },
      "source": [
        "## **5. Loadings Plot**"
      ]
    },
    {
      "cell_type": "code",
      "metadata": {
        "id": "zLT3HjU0fRj3",
        "colab_type": "code",
        "colab": {
          "base_uri": "https://localhost:8080/",
          "height": 542
        },
        "outputId": "5ed93915-1296-4b91-8c73-5b863172a69b"
      },
      "source": [
        "loadings_label = df_loadings.index\n",
        "# loadings_label = df_loadings.index.str.strip(' (cm)')\n",
        "\n",
        "fig = px.scatter_3d(df_loadings, x='PC1', y='PC2', z='PC3',\n",
        "                    text = loadings_label)\n",
        "\n",
        "fig.show()"
      ],
      "execution_count": 34,
      "outputs": [
        {
          "output_type": "display_data",
          "data": {
            "text/html": [
              "<html>\n",
              "<head><meta charset=\"utf-8\" /></head>\n",
              "<body>\n",
              "    <div>\n",
              "            <script src=\"https://cdnjs.cloudflare.com/ajax/libs/mathjax/2.7.5/MathJax.js?config=TeX-AMS-MML_SVG\"></script><script type=\"text/javascript\">if (window.MathJax) {MathJax.Hub.Config({SVG: {font: \"STIX-Web\"}});}</script>\n",
              "                <script type=\"text/javascript\">window.PlotlyConfig = {MathJaxConfig: 'local'};</script>\n",
              "        <script src=\"https://cdn.plot.ly/plotly-latest.min.js\"></script>    \n",
              "            <div id=\"3b36dee7-186d-4d93-96db-dcd96c8afb3f\" class=\"plotly-graph-div\" style=\"height:525px; width:100%;\"></div>\n",
              "            <script type=\"text/javascript\">\n",
              "                \n",
              "                    window.PLOTLYENV=window.PLOTLYENV || {};\n",
              "                    \n",
              "                if (document.getElementById(\"3b36dee7-186d-4d93-96db-dcd96c8afb3f\")) {\n",
              "                    Plotly.newPlot(\n",
              "                        '3b36dee7-186d-4d93-96db-dcd96c8afb3f',\n",
              "                        [{\"hoverlabel\": {\"namelength\": 0}, \"hovertemplate\": \"PC1=%{x}<br>PC2=%{y}<br>PC3=%{z}<br>text=%{text}\", \"legendgroup\": \"\", \"marker\": {\"color\": \"#636efa\", \"symbol\": \"circle\"}, \"mode\": \"markers+text\", \"name\": \"\", \"scene\": \"scene\", \"showlegend\": false, \"text\": [\"mean radius\", \"mean texture\", \"mean perimeter\", \"mean area\", \"mean smoothness\", \"mean compactness\", \"mean concavity\", \"mean concave points\", \"mean symmetry\", \"mean fractal dimension\", \"radius error\", \"texture error\", \"perimeter error\", \"area error\", \"smoothness error\", \"compactness error\", \"concavity error\", \"concave points error\", \"symmetry error\", \"fractal dimension error\", \"worst radius\", \"worst texture\", \"worst perimeter\", \"worst area\", \"worst smoothness\", \"worst compactness\", \"worst concavity\", \"worst concave points\", \"worst symmetry\", \"worst fractal dimension\"], \"type\": \"scatter3d\", \"x\": [0.21890244370263487, 0.10372457821335081, 0.22753729300771244, 0.22099498538609105, 0.14258969438758268, 0.23928535395542266, 0.2584004812368324, 0.2608537583706822, 0.1381669593013858, 0.06436334635400608, 0.20597877585538732, 0.01742802814741924, 0.21132591637224965, 0.20286963544579842, 0.014531452133919093, 0.17039345123876018, 0.15358978975059775, 0.18341739695227222, 0.04249842162994306, 0.10256832210461811, 0.2279966342357475, 0.10446932546282785, 0.2366396807441588, 0.2248705327368224, 0.12795256120400375, 0.21009588016510838, 0.22876753280713458, 0.250885971200416, 0.12290455638222565, 0.13178394286086212], \"y\": [-0.23385713267011682, -0.059706088103736545, -0.2151813621283529, -0.23107671142561872, 0.186113015664409, 0.15189161025265432, 0.06016536558130315, -0.03476749711389582, 0.19034877059020092, 0.3665754770051871, -0.10555215208057504, 0.08997968222913905, -0.08945723344780795, -0.1522926292820884, 0.20443045643885208, 0.23271588924500766, 0.19720728067341786, 0.1303215627342465, 0.18384800024255632, 0.2800920236846915, -0.21986637969046602, -0.04546729922457459, -0.19987842808546438, -0.21935185775809246, 0.17230434910087197, 0.1435931712775552, 0.09796411555309355, -0.008257231166142368, 0.14188334816001327, 0.27533947167712014], \"z\": [-0.008531236136244166, 0.06454990103854844, -0.009314213951251784, 0.028699525675663386, -0.10429185452336495, -0.07409157910311548, 0.002733828459575207, -0.02556354797931278, -0.04023993672125072, -0.022574158038735942, 0.2684813931061596, 0.3746336602091882, 0.26664536152350005, 0.2160065446430358, 0.3088389461596098, 0.15477977125629552, 0.17646374353432182, 0.22465753792216236, 0.2885842940787891, 0.21150381164172644, -0.04750699889013657, -0.042297813877241804, -0.04854651898530981, -0.011902336957839212, -0.2597975831773382, -0.23607561297577304, -0.17305734272526258, -0.1703440914504832, -0.27131264189050047, -0.23279133599664062]}],\n",
              "                        {\"legend\": {\"tracegroupgap\": 0}, \"margin\": {\"t\": 60}, \"scene\": {\"domain\": {\"x\": [0.0, 1.0], \"y\": [0.0, 1.0]}, \"xaxis\": {\"title\": {\"text\": \"PC1\"}}, \"yaxis\": {\"title\": {\"text\": \"PC2\"}}, \"zaxis\": {\"title\": {\"text\": \"PC3\"}}}, \"template\": {\"data\": {\"bar\": [{\"error_x\": {\"color\": \"#2a3f5f\"}, \"error_y\": {\"color\": \"#2a3f5f\"}, \"marker\": {\"line\": {\"color\": \"#E5ECF6\", \"width\": 0.5}}, \"type\": \"bar\"}], \"barpolar\": [{\"marker\": {\"line\": {\"color\": \"#E5ECF6\", \"width\": 0.5}}, \"type\": \"barpolar\"}], \"carpet\": [{\"aaxis\": {\"endlinecolor\": \"#2a3f5f\", \"gridcolor\": \"white\", \"linecolor\": \"white\", \"minorgridcolor\": \"white\", \"startlinecolor\": \"#2a3f5f\"}, \"baxis\": {\"endlinecolor\": \"#2a3f5f\", \"gridcolor\": \"white\", \"linecolor\": \"white\", \"minorgridcolor\": \"white\", \"startlinecolor\": \"#2a3f5f\"}, \"type\": \"carpet\"}], \"choropleth\": [{\"colorbar\": {\"outlinewidth\": 0, \"ticks\": \"\"}, \"type\": \"choropleth\"}], \"contour\": [{\"colorbar\": {\"outlinewidth\": 0, \"ticks\": \"\"}, \"colorscale\": [[0.0, \"#0d0887\"], [0.1111111111111111, \"#46039f\"], [0.2222222222222222, \"#7201a8\"], [0.3333333333333333, \"#9c179e\"], [0.4444444444444444, \"#bd3786\"], [0.5555555555555556, \"#d8576b\"], [0.6666666666666666, \"#ed7953\"], [0.7777777777777778, \"#fb9f3a\"], [0.8888888888888888, \"#fdca26\"], [1.0, \"#f0f921\"]], \"type\": \"contour\"}], \"contourcarpet\": [{\"colorbar\": {\"outlinewidth\": 0, \"ticks\": \"\"}, \"type\": \"contourcarpet\"}], \"heatmap\": [{\"colorbar\": {\"outlinewidth\": 0, \"ticks\": \"\"}, \"colorscale\": [[0.0, \"#0d0887\"], [0.1111111111111111, \"#46039f\"], [0.2222222222222222, \"#7201a8\"], [0.3333333333333333, \"#9c179e\"], [0.4444444444444444, \"#bd3786\"], [0.5555555555555556, \"#d8576b\"], [0.6666666666666666, \"#ed7953\"], [0.7777777777777778, \"#fb9f3a\"], [0.8888888888888888, \"#fdca26\"], [1.0, \"#f0f921\"]], \"type\": \"heatmap\"}], \"heatmapgl\": [{\"colorbar\": {\"outlinewidth\": 0, \"ticks\": \"\"}, \"colorscale\": [[0.0, \"#0d0887\"], [0.1111111111111111, \"#46039f\"], [0.2222222222222222, \"#7201a8\"], [0.3333333333333333, \"#9c179e\"], [0.4444444444444444, \"#bd3786\"], [0.5555555555555556, \"#d8576b\"], [0.6666666666666666, \"#ed7953\"], [0.7777777777777778, \"#fb9f3a\"], [0.8888888888888888, \"#fdca26\"], [1.0, \"#f0f921\"]], \"type\": \"heatmapgl\"}], \"histogram\": [{\"marker\": {\"colorbar\": {\"outlinewidth\": 0, \"ticks\": \"\"}}, \"type\": \"histogram\"}], \"histogram2d\": [{\"colorbar\": {\"outlinewidth\": 0, \"ticks\": \"\"}, \"colorscale\": [[0.0, \"#0d0887\"], [0.1111111111111111, \"#46039f\"], [0.2222222222222222, \"#7201a8\"], [0.3333333333333333, \"#9c179e\"], [0.4444444444444444, \"#bd3786\"], [0.5555555555555556, \"#d8576b\"], [0.6666666666666666, \"#ed7953\"], [0.7777777777777778, \"#fb9f3a\"], [0.8888888888888888, \"#fdca26\"], [1.0, \"#f0f921\"]], \"type\": \"histogram2d\"}], \"histogram2dcontour\": [{\"colorbar\": {\"outlinewidth\": 0, \"ticks\": \"\"}, \"colorscale\": [[0.0, \"#0d0887\"], [0.1111111111111111, \"#46039f\"], [0.2222222222222222, \"#7201a8\"], [0.3333333333333333, \"#9c179e\"], [0.4444444444444444, \"#bd3786\"], [0.5555555555555556, \"#d8576b\"], [0.6666666666666666, \"#ed7953\"], [0.7777777777777778, \"#fb9f3a\"], [0.8888888888888888, \"#fdca26\"], [1.0, \"#f0f921\"]], \"type\": \"histogram2dcontour\"}], \"mesh3d\": [{\"colorbar\": {\"outlinewidth\": 0, \"ticks\": \"\"}, \"type\": \"mesh3d\"}], \"parcoords\": [{\"line\": {\"colorbar\": {\"outlinewidth\": 0, \"ticks\": \"\"}}, \"type\": \"parcoords\"}], \"pie\": [{\"automargin\": true, \"type\": \"pie\"}], \"scatter\": [{\"marker\": {\"colorbar\": {\"outlinewidth\": 0, \"ticks\": \"\"}}, \"type\": \"scatter\"}], \"scatter3d\": [{\"line\": {\"colorbar\": {\"outlinewidth\": 0, \"ticks\": \"\"}}, \"marker\": {\"colorbar\": {\"outlinewidth\": 0, \"ticks\": \"\"}}, \"type\": \"scatter3d\"}], \"scattercarpet\": [{\"marker\": {\"colorbar\": {\"outlinewidth\": 0, \"ticks\": \"\"}}, \"type\": \"scattercarpet\"}], \"scattergeo\": [{\"marker\": {\"colorbar\": {\"outlinewidth\": 0, \"ticks\": \"\"}}, \"type\": \"scattergeo\"}], \"scattergl\": [{\"marker\": {\"colorbar\": {\"outlinewidth\": 0, \"ticks\": \"\"}}, \"type\": \"scattergl\"}], \"scattermapbox\": [{\"marker\": {\"colorbar\": {\"outlinewidth\": 0, \"ticks\": \"\"}}, \"type\": \"scattermapbox\"}], \"scatterpolar\": [{\"marker\": {\"colorbar\": {\"outlinewidth\": 0, \"ticks\": \"\"}}, \"type\": \"scatterpolar\"}], \"scatterpolargl\": [{\"marker\": {\"colorbar\": {\"outlinewidth\": 0, \"ticks\": \"\"}}, \"type\": \"scatterpolargl\"}], \"scatterternary\": [{\"marker\": {\"colorbar\": {\"outlinewidth\": 0, \"ticks\": \"\"}}, \"type\": \"scatterternary\"}], \"surface\": [{\"colorbar\": {\"outlinewidth\": 0, \"ticks\": \"\"}, \"colorscale\": [[0.0, \"#0d0887\"], [0.1111111111111111, \"#46039f\"], [0.2222222222222222, \"#7201a8\"], [0.3333333333333333, \"#9c179e\"], [0.4444444444444444, \"#bd3786\"], [0.5555555555555556, \"#d8576b\"], [0.6666666666666666, \"#ed7953\"], [0.7777777777777778, \"#fb9f3a\"], [0.8888888888888888, \"#fdca26\"], [1.0, \"#f0f921\"]], \"type\": \"surface\"}], \"table\": [{\"cells\": {\"fill\": {\"color\": \"#EBF0F8\"}, \"line\": {\"color\": \"white\"}}, \"header\": {\"fill\": {\"color\": \"#C8D4E3\"}, \"line\": {\"color\": \"white\"}}, \"type\": \"table\"}]}, \"layout\": {\"annotationdefaults\": {\"arrowcolor\": \"#2a3f5f\", \"arrowhead\": 0, \"arrowwidth\": 1}, \"coloraxis\": {\"colorbar\": {\"outlinewidth\": 0, \"ticks\": \"\"}}, \"colorscale\": {\"diverging\": [[0, \"#8e0152\"], [0.1, \"#c51b7d\"], [0.2, \"#de77ae\"], [0.3, \"#f1b6da\"], [0.4, \"#fde0ef\"], [0.5, \"#f7f7f7\"], [0.6, \"#e6f5d0\"], [0.7, \"#b8e186\"], [0.8, \"#7fbc41\"], [0.9, \"#4d9221\"], [1, \"#276419\"]], \"sequential\": [[0.0, \"#0d0887\"], [0.1111111111111111, \"#46039f\"], [0.2222222222222222, \"#7201a8\"], [0.3333333333333333, \"#9c179e\"], [0.4444444444444444, \"#bd3786\"], [0.5555555555555556, \"#d8576b\"], [0.6666666666666666, \"#ed7953\"], [0.7777777777777778, \"#fb9f3a\"], [0.8888888888888888, \"#fdca26\"], [1.0, \"#f0f921\"]], \"sequentialminus\": [[0.0, \"#0d0887\"], [0.1111111111111111, \"#46039f\"], [0.2222222222222222, \"#7201a8\"], [0.3333333333333333, \"#9c179e\"], [0.4444444444444444, \"#bd3786\"], [0.5555555555555556, \"#d8576b\"], [0.6666666666666666, \"#ed7953\"], [0.7777777777777778, \"#fb9f3a\"], [0.8888888888888888, \"#fdca26\"], [1.0, \"#f0f921\"]]}, \"colorway\": [\"#636efa\", \"#EF553B\", \"#00cc96\", \"#ab63fa\", \"#FFA15A\", \"#19d3f3\", \"#FF6692\", \"#B6E880\", \"#FF97FF\", \"#FECB52\"], \"font\": {\"color\": \"#2a3f5f\"}, \"geo\": {\"bgcolor\": \"white\", \"lakecolor\": \"white\", \"landcolor\": \"#E5ECF6\", \"showlakes\": true, \"showland\": true, \"subunitcolor\": \"white\"}, \"hoverlabel\": {\"align\": \"left\"}, \"hovermode\": \"closest\", \"mapbox\": {\"style\": \"light\"}, \"paper_bgcolor\": \"white\", \"plot_bgcolor\": \"#E5ECF6\", \"polar\": {\"angularaxis\": {\"gridcolor\": \"white\", \"linecolor\": \"white\", \"ticks\": \"\"}, \"bgcolor\": \"#E5ECF6\", \"radialaxis\": {\"gridcolor\": \"white\", \"linecolor\": \"white\", \"ticks\": \"\"}}, \"scene\": {\"xaxis\": {\"backgroundcolor\": \"#E5ECF6\", \"gridcolor\": \"white\", \"gridwidth\": 2, \"linecolor\": \"white\", \"showbackground\": true, \"ticks\": \"\", \"zerolinecolor\": \"white\"}, \"yaxis\": {\"backgroundcolor\": \"#E5ECF6\", \"gridcolor\": \"white\", \"gridwidth\": 2, \"linecolor\": \"white\", \"showbackground\": true, \"ticks\": \"\", \"zerolinecolor\": \"white\"}, \"zaxis\": {\"backgroundcolor\": \"#E5ECF6\", \"gridcolor\": \"white\", \"gridwidth\": 2, \"linecolor\": \"white\", \"showbackground\": true, \"ticks\": \"\", \"zerolinecolor\": \"white\"}}, \"shapedefaults\": {\"line\": {\"color\": \"#2a3f5f\"}}, \"ternary\": {\"aaxis\": {\"gridcolor\": \"white\", \"linecolor\": \"white\", \"ticks\": \"\"}, \"baxis\": {\"gridcolor\": \"white\", \"linecolor\": \"white\", \"ticks\": \"\"}, \"bgcolor\": \"#E5ECF6\", \"caxis\": {\"gridcolor\": \"white\", \"linecolor\": \"white\", \"ticks\": \"\"}}, \"title\": {\"x\": 0.05}, \"xaxis\": {\"automargin\": true, \"gridcolor\": \"white\", \"linecolor\": \"white\", \"ticks\": \"\", \"title\": {\"standoff\": 15}, \"zerolinecolor\": \"white\", \"zerolinewidth\": 2}, \"yaxis\": {\"automargin\": true, \"gridcolor\": \"white\", \"linecolor\": \"white\", \"ticks\": \"\", \"title\": {\"standoff\": 15}, \"zerolinecolor\": \"white\", \"zerolinewidth\": 2}}}},\n",
              "                        {\"responsive\": true}\n",
              "                    ).then(function(){\n",
              "                            \n",
              "var gd = document.getElementById('3b36dee7-186d-4d93-96db-dcd96c8afb3f');\n",
              "var x = new MutationObserver(function (mutations, observer) {{\n",
              "        var display = window.getComputedStyle(gd).display;\n",
              "        if (!display || display === 'none') {{\n",
              "            console.log([gd, 'removed!']);\n",
              "            Plotly.purge(gd);\n",
              "            observer.disconnect();\n",
              "        }}\n",
              "}});\n",
              "\n",
              "// Listen for the removal of the full notebook cells\n",
              "var notebookContainer = gd.closest('#notebook-container');\n",
              "if (notebookContainer) {{\n",
              "    x.observe(notebookContainer, {childList: true});\n",
              "}}\n",
              "\n",
              "// Listen for the clearing of the current output cell\n",
              "var outputEl = gd.closest('.output');\n",
              "if (outputEl) {{\n",
              "    x.observe(outputEl, {childList: true});\n",
              "}}\n",
              "\n",
              "                        })\n",
              "                };\n",
              "                \n",
              "            </script>\n",
              "        </div>\n",
              "</body>\n",
              "</html>"
            ]
          },
          "metadata": {
            "tags": []
          }
        }
      ]
    },
    {
      "cell_type": "markdown",
      "metadata": {
        "id": "zKCQCAE7pADa",
        "colab_type": "text"
      },
      "source": [
        "---"
      ]
    }
  ]
}